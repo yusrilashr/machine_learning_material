{
  "cells": [
    {
      "cell_type": "markdown",
      "metadata": {
        "id": "QUHp1J9Mwr4P"
      },
      "source": [
        "# **Machine Learning**\n",
        "\n",
        "studi yang mempelajari tentang bagaimana komputer belajar tanpa program yang eksplisit. ML dapat dipelajari dari Experience (E) dengan beberapa class dari Task (T) dan performence measure (P). jika performa dalam Task (T) diukur dengan (P), maka (P) dapat di improve dengan (E)."
      ]
    },
    {
      "cell_type": "markdown",
      "metadata": {
        "id": "of9Q2AnQy6Uj"
      },
      "source": [
        "## **Learning Problem**\n",
        "\n",
        "Dalam konteks Machine Learning, melibatkan suatu dataset yang terdiri dari sejumlah n dalam data untuk memprediksi terhadap properties yang tidak diketahui pada dataset lain yang sejenis.\n",
        "\n",
        "Secara umum Learning Problem dibagi menjadi 2 yaitu:\n",
        "*   **Supervised Learning**\n",
        "\n",
        "  program memprediksi output untuk suatu input berdasarkan proses  learning dengan memanfaatkan sekumpulan data yang terbagi dalam dua tabel yaitu output dan input. Disini program melakukan learning dari sekumpulan kasus yang menyertakan jawaban benar\n",
        "*   **Unsupervised Learning**\n",
        "\n",
        "  program tidak melakukan learning dari labeled data, melainkan mencoba menemukan pola pada data. isini program melakukan learning dari sekumpulan kasus tanpa menyertakan jawaban benar\n",
        "\n"
      ]
    },
    {
      "cell_type": "markdown",
      "metadata": {
        "id": "zryYyaRQNRn6"
      },
      "source": [
        "### **Terminologi Dasar pada Supervised Machine Learning**\n",
        "\n",
        "*  **Output**\n",
        "\n",
        "  label, respon variable, regressand, criterion variable, measured variable.\n",
        "*   **Input**\n",
        "\n",
        "  features, explenatory variable, predictors, controlled variable, and exposure variables\n",
        "* **train set**\n",
        "\n",
        "  sekumpulan contoh yang digunakan dalam proses learning pada supervised learning\n",
        "\n",
        "* **test set**\n",
        "  \n",
        "  sekumpulan contoh yang digunakan untuk mengukur performa pada supervised learning\n",
        "\n",
        "\n",
        "* respon variable dapat dijadikan sebagai kunci jawaban dan dan explanatory variable dapat digunakan menjadi pertanyaan"
      ]
    },
    {
      "cell_type": "markdown",
      "metadata": {
        "id": "3IcbP94HQiHz"
      },
      "source": [
        "### **Supervised ML Tasks**\n",
        "\n",
        "* **Classification**\n",
        "  \n",
        "  menekankan pada proses learning atau training untuk melakukan prediksi nilai discrete dari sejumlah features\n",
        "\n",
        "* **Regression Task**\n",
        "  \n",
        "  menekankan pada proses learning untuk melakuka prediksi nilai continues dari sejumlah features"
      ]
    },
    {
      "cell_type": "markdown",
      "metadata": {
        "id": "EyQEU8u3RZim"
      },
      "source": [
        "### **Unsupervised ML Tasks**\n",
        "\n",
        "* **Clastering**\n",
        "  \n",
        "  menekankan pada proses eksplorasi data untuk menemukan kelompok pada data berdasarkan kemiripan atau kedekatan karakteristik\n",
        "\n",
        "* **Dimensionally Reduction Task**\n",
        "  \n",
        "  menekankan pada proses eksplorasi data untuk menemukan sejumlah features yang paling berdampak terhadap response variable"
      ]
    },
    {
      "cell_type": "markdown",
      "metadata": {
        "id": "-9H36aAKDOQe"
      },
      "source": [
        "## **Let's Try**"
      ]
    },
    {
      "cell_type": "code",
      "execution_count": 1,
      "metadata": {
        "colab": {
          "base_uri": "https://localhost:8080/"
        },
        "id": "qGvo0YOTSHrv",
        "outputId": "4ede5a7f-6153-4508-ea98-f13af4347903"
      },
      "outputs": [
        {
          "output_type": "execute_result",
          "data": {
            "text/plain": [
              "{'data': array([[5.1, 3.5, 1.4, 0.2],\n",
              "        [4.9, 3. , 1.4, 0.2],\n",
              "        [4.7, 3.2, 1.3, 0.2],\n",
              "        [4.6, 3.1, 1.5, 0.2],\n",
              "        [5. , 3.6, 1.4, 0.2],\n",
              "        [5.4, 3.9, 1.7, 0.4],\n",
              "        [4.6, 3.4, 1.4, 0.3],\n",
              "        [5. , 3.4, 1.5, 0.2],\n",
              "        [4.4, 2.9, 1.4, 0.2],\n",
              "        [4.9, 3.1, 1.5, 0.1],\n",
              "        [5.4, 3.7, 1.5, 0.2],\n",
              "        [4.8, 3.4, 1.6, 0.2],\n",
              "        [4.8, 3. , 1.4, 0.1],\n",
              "        [4.3, 3. , 1.1, 0.1],\n",
              "        [5.8, 4. , 1.2, 0.2],\n",
              "        [5.7, 4.4, 1.5, 0.4],\n",
              "        [5.4, 3.9, 1.3, 0.4],\n",
              "        [5.1, 3.5, 1.4, 0.3],\n",
              "        [5.7, 3.8, 1.7, 0.3],\n",
              "        [5.1, 3.8, 1.5, 0.3],\n",
              "        [5.4, 3.4, 1.7, 0.2],\n",
              "        [5.1, 3.7, 1.5, 0.4],\n",
              "        [4.6, 3.6, 1. , 0.2],\n",
              "        [5.1, 3.3, 1.7, 0.5],\n",
              "        [4.8, 3.4, 1.9, 0.2],\n",
              "        [5. , 3. , 1.6, 0.2],\n",
              "        [5. , 3.4, 1.6, 0.4],\n",
              "        [5.2, 3.5, 1.5, 0.2],\n",
              "        [5.2, 3.4, 1.4, 0.2],\n",
              "        [4.7, 3.2, 1.6, 0.2],\n",
              "        [4.8, 3.1, 1.6, 0.2],\n",
              "        [5.4, 3.4, 1.5, 0.4],\n",
              "        [5.2, 4.1, 1.5, 0.1],\n",
              "        [5.5, 4.2, 1.4, 0.2],\n",
              "        [4.9, 3.1, 1.5, 0.2],\n",
              "        [5. , 3.2, 1.2, 0.2],\n",
              "        [5.5, 3.5, 1.3, 0.2],\n",
              "        [4.9, 3.6, 1.4, 0.1],\n",
              "        [4.4, 3. , 1.3, 0.2],\n",
              "        [5.1, 3.4, 1.5, 0.2],\n",
              "        [5. , 3.5, 1.3, 0.3],\n",
              "        [4.5, 2.3, 1.3, 0.3],\n",
              "        [4.4, 3.2, 1.3, 0.2],\n",
              "        [5. , 3.5, 1.6, 0.6],\n",
              "        [5.1, 3.8, 1.9, 0.4],\n",
              "        [4.8, 3. , 1.4, 0.3],\n",
              "        [5.1, 3.8, 1.6, 0.2],\n",
              "        [4.6, 3.2, 1.4, 0.2],\n",
              "        [5.3, 3.7, 1.5, 0.2],\n",
              "        [5. , 3.3, 1.4, 0.2],\n",
              "        [7. , 3.2, 4.7, 1.4],\n",
              "        [6.4, 3.2, 4.5, 1.5],\n",
              "        [6.9, 3.1, 4.9, 1.5],\n",
              "        [5.5, 2.3, 4. , 1.3],\n",
              "        [6.5, 2.8, 4.6, 1.5],\n",
              "        [5.7, 2.8, 4.5, 1.3],\n",
              "        [6.3, 3.3, 4.7, 1.6],\n",
              "        [4.9, 2.4, 3.3, 1. ],\n",
              "        [6.6, 2.9, 4.6, 1.3],\n",
              "        [5.2, 2.7, 3.9, 1.4],\n",
              "        [5. , 2. , 3.5, 1. ],\n",
              "        [5.9, 3. , 4.2, 1.5],\n",
              "        [6. , 2.2, 4. , 1. ],\n",
              "        [6.1, 2.9, 4.7, 1.4],\n",
              "        [5.6, 2.9, 3.6, 1.3],\n",
              "        [6.7, 3.1, 4.4, 1.4],\n",
              "        [5.6, 3. , 4.5, 1.5],\n",
              "        [5.8, 2.7, 4.1, 1. ],\n",
              "        [6.2, 2.2, 4.5, 1.5],\n",
              "        [5.6, 2.5, 3.9, 1.1],\n",
              "        [5.9, 3.2, 4.8, 1.8],\n",
              "        [6.1, 2.8, 4. , 1.3],\n",
              "        [6.3, 2.5, 4.9, 1.5],\n",
              "        [6.1, 2.8, 4.7, 1.2],\n",
              "        [6.4, 2.9, 4.3, 1.3],\n",
              "        [6.6, 3. , 4.4, 1.4],\n",
              "        [6.8, 2.8, 4.8, 1.4],\n",
              "        [6.7, 3. , 5. , 1.7],\n",
              "        [6. , 2.9, 4.5, 1.5],\n",
              "        [5.7, 2.6, 3.5, 1. ],\n",
              "        [5.5, 2.4, 3.8, 1.1],\n",
              "        [5.5, 2.4, 3.7, 1. ],\n",
              "        [5.8, 2.7, 3.9, 1.2],\n",
              "        [6. , 2.7, 5.1, 1.6],\n",
              "        [5.4, 3. , 4.5, 1.5],\n",
              "        [6. , 3.4, 4.5, 1.6],\n",
              "        [6.7, 3.1, 4.7, 1.5],\n",
              "        [6.3, 2.3, 4.4, 1.3],\n",
              "        [5.6, 3. , 4.1, 1.3],\n",
              "        [5.5, 2.5, 4. , 1.3],\n",
              "        [5.5, 2.6, 4.4, 1.2],\n",
              "        [6.1, 3. , 4.6, 1.4],\n",
              "        [5.8, 2.6, 4. , 1.2],\n",
              "        [5. , 2.3, 3.3, 1. ],\n",
              "        [5.6, 2.7, 4.2, 1.3],\n",
              "        [5.7, 3. , 4.2, 1.2],\n",
              "        [5.7, 2.9, 4.2, 1.3],\n",
              "        [6.2, 2.9, 4.3, 1.3],\n",
              "        [5.1, 2.5, 3. , 1.1],\n",
              "        [5.7, 2.8, 4.1, 1.3],\n",
              "        [6.3, 3.3, 6. , 2.5],\n",
              "        [5.8, 2.7, 5.1, 1.9],\n",
              "        [7.1, 3. , 5.9, 2.1],\n",
              "        [6.3, 2.9, 5.6, 1.8],\n",
              "        [6.5, 3. , 5.8, 2.2],\n",
              "        [7.6, 3. , 6.6, 2.1],\n",
              "        [4.9, 2.5, 4.5, 1.7],\n",
              "        [7.3, 2.9, 6.3, 1.8],\n",
              "        [6.7, 2.5, 5.8, 1.8],\n",
              "        [7.2, 3.6, 6.1, 2.5],\n",
              "        [6.5, 3.2, 5.1, 2. ],\n",
              "        [6.4, 2.7, 5.3, 1.9],\n",
              "        [6.8, 3. , 5.5, 2.1],\n",
              "        [5.7, 2.5, 5. , 2. ],\n",
              "        [5.8, 2.8, 5.1, 2.4],\n",
              "        [6.4, 3.2, 5.3, 2.3],\n",
              "        [6.5, 3. , 5.5, 1.8],\n",
              "        [7.7, 3.8, 6.7, 2.2],\n",
              "        [7.7, 2.6, 6.9, 2.3],\n",
              "        [6. , 2.2, 5. , 1.5],\n",
              "        [6.9, 3.2, 5.7, 2.3],\n",
              "        [5.6, 2.8, 4.9, 2. ],\n",
              "        [7.7, 2.8, 6.7, 2. ],\n",
              "        [6.3, 2.7, 4.9, 1.8],\n",
              "        [6.7, 3.3, 5.7, 2.1],\n",
              "        [7.2, 3.2, 6. , 1.8],\n",
              "        [6.2, 2.8, 4.8, 1.8],\n",
              "        [6.1, 3. , 4.9, 1.8],\n",
              "        [6.4, 2.8, 5.6, 2.1],\n",
              "        [7.2, 3. , 5.8, 1.6],\n",
              "        [7.4, 2.8, 6.1, 1.9],\n",
              "        [7.9, 3.8, 6.4, 2. ],\n",
              "        [6.4, 2.8, 5.6, 2.2],\n",
              "        [6.3, 2.8, 5.1, 1.5],\n",
              "        [6.1, 2.6, 5.6, 1.4],\n",
              "        [7.7, 3. , 6.1, 2.3],\n",
              "        [6.3, 3.4, 5.6, 2.4],\n",
              "        [6.4, 3.1, 5.5, 1.8],\n",
              "        [6. , 3. , 4.8, 1.8],\n",
              "        [6.9, 3.1, 5.4, 2.1],\n",
              "        [6.7, 3.1, 5.6, 2.4],\n",
              "        [6.9, 3.1, 5.1, 2.3],\n",
              "        [5.8, 2.7, 5.1, 1.9],\n",
              "        [6.8, 3.2, 5.9, 2.3],\n",
              "        [6.7, 3.3, 5.7, 2.5],\n",
              "        [6.7, 3. , 5.2, 2.3],\n",
              "        [6.3, 2.5, 5. , 1.9],\n",
              "        [6.5, 3. , 5.2, 2. ],\n",
              "        [6.2, 3.4, 5.4, 2.3],\n",
              "        [5.9, 3. , 5.1, 1.8]]),\n",
              " 'target': array([0, 0, 0, 0, 0, 0, 0, 0, 0, 0, 0, 0, 0, 0, 0, 0, 0, 0, 0, 0, 0, 0,\n",
              "        0, 0, 0, 0, 0, 0, 0, 0, 0, 0, 0, 0, 0, 0, 0, 0, 0, 0, 0, 0, 0, 0,\n",
              "        0, 0, 0, 0, 0, 0, 1, 1, 1, 1, 1, 1, 1, 1, 1, 1, 1, 1, 1, 1, 1, 1,\n",
              "        1, 1, 1, 1, 1, 1, 1, 1, 1, 1, 1, 1, 1, 1, 1, 1, 1, 1, 1, 1, 1, 1,\n",
              "        1, 1, 1, 1, 1, 1, 1, 1, 1, 1, 1, 1, 2, 2, 2, 2, 2, 2, 2, 2, 2, 2,\n",
              "        2, 2, 2, 2, 2, 2, 2, 2, 2, 2, 2, 2, 2, 2, 2, 2, 2, 2, 2, 2, 2, 2,\n",
              "        2, 2, 2, 2, 2, 2, 2, 2, 2, 2, 2, 2, 2, 2, 2, 2, 2, 2]),\n",
              " 'frame': None,\n",
              " 'target_names': array(['setosa', 'versicolor', 'virginica'], dtype='<U10'),\n",
              " 'DESCR': '.. _iris_dataset:\\n\\nIris plants dataset\\n--------------------\\n\\n**Data Set Characteristics:**\\n\\n    :Number of Instances: 150 (50 in each of three classes)\\n    :Number of Attributes: 4 numeric, predictive attributes and the class\\n    :Attribute Information:\\n        - sepal length in cm\\n        - sepal width in cm\\n        - petal length in cm\\n        - petal width in cm\\n        - class:\\n                - Iris-Setosa\\n                - Iris-Versicolour\\n                - Iris-Virginica\\n                \\n    :Summary Statistics:\\n\\n    ============== ==== ==== ======= ===== ====================\\n                    Min  Max   Mean    SD   Class Correlation\\n    ============== ==== ==== ======= ===== ====================\\n    sepal length:   4.3  7.9   5.84   0.83    0.7826\\n    sepal width:    2.0  4.4   3.05   0.43   -0.4194\\n    petal length:   1.0  6.9   3.76   1.76    0.9490  (high!)\\n    petal width:    0.1  2.5   1.20   0.76    0.9565  (high!)\\n    ============== ==== ==== ======= ===== ====================\\n\\n    :Missing Attribute Values: None\\n    :Class Distribution: 33.3% for each of 3 classes.\\n    :Creator: R.A. Fisher\\n    :Donor: Michael Marshall (MARSHALL%PLU@io.arc.nasa.gov)\\n    :Date: July, 1988\\n\\nThe famous Iris database, first used by Sir R.A. Fisher. The dataset is taken\\nfrom Fisher\\'s paper. Note that it\\'s the same as in R, but not as in the UCI\\nMachine Learning Repository, which has two wrong data points.\\n\\nThis is perhaps the best known database to be found in the\\npattern recognition literature.  Fisher\\'s paper is a classic in the field and\\nis referenced frequently to this day.  (See Duda & Hart, for example.)  The\\ndata set contains 3 classes of 50 instances each, where each class refers to a\\ntype of iris plant.  One class is linearly separable from the other 2; the\\nlatter are NOT linearly separable from each other.\\n\\n.. topic:: References\\n\\n   - Fisher, R.A. \"The use of multiple measurements in taxonomic problems\"\\n     Annual Eugenics, 7, Part II, 179-188 (1936); also in \"Contributions to\\n     Mathematical Statistics\" (John Wiley, NY, 1950).\\n   - Duda, R.O., & Hart, P.E. (1973) Pattern Classification and Scene Analysis.\\n     (Q327.D83) John Wiley & Sons.  ISBN 0-471-22361-1.  See page 218.\\n   - Dasarathy, B.V. (1980) \"Nosing Around the Neighborhood: A New System\\n     Structure and Classification Rule for Recognition in Partially Exposed\\n     Environments\".  IEEE Transactions on Pattern Analysis and Machine\\n     Intelligence, Vol. PAMI-2, No. 1, 67-71.\\n   - Gates, G.W. (1972) \"The Reduced Nearest Neighbor Rule\".  IEEE Transactions\\n     on Information Theory, May 1972, 431-433.\\n   - See also: 1988 MLC Proceedings, 54-64.  Cheeseman et al\"s AUTOCLASS II\\n     conceptual clustering system finds 3 classes in the data.\\n   - Many, many more ...',\n",
              " 'feature_names': ['sepal length (cm)',\n",
              "  'sepal width (cm)',\n",
              "  'petal length (cm)',\n",
              "  'petal width (cm)'],\n",
              " 'filename': 'iris.csv',\n",
              " 'data_module': 'sklearn.datasets.data'}"
            ]
          },
          "metadata": {},
          "execution_count": 1
        }
      ],
      "source": [
        "from sklearn.datasets import load_iris\n",
        "iris = load_iris()\n",
        "\n",
        "iris"
      ]
    },
    {
      "cell_type": "code",
      "execution_count": 2,
      "metadata": {
        "colab": {
          "base_uri": "https://localhost:8080/"
        },
        "id": "QHKgZtNlDeD6",
        "outputId": "81f94b26-6bf0-49cc-f6bd-f140769ea967"
      },
      "outputs": [
        {
          "output_type": "execute_result",
          "data": {
            "text/plain": [
              "dict_keys(['data', 'target', 'frame', 'target_names', 'DESCR', 'feature_names', 'filename', 'data_module'])"
            ]
          },
          "metadata": {},
          "execution_count": 2
        }
      ],
      "source": [
        "iris.keys()"
      ]
    },
    {
      "cell_type": "code",
      "execution_count": 3,
      "metadata": {
        "colab": {
          "base_uri": "https://localhost:8080/"
        },
        "id": "3RMztCw1DqWF",
        "outputId": "d124482d-70dd-4156-9459-ff9bf6473639"
      },
      "outputs": [
        {
          "output_type": "stream",
          "name": "stdout",
          "text": [
            ".. _iris_dataset:\n",
            "\n",
            "Iris plants dataset\n",
            "--------------------\n",
            "\n",
            "**Data Set Characteristics:**\n",
            "\n",
            "    :Number of Instances: 150 (50 in each of three classes)\n",
            "    :Number of Attributes: 4 numeric, predictive attributes and the class\n",
            "    :Attribute Information:\n",
            "        - sepal length in cm\n",
            "        - sepal width in cm\n",
            "        - petal length in cm\n",
            "        - petal width in cm\n",
            "        - class:\n",
            "                - Iris-Setosa\n",
            "                - Iris-Versicolour\n",
            "                - Iris-Virginica\n",
            "                \n",
            "    :Summary Statistics:\n",
            "\n",
            "    ============== ==== ==== ======= ===== ====================\n",
            "                    Min  Max   Mean    SD   Class Correlation\n",
            "    ============== ==== ==== ======= ===== ====================\n",
            "    sepal length:   4.3  7.9   5.84   0.83    0.7826\n",
            "    sepal width:    2.0  4.4   3.05   0.43   -0.4194\n",
            "    petal length:   1.0  6.9   3.76   1.76    0.9490  (high!)\n",
            "    petal width:    0.1  2.5   1.20   0.76    0.9565  (high!)\n",
            "    ============== ==== ==== ======= ===== ====================\n",
            "\n",
            "    :Missing Attribute Values: None\n",
            "    :Class Distribution: 33.3% for each of 3 classes.\n",
            "    :Creator: R.A. Fisher\n",
            "    :Donor: Michael Marshall (MARSHALL%PLU@io.arc.nasa.gov)\n",
            "    :Date: July, 1988\n",
            "\n",
            "The famous Iris database, first used by Sir R.A. Fisher. The dataset is taken\n",
            "from Fisher's paper. Note that it's the same as in R, but not as in the UCI\n",
            "Machine Learning Repository, which has two wrong data points.\n",
            "\n",
            "This is perhaps the best known database to be found in the\n",
            "pattern recognition literature.  Fisher's paper is a classic in the field and\n",
            "is referenced frequently to this day.  (See Duda & Hart, for example.)  The\n",
            "data set contains 3 classes of 50 instances each, where each class refers to a\n",
            "type of iris plant.  One class is linearly separable from the other 2; the\n",
            "latter are NOT linearly separable from each other.\n",
            "\n",
            ".. topic:: References\n",
            "\n",
            "   - Fisher, R.A. \"The use of multiple measurements in taxonomic problems\"\n",
            "     Annual Eugenics, 7, Part II, 179-188 (1936); also in \"Contributions to\n",
            "     Mathematical Statistics\" (John Wiley, NY, 1950).\n",
            "   - Duda, R.O., & Hart, P.E. (1973) Pattern Classification and Scene Analysis.\n",
            "     (Q327.D83) John Wiley & Sons.  ISBN 0-471-22361-1.  See page 218.\n",
            "   - Dasarathy, B.V. (1980) \"Nosing Around the Neighborhood: A New System\n",
            "     Structure and Classification Rule for Recognition in Partially Exposed\n",
            "     Environments\".  IEEE Transactions on Pattern Analysis and Machine\n",
            "     Intelligence, Vol. PAMI-2, No. 1, 67-71.\n",
            "   - Gates, G.W. (1972) \"The Reduced Nearest Neighbor Rule\".  IEEE Transactions\n",
            "     on Information Theory, May 1972, 431-433.\n",
            "   - See also: 1988 MLC Proceedings, 54-64.  Cheeseman et al\"s AUTOCLASS II\n",
            "     conceptual clustering system finds 3 classes in the data.\n",
            "   - Many, many more ...\n"
          ]
        }
      ],
      "source": [
        "print(iris.DESCR)"
      ]
    },
    {
      "cell_type": "code",
      "execution_count": 4,
      "metadata": {
        "colab": {
          "base_uri": "https://localhost:8080/"
        },
        "id": "jFzG_tnkD4KX",
        "outputId": "c3eb5f8d-d53c-427d-89a0-51697a6e12c9"
      },
      "outputs": [
        {
          "output_type": "execute_result",
          "data": {
            "text/plain": [
              "(150, 4)"
            ]
          },
          "metadata": {},
          "execution_count": 4
        }
      ],
      "source": [
        "X = iris.data\n",
        "X.shape"
      ]
    },
    {
      "cell_type": "code",
      "execution_count": 5,
      "metadata": {
        "colab": {
          "base_uri": "https://localhost:8080/"
        },
        "id": "f2YjTVIJEGby",
        "outputId": "abbfb964-5d4f-45ee-a3d4-8c352b8ddef0"
      },
      "outputs": [
        {
          "output_type": "execute_result",
          "data": {
            "text/plain": [
              "(150,)"
            ]
          },
          "metadata": {},
          "execution_count": 5
        }
      ],
      "source": [
        "y = iris.target\n",
        "y.shape"
      ]
    },
    {
      "cell_type": "code",
      "execution_count": 6,
      "metadata": {
        "colab": {
          "base_uri": "https://localhost:8080/"
        },
        "id": "1n6UVdz7EKDt",
        "outputId": "98b7f607-46cf-4c60-bc18-90e14ad81f3f"
      },
      "outputs": [
        {
          "output_type": "execute_result",
          "data": {
            "text/plain": [
              "['sepal length (cm)',\n",
              " 'sepal width (cm)',\n",
              " 'petal length (cm)',\n",
              " 'petal width (cm)']"
            ]
          },
          "metadata": {},
          "execution_count": 6
        }
      ],
      "source": [
        "features_names = iris.feature_names\n",
        "features_names"
      ]
    },
    {
      "cell_type": "code",
      "execution_count": 7,
      "metadata": {
        "colab": {
          "base_uri": "https://localhost:8080/"
        },
        "id": "tCRs3vBvEY5s",
        "outputId": "facfbea9-9ce2-4e4f-d1e1-f5812a7f352a"
      },
      "outputs": [
        {
          "output_type": "execute_result",
          "data": {
            "text/plain": [
              "array(['setosa', 'versicolor', 'virginica'], dtype='<U10')"
            ]
          },
          "metadata": {},
          "execution_count": 7
        }
      ],
      "source": [
        "target_names = iris.target_names\n",
        "target_names"
      ]
    },
    {
      "cell_type": "code",
      "execution_count": 8,
      "metadata": {
        "colab": {
          "base_uri": "https://localhost:8080/",
          "height": 449
        },
        "id": "qbi-Mfb_Efph",
        "outputId": "a93fd322-01bb-4964-a36b-00ddbab978f8"
      },
      "outputs": [
        {
          "output_type": "display_data",
          "data": {
            "text/plain": [
              "<Figure size 640x480 with 1 Axes>"
            ],
            "image/png": "[encoded data removed]"
          },
          "metadata": {}
        }
      ],
      "source": [
        "import matplotlib.pyplot as plt\n",
        "X = X[:, :2]\n",
        "\n",
        "x_min, x_max = X[:, 0].min() - 0.5, X[:,0].max() + 0.5\n",
        "y_min, y_max = X[:, 1].min() - 0.5, X[:, 1].max() + 0.5\n",
        "\n",
        "plt.scatter(X[:,0], X[:,1], c = y)\n",
        "plt.xlabel('Sepal Length')\n",
        "plt.ylabel('Sepal Width')\n",
        "\n",
        "plt.xlim(x_min, x_max)\n",
        "plt.ylim(y_min, y_max)\n",
        "plt.show()"
      ]
    },
    {
      "cell_type": "code",
      "execution_count": 9,
      "metadata": {
        "colab": {
          "base_uri": "https://localhost:8080/"
        },
        "id": "ieAzFGdNF9CA",
        "outputId": "3cdc9541-8789-43fc-e49f-d46729c24c5d"
      },
      "outputs": [
        {
          "output_type": "stream",
          "name": "stdout",
          "text": [
            "X_train : (105, 2)\n",
            "X_test : (45, 2)\n",
            "y_train : (105,)\n",
            "y_test : (45,)\n"
          ]
        }
      ],
      "source": [
        "from sklearn.model_selection import train_test_split\n",
        "X_train, X_test, y_train, y_test = train_test_split(X, #features\n",
        "                                                    y, #target\n",
        "                                                    test_size = 0.3, #merepresentasikan ukuran dari testing set nya, artinya 30% dari data yaitu test set, sedangkan 70% yaitu train set\n",
        "                                                    random_state =  1) #melakukan pengacakan secara konsisten\n",
        "\n",
        "print(f'X_train : {X_train.shape}')\n",
        "print(f'X_test : {X_test.shape}')\n",
        "print(f'y_train : {y_train.shape}')\n",
        "print(f'y_test : {y_test.shape}')"
      ]
    },
    {
      "cell_type": "code",
      "execution_count": 10,
      "metadata": {
        "colab": {
          "base_uri": "https://localhost:8080/"
        },
        "id": "lTUxN90BHO1z",
        "outputId": "2b67509f-14d6-4133-daae-76c59a1f88f4"
      },
      "outputs": [
        {
          "output_type": "execute_result",
          "data": {
            "text/plain": [
              "{'data':      sepal length (cm)  sepal width (cm)  petal length (cm)  petal width (cm)\n",
              " 0                  5.1               3.5                1.4               0.2\n",
              " 1                  4.9               3.0                1.4               0.2\n",
              " 2                  4.7               3.2                1.3               0.2\n",
              " 3                  4.6               3.1                1.5               0.2\n",
              " 4                  5.0               3.6                1.4               0.2\n",
              " ..                 ...               ...                ...               ...\n",
              " 145                6.7               3.0                5.2               2.3\n",
              " 146                6.3               2.5                5.0               1.9\n",
              " 147                6.5               3.0                5.2               2.0\n",
              " 148                6.2               3.4                5.4               2.3\n",
              " 149                5.9               3.0                5.1               1.8\n",
              " \n",
              " [150 rows x 4 columns],\n",
              " 'target': 0      0\n",
              " 1      0\n",
              " 2      0\n",
              " 3      0\n",
              " 4      0\n",
              "       ..\n",
              " 145    2\n",
              " 146    2\n",
              " 147    2\n",
              " 148    2\n",
              " 149    2\n",
              " Name: target, Length: 150, dtype: int64,\n",
              " 'frame':      sepal length (cm)  sepal width (cm)  petal length (cm)  petal width (cm)  \\\n",
              " 0                  5.1               3.5                1.4               0.2   \n",
              " 1                  4.9               3.0                1.4               0.2   \n",
              " 2                  4.7               3.2                1.3               0.2   \n",
              " 3                  4.6               3.1                1.5               0.2   \n",
              " 4                  5.0               3.6                1.4               0.2   \n",
              " ..                 ...               ...                ...               ...   \n",
              " 145                6.7               3.0                5.2               2.3   \n",
              " 146                6.3               2.5                5.0               1.9   \n",
              " 147                6.5               3.0                5.2               2.0   \n",
              " 148                6.2               3.4                5.4               2.3   \n",
              " 149                5.9               3.0                5.1               1.8   \n",
              " \n",
              "      target  \n",
              " 0         0  \n",
              " 1         0  \n",
              " 2         0  \n",
              " 3         0  \n",
              " 4         0  \n",
              " ..      ...  \n",
              " 145       2  \n",
              " 146       2  \n",
              " 147       2  \n",
              " 148       2  \n",
              " 149       2  \n",
              " \n",
              " [150 rows x 5 columns],\n",
              " 'target_names': array(['setosa', 'versicolor', 'virginica'], dtype='<U10'),\n",
              " 'DESCR': '.. _iris_dataset:\\n\\nIris plants dataset\\n--------------------\\n\\n**Data Set Characteristics:**\\n\\n    :Number of Instances: 150 (50 in each of three classes)\\n    :Number of Attributes: 4 numeric, predictive attributes and the class\\n    :Attribute Information:\\n        - sepal length in cm\\n        - sepal width in cm\\n        - petal length in cm\\n        - petal width in cm\\n        - class:\\n                - Iris-Setosa\\n                - Iris-Versicolour\\n                - Iris-Virginica\\n                \\n    :Summary Statistics:\\n\\n    ============== ==== ==== ======= ===== ====================\\n                    Min  Max   Mean    SD   Class Correlation\\n    ============== ==== ==== ======= ===== ====================\\n    sepal length:   4.3  7.9   5.84   0.83    0.7826\\n    sepal width:    2.0  4.4   3.05   0.43   -0.4194\\n    petal length:   1.0  6.9   3.76   1.76    0.9490  (high!)\\n    petal width:    0.1  2.5   1.20   0.76    0.9565  (high!)\\n    ============== ==== ==== ======= ===== ====================\\n\\n    :Missing Attribute Values: None\\n    :Class Distribution: 33.3% for each of 3 classes.\\n    :Creator: R.A. Fisher\\n    :Donor: Michael Marshall (MARSHALL%PLU@io.arc.nasa.gov)\\n    :Date: July, 1988\\n\\nThe famous Iris database, first used by Sir R.A. Fisher. The dataset is taken\\nfrom Fisher\\'s paper. Note that it\\'s the same as in R, but not as in the UCI\\nMachine Learning Repository, which has two wrong data points.\\n\\nThis is perhaps the best known database to be found in the\\npattern recognition literature.  Fisher\\'s paper is a classic in the field and\\nis referenced frequently to this day.  (See Duda & Hart, for example.)  The\\ndata set contains 3 classes of 50 instances each, where each class refers to a\\ntype of iris plant.  One class is linearly separable from the other 2; the\\nlatter are NOT linearly separable from each other.\\n\\n.. topic:: References\\n\\n   - Fisher, R.A. \"The use of multiple measurements in taxonomic problems\"\\n     Annual Eugenics, 7, Part II, 179-188 (1936); also in \"Contributions to\\n     Mathematical Statistics\" (John Wiley, NY, 1950).\\n   - Duda, R.O., & Hart, P.E. (1973) Pattern Classification and Scene Analysis.\\n     (Q327.D83) John Wiley & Sons.  ISBN 0-471-22361-1.  See page 218.\\n   - Dasarathy, B.V. (1980) \"Nosing Around the Neighborhood: A New System\\n     Structure and Classification Rule for Recognition in Partially Exposed\\n     Environments\".  IEEE Transactions on Pattern Analysis and Machine\\n     Intelligence, Vol. PAMI-2, No. 1, 67-71.\\n   - Gates, G.W. (1972) \"The Reduced Nearest Neighbor Rule\".  IEEE Transactions\\n     on Information Theory, May 1972, 431-433.\\n   - See also: 1988 MLC Proceedings, 54-64.  Cheeseman et al\"s AUTOCLASS II\\n     conceptual clustering system finds 3 classes in the data.\\n   - Many, many more ...',\n",
              " 'feature_names': ['sepal length (cm)',\n",
              "  'sepal width (cm)',\n",
              "  'petal length (cm)',\n",
              "  'petal width (cm)'],\n",
              " 'filename': 'iris.csv',\n",
              " 'data_module': 'sklearn.datasets.data'}"
            ]
          },
          "metadata": {},
          "execution_count": 10
        }
      ],
      "source": [
        "import pandas as pd\n",
        "iris_df = load_iris(as_frame = True)\n",
        "\n",
        "iris_df"
      ]
    },
    {
      "cell_type": "markdown",
      "metadata": {
        "id": "r80fY13oKiVF"
      },
      "source": [
        "## **How the Workflow with SKlearn**"
      ]
    },
    {
      "cell_type": "code",
      "execution_count": 11,
      "metadata": {
        "id": "-IysfOV0RWaW"
      },
      "outputs": [],
      "source": [
        "from sklearn.datasets import load_iris\n",
        "\n",
        "iris = load_iris()\n",
        "\n",
        "X = iris.data\n",
        "y = iris.target"
      ]
    },
    {
      "cell_type": "code",
      "execution_count": 12,
      "metadata": {
        "id": "59znjU1xJe07"
      },
      "outputs": [],
      "source": [
        "from sklearn.model_selection import train_test_split\n",
        "X_train, X_test, y_train, y_test = train_test_split(X,\n",
        "                                                    y,\n",
        "                                                    test_size = 0.4,\n",
        "                                                    random_state = 1)"
      ]
    },
    {
      "cell_type": "markdown",
      "metadata": {
        "id": "6a_B49i5RqAY"
      },
      "source": [
        "Training Model\n",
        "\n",
        "* Model Machine Learning dibentuk menjadi dari class yang yang dikenal sebagai estimator\n",
        "\n",
        "* setiap estimator akan mengimplementasi 2 method utama yaitu fit() dan predict()\n",
        "\n",
        "* fit() saat melakukan training model\n",
        "\n",
        "* Sedangkan predict saat melakukan estimasi atau prediksi dengan memanfaatkan trained model"
      ]
    },
    {
      "cell_type": "code",
      "execution_count": 13,
      "metadata": {
        "colab": {
          "base_uri": "https://localhost:8080/",
          "height": 74
        },
        "id": "ij4v8Ax3RHUk",
        "outputId": "f37b225d-aa60-4634-d716-6ccd97e3b03a"
      },
      "outputs": [
        {
          "output_type": "execute_result",
          "data": {
            "text/plain": [
              "KNeighborsClassifier(n_neighbors=3)"
            ],
            "text/html": [
              "<style>#sk-container-id-1 {color: black;background-color: white;}#sk-container-id-1 pre{padding: 0;}#sk-container-id-1 div.sk-toggleable {background-color: white;}#sk-container-id-1 label.sk-toggleable__label {cursor: pointer;display: block;width: 100%;margin-bottom: 0;padding: 0.3em;box-sizing: border-box;text-align: center;}#sk-container-id-1 label.sk-toggleable__label-arrow:before {content: \"▸\";float: left;margin-right: 0.25em;color: #696969;}#sk-container-id-1 label.sk-toggleable__label-arrow:hover:before {color: black;}#sk-container-id-1 div.sk-estimator:hover label.sk-toggleable__label-arrow:before {color: black;}#sk-container-id-1 div.sk-toggleable__content {max-height: 0;max-width: 0;overflow: hidden;text-align: left;background-color: #f0f8ff;}#sk-container-id-1 div.sk-toggleable__content pre {margin: 0.2em;color: black;border-radius: 0.25em;background-color: #f0f8ff;}#sk-container-id-1 input.sk-toggleable__control:checked~div.sk-toggleable__content {max-height: 200px;max-width: 100%;overflow: auto;}#sk-container-id-1 input.sk-toggleable__control:checked~label.sk-toggleable__label-arrow:before {content: \"▾\";}#sk-container-id-1 div.sk-estimator input.sk-toggleable__control:checked~label.sk-toggleable__label {background-color: #d4ebff;}#sk-container-id-1 div.sk-label input.sk-toggleable__control:checked~label.sk-toggleable__label {background-color: #d4ebff;}#sk-container-id-1 input.sk-hidden--visually {border: 0;clip: rect(1px 1px 1px 1px);clip: rect(1px, 1px, 1px, 1px);height: 1px;margin: -1px;overflow: hidden;padding: 0;position: absolute;width: 1px;}#sk-container-id-1 div.sk-estimator {font-family: monospace;background-color: #f0f8ff;border: 1px dotted black;border-radius: 0.25em;box-sizing: border-box;margin-bottom: 0.5em;}#sk-container-id-1 div.sk-estimator:hover {background-color: #d4ebff;}#sk-container-id-1 div.sk-parallel-item::after {content: \"\";width: 100%;border-bottom: 1px solid gray;flex-grow: 1;}#sk-container-id-1 div.sk-label:hover label.sk-toggleable__label {background-color: #d4ebff;}#sk-container-id-1 div.sk-serial::before {content: \"\";position: absolute;border-left: 1px solid gray;box-sizing: border-box;top: 0;bottom: 0;left: 50%;z-index: 0;}#sk-container-id-1 div.sk-serial {display: flex;flex-direction: column;align-items: center;background-color: white;padding-right: 0.2em;padding-left: 0.2em;position: relative;}#sk-container-id-1 div.sk-item {position: relative;z-index: 1;}#sk-container-id-1 div.sk-parallel {display: flex;align-items: stretch;justify-content: center;background-color: white;position: relative;}#sk-container-id-1 div.sk-item::before, #sk-container-id-1 div.sk-parallel-item::before {content: \"\";position: absolute;border-left: 1px solid gray;box-sizing: border-box;top: 0;bottom: 0;left: 50%;z-index: -1;}#sk-container-id-1 div.sk-parallel-item {display: flex;flex-direction: column;z-index: 1;position: relative;background-color: white;}#sk-container-id-1 div.sk-parallel-item:first-child::after {align-self: flex-end;width: 50%;}#sk-container-id-1 div.sk-parallel-item:last-child::after {align-self: flex-start;width: 50%;}#sk-container-id-1 div.sk-parallel-item:only-child::after {width: 0;}#sk-container-id-1 div.sk-dashed-wrapped {border: 1px dashed gray;margin: 0 0.4em 0.5em 0.4em;box-sizing: border-box;padding-bottom: 0.4em;background-color: white;}#sk-container-id-1 div.sk-label label {font-family: monospace;font-weight: bold;display: inline-block;line-height: 1.2em;}#sk-container-id-1 div.sk-label-container {text-align: center;}#sk-container-id-1 div.sk-container {/* jupyter's `normalize.less` sets `[hidden] { display: none; }` but bootstrap.min.css set `[hidden] { display: none !important; }` so we also need the `!important` here to be able to override the default hidden behavior on the sphinx rendered scikit-learn.org. See: https://github.com/scikit-learn/scikit-learn/issues/21755 */display: inline-block !important;position: relative;}#sk-container-id-1 div.sk-text-repr-fallback {display: none;}</style><div id=\"sk-container-id-1\" class=\"sk-top-container\"><div class=\"sk-text-repr-fallback\"><pre>KNeighborsClassifier(n_neighbors=3)</pre><b>In a Jupyter environment, please rerun this cell to show the HTML representation or trust the notebook. <br />On GitHub, the HTML representation is unable to render, please try loading this page with nbviewer.org.</b></div><div class=\"sk-container\" hidden><div class=\"sk-item\"><div class=\"sk-estimator sk-toggleable\"><input class=\"sk-toggleable__control sk-hidden--visually\" id=\"sk-estimator-id-1\" type=\"checkbox\" checked><label for=\"sk-estimator-id-1\" class=\"sk-toggleable__label sk-toggleable__label-arrow\">KNeighborsClassifier</label><div class=\"sk-toggleable__content\"><pre>KNeighborsClassifier(n_neighbors=3)</pre></div></div></div></div></div>"
            ]
          },
          "metadata": {},
          "execution_count": 13
        }
      ],
      "source": [
        "from sklearn.neighbors import KNeighborsClassifier\n",
        "\n",
        "model = KNeighborsClassifier(n_neighbors = 3)\n",
        "\n",
        "model.fit(X_train, y_train)\n"
      ]
    },
    {
      "cell_type": "markdown",
      "metadata": {
        "id": "PY5HsKzbTT8_"
      },
      "source": [
        "## **Evaluate the Model**"
      ]
    },
    {
      "cell_type": "code",
      "execution_count": 14,
      "metadata": {
        "colab": {
          "base_uri": "https://localhost:8080/"
        },
        "id": "zxGh_5FbSkar",
        "outputId": "fedb09df-f7b2-46cd-f735-6f4918c1d25c"
      },
      "outputs": [
        {
          "output_type": "stream",
          "name": "stdout",
          "text": [
            "accuracy score 0.9833333333333333\n"
          ]
        }
      ],
      "source": [
        "from sklearn.metrics import accuracy_score\n",
        "\n",
        "y_pred = model.predict(X_test)\n",
        "acc = accuracy_score(y_test, y_pred)\n",
        "print(f'accuracy score {acc}')"
      ]
    },
    {
      "cell_type": "code",
      "execution_count": 15,
      "metadata": {
        "colab": {
          "base_uri": "https://localhost:8080/"
        },
        "id": "SyFUKSEDTqGy",
        "outputId": "be76df59-8d50-405c-826e-14f0c3b653c8"
      },
      "outputs": [
        {
          "output_type": "execute_result",
          "data": {
            "text/plain": [
              "array([1, 2])"
            ]
          },
          "metadata": {},
          "execution_count": 15
        }
      ],
      "source": [
        "#Memanfaatkan trained model\n",
        "\n",
        "data_baru = [[5,2,3,2],\n",
        "             [2,4,3,5]]\n",
        "\n",
        "preds = model.predict(data_baru)\n",
        "preds"
      ]
    },
    {
      "cell_type": "code",
      "execution_count": 16,
      "metadata": {
        "colab": {
          "base_uri": "https://localhost:8080/"
        },
        "id": "tmIS8IdbUc4a",
        "outputId": "daa3a3a8-aecf-4a9d-91ef-b7f065237356"
      },
      "outputs": [
        {
          "output_type": "stream",
          "name": "stdout",
          "text": [
            "hasil prediksi ['versicolor', 'virginica']\n"
          ]
        }
      ],
      "source": [
        "preds_species = [iris.target_names[p] for p in preds]\n",
        "print(f'hasil prediksi {preds_species}')"
      ]
    },
    {
      "cell_type": "code",
      "execution_count": 17,
      "metadata": {
        "colab": {
          "base_uri": "https://localhost:8080/"
        },
        "id": "WluB370BUt8j",
        "outputId": "353e1db2-b69a-4cf6-a45d-8a705ef70ae5"
      },
      "outputs": [
        {
          "output_type": "execute_result",
          "data": {
            "text/plain": [
              "['iris_classfier_kkn.joblib']"
            ]
          },
          "metadata": {},
          "execution_count": 17
        }
      ],
      "source": [
        "# dump and load trained model\n",
        "\n",
        "import joblib\n",
        "joblib.dump(model, 'iris_classfier_kkn.joblib')"
      ]
    },
    {
      "cell_type": "code",
      "execution_count": 18,
      "metadata": {
        "id": "DlfDsAvZVKeG"
      },
      "outputs": [],
      "source": [
        "production_model = joblib.load('iris_classfier_kkn.joblib')"
      ]
    },
    {
      "cell_type": "code",
      "execution_count": 19,
      "metadata": {
        "colab": {
          "base_uri": "https://localhost:8080/",
          "height": 74
        },
        "id": "5nug1vEvVUBt",
        "outputId": "d847746c-d5d5-4f45-cce5-573feaeec453"
      },
      "outputs": [
        {
          "output_type": "execute_result",
          "data": {
            "text/plain": [
              "KNeighborsClassifier(n_neighbors=3)"
            ],
            "text/html": [
              "<style>#sk-container-id-2 {color: black;background-color: white;}#sk-container-id-2 pre{padding: 0;}#sk-container-id-2 div.sk-toggleable {background-color: white;}#sk-container-id-2 label.sk-toggleable__label {cursor: pointer;display: block;width: 100%;margin-bottom: 0;padding: 0.3em;box-sizing: border-box;text-align: center;}#sk-container-id-2 label.sk-toggleable__label-arrow:before {content: \"▸\";float: left;margin-right: 0.25em;color: #696969;}#sk-container-id-2 label.sk-toggleable__label-arrow:hover:before {color: black;}#sk-container-id-2 div.sk-estimator:hover label.sk-toggleable__label-arrow:before {color: black;}#sk-container-id-2 div.sk-toggleable__content {max-height: 0;max-width: 0;overflow: hidden;text-align: left;background-color: #f0f8ff;}#sk-container-id-2 div.sk-toggleable__content pre {margin: 0.2em;color: black;border-radius: 0.25em;background-color: #f0f8ff;}#sk-container-id-2 input.sk-toggleable__control:checked~div.sk-toggleable__content {max-height: 200px;max-width: 100%;overflow: auto;}#sk-container-id-2 input.sk-toggleable__control:checked~label.sk-toggleable__label-arrow:before {content: \"▾\";}#sk-container-id-2 div.sk-estimator input.sk-toggleable__control:checked~label.sk-toggleable__label {background-color: #d4ebff;}#sk-container-id-2 div.sk-label input.sk-toggleable__control:checked~label.sk-toggleable__label {background-color: #d4ebff;}#sk-container-id-2 input.sk-hidden--visually {border: 0;clip: rect(1px 1px 1px 1px);clip: rect(1px, 1px, 1px, 1px);height: 1px;margin: -1px;overflow: hidden;padding: 0;position: absolute;width: 1px;}#sk-container-id-2 div.sk-estimator {font-family: monospace;background-color: #f0f8ff;border: 1px dotted black;border-radius: 0.25em;box-sizing: border-box;margin-bottom: 0.5em;}#sk-container-id-2 div.sk-estimator:hover {background-color: #d4ebff;}#sk-container-id-2 div.sk-parallel-item::after {content: \"\";width: 100%;border-bottom: 1px solid gray;flex-grow: 1;}#sk-container-id-2 div.sk-label:hover label.sk-toggleable__label {background-color: #d4ebff;}#sk-container-id-2 div.sk-serial::before {content: \"\";position: absolute;border-left: 1px solid gray;box-sizing: border-box;top: 0;bottom: 0;left: 50%;z-index: 0;}#sk-container-id-2 div.sk-serial {display: flex;flex-direction: column;align-items: center;background-color: white;padding-right: 0.2em;padding-left: 0.2em;position: relative;}#sk-container-id-2 div.sk-item {position: relative;z-index: 1;}#sk-container-id-2 div.sk-parallel {display: flex;align-items: stretch;justify-content: center;background-color: white;position: relative;}#sk-container-id-2 div.sk-item::before, #sk-container-id-2 div.sk-parallel-item::before {content: \"\";position: absolute;border-left: 1px solid gray;box-sizing: border-box;top: 0;bottom: 0;left: 50%;z-index: -1;}#sk-container-id-2 div.sk-parallel-item {display: flex;flex-direction: column;z-index: 1;position: relative;background-color: white;}#sk-container-id-2 div.sk-parallel-item:first-child::after {align-self: flex-end;width: 50%;}#sk-container-id-2 div.sk-parallel-item:last-child::after {align-self: flex-start;width: 50%;}#sk-container-id-2 div.sk-parallel-item:only-child::after {width: 0;}#sk-container-id-2 div.sk-dashed-wrapped {border: 1px dashed gray;margin: 0 0.4em 0.5em 0.4em;box-sizing: border-box;padding-bottom: 0.4em;background-color: white;}#sk-container-id-2 div.sk-label label {font-family: monospace;font-weight: bold;display: inline-block;line-height: 1.2em;}#sk-container-id-2 div.sk-label-container {text-align: center;}#sk-container-id-2 div.sk-container {/* jupyter's `normalize.less` sets `[hidden] { display: none; }` but bootstrap.min.css set `[hidden] { display: none !important; }` so we also need the `!important` here to be able to override the default hidden behavior on the sphinx rendered scikit-learn.org. See: https://github.com/scikit-learn/scikit-learn/issues/21755 */display: inline-block !important;position: relative;}#sk-container-id-2 div.sk-text-repr-fallback {display: none;}</style><div id=\"sk-container-id-2\" class=\"sk-top-container\"><div class=\"sk-text-repr-fallback\"><pre>KNeighborsClassifier(n_neighbors=3)</pre><b>In a Jupyter environment, please rerun this cell to show the HTML representation or trust the notebook. <br />On GitHub, the HTML representation is unable to render, please try loading this page with nbviewer.org.</b></div><div class=\"sk-container\" hidden><div class=\"sk-item\"><div class=\"sk-estimator sk-toggleable\"><input class=\"sk-toggleable__control sk-hidden--visually\" id=\"sk-estimator-id-2\" type=\"checkbox\" checked><label for=\"sk-estimator-id-2\" class=\"sk-toggleable__label sk-toggleable__label-arrow\">KNeighborsClassifier</label><div class=\"sk-toggleable__content\"><pre>KNeighborsClassifier(n_neighbors=3)</pre></div></div></div></div></div>"
            ]
          },
          "metadata": {},
          "execution_count": 19
        }
      ],
      "source": [
        "production_model"
      ]
    },
    {
      "cell_type": "markdown",
      "metadata": {
        "id": "Xy47ln_OV1OT"
      },
      "source": [
        "# **Preprocessing in SKlearn**"
      ]
    },
    {
      "cell_type": "markdown",
      "metadata": {
        "id": "6XU754UYazpu"
      },
      "source": [
        "### **Memilih Proses Data Preprocessing**:\n",
        "  \n",
        "  Pemilihan metode preprocessing tergantung pada karakteristik data, tujuan analisis, dan jenis algoritma yang akan digunakan. Sebagai contoh:\n",
        "\n",
        "\n",
        "  **Normalisasi**:\n",
        "  \n",
        "  Cocok ketika Anda ingin mengubah data menjadi rentang tertentu, menghilangkan pengaruh unit, atau menginginkan bobot yang setara di semua sampel. Cocok untuk data yang memiliki distribusi tidak normal dan nilai yang sangat bervariasi.\n",
        "  \n",
        "  **Scaling**:\n",
        "  \n",
        "  Berguna saat Anda ingin mengatasi masalah skala atau mengurangi dampak fitur outlier. Cocok untuk algoritma berbasis jarak seperti K-Means, SVM, dan Regresi Linear.\n",
        "  \n",
        "  **Penghapusan Fitur**:\n",
        "  \n",
        "  Saat fitur tidak relevan atau memiliki korelasi tinggi, penghapusan fitur dapat membantu mencegah overfitting dan mempercepat waktu pelatihan."
      ]
    },
    {
      "cell_type": "code",
      "execution_count": 20,
      "metadata": {
        "colab": {
          "base_uri": "https://localhost:8080/"
        },
        "id": "X3Ho2QtkVYv_",
        "outputId": "76138fde-71aa-4d4c-b15d-7f26760461d3"
      },
      "outputs": [
        {
          "output_type": "execute_result",
          "data": {
            "text/plain": [
              "array([[ 2.1,  1.9,  5.5],\n",
              "       [-1.5,  2.4,  3.5],\n",
              "       [ 0.5, -7.6,  5.6],\n",
              "       [ 5.9,  2.3, -5.8]])"
            ]
          },
          "metadata": {},
          "execution_count": 20
        }
      ],
      "source": [
        "import numpy as np\n",
        "from sklearn import preprocessing\n",
        "\n",
        "sample_data = np.array([[2.1, 1.9, 5.5],\n",
        "                        [-1.5, 2.4, 3.5],\n",
        "                        [0.5, -7.6, 5.6],\n",
        "                        [5.9, 2.3, -5.8]])\n",
        "sample_data"
      ]
    },
    {
      "cell_type": "code",
      "execution_count": 21,
      "metadata": {
        "colab": {
          "base_uri": "https://localhost:8080/"
        },
        "id": "9s3XPhc6WX5f",
        "outputId": "3fdf994d-72b3-4951-f939-fd8fcba6c15d"
      },
      "outputs": [
        {
          "output_type": "execute_result",
          "data": {
            "text/plain": [
              "(4, 3)"
            ]
          },
          "metadata": {},
          "execution_count": 21
        }
      ],
      "source": [
        "sample_data.shape"
      ]
    },
    {
      "cell_type": "code",
      "execution_count": 22,
      "metadata": {
        "colab": {
          "base_uri": "https://localhost:8080/"
        },
        "id": "qMjBWOmUWbyR",
        "outputId": "54388995-8e00-4445-ae06-77bd7c47e737"
      },
      "outputs": [
        {
          "output_type": "execute_result",
          "data": {
            "text/plain": [
              "array([[1., 1., 1.],\n",
              "       [0., 1., 1.],\n",
              "       [0., 0., 1.],\n",
              "       [1., 1., 0.]])"
            ]
          },
          "metadata": {},
          "execution_count": 22
        }
      ],
      "source": [
        "#Binarisation\n",
        "preprocessor = preprocessing.Binarizer(threshold = 0.5) #batas dari 0 ke 1 yaitu 0.5\n",
        "binarised_data = preprocessor.transform(sample_data)\n",
        "binarised_data"
      ]
    },
    {
      "cell_type": "code",
      "execution_count": 23,
      "metadata": {
        "colab": {
          "base_uri": "https://localhost:8080/"
        },
        "id": "uFzYfFgOW1bf",
        "outputId": "4c560b8b-4317-4648-f9cf-023874175e07"
      },
      "outputs": [
        {
          "output_type": "execute_result",
          "data": {
            "text/plain": [
              "array([[0.48648649, 0.95      , 0.99122807],\n",
              "       [0.        , 1.        , 0.81578947],\n",
              "       [0.27027027, 0.        , 1.        ],\n",
              "       [1.        , 0.99      , 0.        ]])"
            ]
          },
          "metadata": {},
          "execution_count": 23
        }
      ],
      "source": [
        "#Scaling\n",
        "preprocessor = preprocessing.MinMaxScaler(feature_range = (0,1))\n",
        "preprocessor.fit(sample_data)\n",
        "scaled_data = preprocessor.transform(sample_data)\n",
        "scaled_data"
      ]
    },
    {
      "cell_type": "code",
      "execution_count": 24,
      "metadata": {
        "colab": {
          "base_uri": "https://localhost:8080/"
        },
        "id": "w5nKv6ScYCxY",
        "outputId": "16f68d4b-78bd-4cc7-f44f-26a8658b36d9"
      },
      "outputs": [
        {
          "output_type": "execute_result",
          "data": {
            "text/plain": [
              "array([[0.48648649, 0.95      , 0.99122807],\n",
              "       [0.        , 1.        , 0.81578947],\n",
              "       [0.27027027, 0.        , 1.        ],\n",
              "       [1.        , 0.99      , 0.        ]])"
            ]
          },
          "metadata": {},
          "execution_count": 24
        }
      ],
      "source": [
        "scaled_data = preprocessor.fit_transform(sample_data)\n",
        "scaled_data"
      ]
    },
    {
      "cell_type": "code",
      "execution_count": 25,
      "metadata": {
        "colab": {
          "base_uri": "https://localhost:8080/"
        },
        "id": "V5_bDYlMYO0a",
        "outputId": "e726d4b7-0d46-4086-8d51-355bbb6a06c1"
      },
      "outputs": [
        {
          "output_type": "execute_result",
          "data": {
            "text/plain": [
              "array([[ 0.22105263,  0.2       ,  0.57894737],\n",
              "       [-0.2027027 ,  0.32432432,  0.47297297],\n",
              "       [ 0.03649635, -0.55474453,  0.40875912],\n",
              "       [ 0.42142857,  0.16428571, -0.41428571]])"
            ]
          },
          "metadata": {},
          "execution_count": 25
        }
      ],
      "source": [
        "#L1 Normalisation: Least Absolute Deviations\n",
        "\n",
        "l1_normalised_data = preprocessing.normalize(sample_data, norm = 'l1')\n",
        "l1_normalised_data"
      ]
    },
    {
      "cell_type": "code",
      "execution_count": 26,
      "metadata": {
        "colab": {
          "base_uri": "https://localhost:8080/"
        },
        "id": "V2v45gDrZGTw",
        "outputId": "2e9069fb-a348-4728-9e6b-2c5dde6092fa"
      },
      "outputs": [
        {
          "output_type": "execute_result",
          "data": {
            "text/plain": [
              "array([[ 0.33946114,  0.30713151,  0.88906489],\n",
              "       [-0.33325106,  0.53320169,  0.7775858 ],\n",
              "       [ 0.05289007, -0.80392903,  0.59236876],\n",
              "       [ 0.68706914,  0.26784051, -0.6754239 ]])"
            ]
          },
          "metadata": {},
          "execution_count": 26
        }
      ],
      "source": [
        "#L2 Normalisation: Least Square\n",
        "\n",
        "l1_normalised_data = preprocessing.normalize(sample_data, norm = 'l2')\n",
        "l1_normalised_data"
      ]
    },
    {
      "cell_type": "markdown",
      "metadata": {
        "id": "AQaUfR7ybZlf"
      },
      "source": [
        "## **Linear Model Regression**\n",
        "\n",
        "simple linear regression memodelkan hubungan antara sebuah respon variabel dengan sebuah explenatory variabel sebagai suatu garis lurus (linier)"
      ]
    },
    {
      "cell_type": "code",
      "execution_count": 27,
      "metadata": {
        "colab": {
          "base_uri": "https://localhost:8080/",
          "height": 206
        },
        "id": "J9wRcDeZZut0",
        "outputId": "ee1bed6b-9ff5-491d-9ab7-fa9d525fc0e7"
      },
      "outputs": [
        {
          "output_type": "execute_result",
          "data": {
            "text/plain": [
              "   diameter  price\n",
              "0         6    7.0\n",
              "1         8    9.0\n",
              "2        10   13.0\n",
              "3        14   17.5\n",
              "4        18   18.0"
            ],
            "text/html": [
              "\n",
              "  <div id=\"df-5d9098b2-5e7b-415d-a4f4-46869efab68a\" class=\"colab-df-container\">\n",
              "    <div>\n",
              "<style scoped>\n",
              "    .dataframe tbody tr th:only-of-type {\n",
              "        vertical-align: middle;\n",
              "    }\n",
              "\n",
              "    .dataframe tbody tr th {\n",
              "        vertical-align: top;\n",
              "    }\n",
              "\n",
              "    .dataframe thead th {\n",
              "        text-align: right;\n",
              "    }\n",
              "</style>\n",
              "<table border=\"1\" class=\"dataframe\">\n",
              "  <thead>\n",
              "    <tr style=\"text-align: right;\">\n",
              "      <th></th>\n",
              "      <th>diameter</th>\n",
              "      <th>price</th>\n",
              "    </tr>\n",
              "  </thead>\n",
              "  <tbody>\n",
              "    <tr>\n",
              "      <th>0</th>\n",
              "      <td>6</td>\n",
              "      <td>7.0</td>\n",
              "    </tr>\n",
              "    <tr>\n",
              "      <th>1</th>\n",
              "      <td>8</td>\n",
              "      <td>9.0</td>\n",
              "    </tr>\n",
              "    <tr>\n",
              "      <th>2</th>\n",
              "      <td>10</td>\n",
              "      <td>13.0</td>\n",
              "    </tr>\n",
              "    <tr>\n",
              "      <th>3</th>\n",
              "      <td>14</td>\n",
              "      <td>17.5</td>\n",
              "    </tr>\n",
              "    <tr>\n",
              "      <th>4</th>\n",
              "      <td>18</td>\n",
              "      <td>18.0</td>\n",
              "    </tr>\n",
              "  </tbody>\n",
              "</table>\n",
              "</div>\n",
              "    <div class=\"colab-df-buttons\">\n",
              "\n",
              "  <div class=\"colab-df-container\">\n",
              "    <button class=\"colab-df-convert\" onclick=\"convertToInteractive('df-5d9098b2-5e7b-415d-a4f4-46869efab68a')\"\n",
              "            title=\"Convert this dataframe to an interactive table.\"\n",
              "            style=\"display:none;\">\n",
              "\n",
              "  <svg xmlns=\"http://www.w3.org/2000/svg\" height=\"24px\" viewBox=\"0 -960 960 960\">\n",
              "    <path d=\"M120-120v-720h720v720H120Zm60-500h600v-160H180v160Zm220 220h160v-160H400v160Zm0 220h160v-160H400v160ZM180-400h160v-160H180v160Zm440 0h160v-160H620v160ZM180-180h160v-160H180v160Zm440 0h160v-160H620v160Z\"/>\n",
              "  </svg>\n",
              "    </button>\n",
              "\n",
              "  <style>\n",
              "    .colab-df-container {\n",
              "      display:flex;\n",
              "      gap: 12px;\n",
              "    }\n",
              "\n",
              "    .colab-df-convert {\n",
              "      background-color: #E8F0FE;\n",
              "      border: none;\n",
              "      border-radius: 50%;\n",
              "      cursor: pointer;\n",
              "      display: none;\n",
              "      fill: #1967D2;\n",
              "      height: 32px;\n",
              "      padding: 0 0 0 0;\n",
              "      width: 32px;\n",
              "    }\n",
              "\n",
              "    .colab-df-convert:hover {\n",
              "      background-color: #E2EBFA;\n",
              "      box-shadow: 0px 1px 2px rgba(60, 64, 67, 0.3), 0px 1px 3px 1px rgba(60, 64, 67, 0.15);\n",
              "      fill: #174EA6;\n",
              "    }\n",
              "\n",
              "    .colab-df-buttons div {\n",
              "      margin-bottom: 4px;\n",
              "    }\n",
              "\n",
              "    [theme=dark] .colab-df-convert {\n",
              "      background-color: #3B4455;\n",
              "      fill: #D2E3FC;\n",
              "    }\n",
              "\n",
              "    [theme=dark] .colab-df-convert:hover {\n",
              "      background-color: #434B5C;\n",
              "      box-shadow: 0px 1px 3px 1px rgba(0, 0, 0, 0.15);\n",
              "      filter: drop-shadow(0px 1px 2px rgba(0, 0, 0, 0.3));\n",
              "      fill: #FFFFFF;\n",
              "    }\n",
              "  </style>\n",
              "\n",
              "    <script>\n",
              "      const buttonEl =\n",
              "        document.querySelector('#df-5d9098b2-5e7b-415d-a4f4-46869efab68a button.colab-df-convert');\n",
              "      buttonEl.style.display =\n",
              "        google.colab.kernel.accessAllowed ? 'block' : 'none';\n",
              "\n",
              "      async function convertToInteractive(key) {\n",
              "        const element = document.querySelector('#df-5d9098b2-5e7b-415d-a4f4-46869efab68a');\n",
              "        const dataTable =\n",
              "          await google.colab.kernel.invokeFunction('convertToInteractive',\n",
              "                                                    [key], {});\n",
              "        if (!dataTable) return;\n",
              "\n",
              "        const docLinkHtml = 'Like what you see? Visit the ' +\n",
              "          '<a target=\"_blank\" href=https://colab.research.google.com/notebooks/data_table.ipynb>data table notebook</a>'\n",
              "          + ' to learn more about interactive tables.';\n",
              "        element.innerHTML = '';\n",
              "        dataTable['output_type'] = 'display_data';\n",
              "        await google.colab.output.renderOutput(dataTable, element);\n",
              "        const docLink = document.createElement('div');\n",
              "        docLink.innerHTML = docLinkHtml;\n",
              "        element.appendChild(docLink);\n",
              "      }\n",
              "    </script>\n",
              "  </div>\n",
              "\n",
              "\n",
              "<div id=\"df-99e4452a-f8ab-4d04-9229-b77a23a116fe\">\n",
              "  <button class=\"colab-df-quickchart\" onclick=\"quickchart('df-99e4452a-f8ab-4d04-9229-b77a23a116fe')\"\n",
              "            title=\"Suggest charts.\"\n",
              "            style=\"display:none;\">\n",
              "\n",
              "<svg xmlns=\"http://www.w3.org/2000/svg\" height=\"24px\"viewBox=\"0 0 24 24\"\n",
              "     width=\"24px\">\n",
              "    <g>\n",
              "        <path d=\"M19 3H5c-1.1 0-2 .9-2 2v14c0 1.1.9 2 2 2h14c1.1 0 2-.9 2-2V5c0-1.1-.9-2-2-2zM9 17H7v-7h2v7zm4 0h-2V7h2v10zm4 0h-2v-4h2v4z\"/>\n",
              "    </g>\n",
              "</svg>\n",
              "  </button>\n",
              "\n",
              "<style>\n",
              "  .colab-df-quickchart {\n",
              "      --bg-color: #E8F0FE;\n",
              "      --fill-color: #1967D2;\n",
              "      --hover-bg-color: #E2EBFA;\n",
              "      --hover-fill-color: #174EA6;\n",
              "      --disabled-fill-color: #AAA;\n",
              "      --disabled-bg-color: #DDD;\n",
              "  }\n",
              "\n",
              "  [theme=dark] .colab-df-quickchart {\n",
              "      --bg-color: #3B4455;\n",
              "      --fill-color: #D2E3FC;\n",
              "      --hover-bg-color: #434B5C;\n",
              "      --hover-fill-color: #FFFFFF;\n",
              "      --disabled-bg-color: #3B4455;\n",
              "      --disabled-fill-color: #666;\n",
              "  }\n",
              "\n",
              "  .colab-df-quickchart {\n",
              "    background-color: var(--bg-color);\n",
              "    border: none;\n",
              "    border-radius: 50%;\n",
              "    cursor: pointer;\n",
              "    display: none;\n",
              "    fill: var(--fill-color);\n",
              "    height: 32px;\n",
              "    padding: 0;\n",
              "    width: 32px;\n",
              "  }\n",
              "\n",
              "  .colab-df-quickchart:hover {\n",
              "    background-color: var(--hover-bg-color);\n",
              "    box-shadow: 0 1px 2px rgba(60, 64, 67, 0.3), 0 1px 3px 1px rgba(60, 64, 67, 0.15);\n",
              "    fill: var(--button-hover-fill-color);\n",
              "  }\n",
              "\n",
              "  .colab-df-quickchart-complete:disabled,\n",
              "  .colab-df-quickchart-complete:disabled:hover {\n",
              "    background-color: var(--disabled-bg-color);\n",
              "    fill: var(--disabled-fill-color);\n",
              "    box-shadow: none;\n",
              "  }\n",
              "\n",
              "  .colab-df-spinner {\n",
              "    border: 2px solid var(--fill-color);\n",
              "    border-color: transparent;\n",
              "    border-bottom-color: var(--fill-color);\n",
              "    animation:\n",
              "      spin 1s steps(1) infinite;\n",
              "  }\n",
              "\n",
              "  @keyframes spin {\n",
              "    0% {\n",
              "      border-color: transparent;\n",
              "      border-bottom-color: var(--fill-color);\n",
              "      border-left-color: var(--fill-color);\n",
              "    }\n",
              "    20% {\n",
              "      border-color: transparent;\n",
              "      border-left-color: var(--fill-color);\n",
              "      border-top-color: var(--fill-color);\n",
              "    }\n",
              "    30% {\n",
              "      border-color: transparent;\n",
              "      border-left-color: var(--fill-color);\n",
              "      border-top-color: var(--fill-color);\n",
              "      border-right-color: var(--fill-color);\n",
              "    }\n",
              "    40% {\n",
              "      border-color: transparent;\n",
              "      border-right-color: var(--fill-color);\n",
              "      border-top-color: var(--fill-color);\n",
              "    }\n",
              "    60% {\n",
              "      border-color: transparent;\n",
              "      border-right-color: var(--fill-color);\n",
              "    }\n",
              "    80% {\n",
              "      border-color: transparent;\n",
              "      border-right-color: var(--fill-color);\n",
              "      border-bottom-color: var(--fill-color);\n",
              "    }\n",
              "    90% {\n",
              "      border-color: transparent;\n",
              "      border-bottom-color: var(--fill-color);\n",
              "    }\n",
              "  }\n",
              "</style>\n",
              "\n",
              "  <script>\n",
              "    async function quickchart(key) {\n",
              "      const quickchartButtonEl =\n",
              "        document.querySelector('#' + key + ' button');\n",
              "      quickchartButtonEl.disabled = true;  // To prevent multiple clicks.\n",
              "      quickchartButtonEl.classList.add('colab-df-spinner');\n",
              "      try {\n",
              "        const charts = await google.colab.kernel.invokeFunction(\n",
              "            'suggestCharts', [key], {});\n",
              "      } catch (error) {\n",
              "        console.error('Error during call to suggestCharts:', error);\n",
              "      }\n",
              "      quickchartButtonEl.classList.remove('colab-df-spinner');\n",
              "      quickchartButtonEl.classList.add('colab-df-quickchart-complete');\n",
              "    }\n",
              "    (() => {\n",
              "      let quickchartButtonEl =\n",
              "        document.querySelector('#df-99e4452a-f8ab-4d04-9229-b77a23a116fe button');\n",
              "      quickchartButtonEl.style.display =\n",
              "        google.colab.kernel.accessAllowed ? 'block' : 'none';\n",
              "    })();\n",
              "  </script>\n",
              "</div>\n",
              "    </div>\n",
              "  </div>\n"
            ]
          },
          "metadata": {},
          "execution_count": 27
        }
      ],
      "source": [
        "import pandas as pd\n",
        "\n",
        "pizza = {'diameter' : [6,8,10,14,18],\n",
        "         'price' : [7,9,13,17.5, 18]}\n",
        "pizza_df = pd.DataFrame(pizza)\n",
        "pizza_df"
      ]
    },
    {
      "cell_type": "code",
      "execution_count": 28,
      "metadata": {
        "colab": {
          "base_uri": "https://localhost:8080/",
          "height": 472
        },
        "id": "iIxlDF94lrh9",
        "outputId": "ea62a931-9212-46d7-b1fa-089b6ffa88c9"
      },
      "outputs": [
        {
          "output_type": "display_data",
          "data": {
            "text/plain": [
              "<Figure size 640x480 with 1 Axes>"
            ],
            "image/png": "[encoded data removed]"
          },
          "metadata": {}
        }
      ],
      "source": [
        "#visualisasi\n",
        "\n",
        "pizza_df.plot(kind = 'scatter', x = 'diameter', y = 'price')\n",
        "\n",
        "plt.title('Hubungan diameter pizza dengan harga')\n",
        "plt.xlabel('diamter')\n",
        "plt.ylabel('price')\n",
        "plt.xlim(0,25)\n",
        "plt.ylim(0,25)\n",
        "plt.show()"
      ]
    },
    {
      "cell_type": "code",
      "execution_count": 29,
      "metadata": {
        "colab": {
          "base_uri": "https://localhost:8080/"
        },
        "id": "cMovYfQUmUtF",
        "outputId": "35f9f363-c855-4b12-df44-6ec9a6a0516e"
      },
      "outputs": [
        {
          "output_type": "stream",
          "name": "stdout",
          "text": [
            "[ 6  8 10 14 18]\n",
            "[ 7.   9.  13.  17.5 18. ]\n"
          ]
        }
      ],
      "source": [
        "#penyesuaian dataset untuk diregressi atau penyeseuain untuk permodelan\n",
        "\n",
        "X = np.array(pizza_df['diameter'])\n",
        "y = np.array(pizza_df['price'])\n",
        "\n",
        "print(X)\n",
        "print(y)"
      ]
    },
    {
      "cell_type": "code",
      "execution_count": 30,
      "metadata": {
        "colab": {
          "base_uri": "https://localhost:8080/"
        },
        "id": "rCnSb4vHmvlZ",
        "outputId": "54f20696-6dc8-4607-f9cb-1c24ed4a532e"
      },
      "outputs": [
        {
          "output_type": "execute_result",
          "data": {
            "text/plain": [
              "(5, 1)"
            ]
          },
          "metadata": {},
          "execution_count": 30
        }
      ],
      "source": [
        "# karena dalam model machine learing SKLearn dibutuhkan 2 dimensi, maka perlu adanya transformasi dalam variable X\n",
        "\n",
        "X = X.reshape(-1,1)\n",
        "X.shape"
      ]
    },
    {
      "cell_type": "code",
      "execution_count": 31,
      "metadata": {
        "colab": {
          "base_uri": "https://localhost:8080/"
        },
        "id": "smn5QyZPnXQ4",
        "outputId": "fb9d235b-723f-4e24-befb-1f011f42f067"
      },
      "outputs": [
        {
          "output_type": "execute_result",
          "data": {
            "text/plain": [
              "array([ 7. ,  9. , 13. , 17.5, 18. ])"
            ]
          },
          "metadata": {},
          "execution_count": 31
        }
      ],
      "source": [
        "y"
      ]
    },
    {
      "cell_type": "code",
      "execution_count": 32,
      "metadata": {
        "colab": {
          "base_uri": "https://localhost:8080/",
          "height": 74
        },
        "id": "QhgjkpyonaXS",
        "outputId": "c9839520-6d7f-4259-ff71-663650e16ca1"
      },
      "outputs": [
        {
          "output_type": "execute_result",
          "data": {
            "text/plain": [
              "LinearRegression()"
            ],
            "text/html": [
              "<style>#sk-container-id-3 {color: black;background-color: white;}#sk-container-id-3 pre{padding: 0;}#sk-container-id-3 div.sk-toggleable {background-color: white;}#sk-container-id-3 label.sk-toggleable__label {cursor: pointer;display: block;width: 100%;margin-bottom: 0;padding: 0.3em;box-sizing: border-box;text-align: center;}#sk-container-id-3 label.sk-toggleable__label-arrow:before {content: \"▸\";float: left;margin-right: 0.25em;color: #696969;}#sk-container-id-3 label.sk-toggleable__label-arrow:hover:before {color: black;}#sk-container-id-3 div.sk-estimator:hover label.sk-toggleable__label-arrow:before {color: black;}#sk-container-id-3 div.sk-toggleable__content {max-height: 0;max-width: 0;overflow: hidden;text-align: left;background-color: #f0f8ff;}#sk-container-id-3 div.sk-toggleable__content pre {margin: 0.2em;color: black;border-radius: 0.25em;background-color: #f0f8ff;}#sk-container-id-3 input.sk-toggleable__control:checked~div.sk-toggleable__content {max-height: 200px;max-width: 100%;overflow: auto;}#sk-container-id-3 input.sk-toggleable__control:checked~label.sk-toggleable__label-arrow:before {content: \"▾\";}#sk-container-id-3 div.sk-estimator input.sk-toggleable__control:checked~label.sk-toggleable__label {background-color: #d4ebff;}#sk-container-id-3 div.sk-label input.sk-toggleable__control:checked~label.sk-toggleable__label {background-color: #d4ebff;}#sk-container-id-3 input.sk-hidden--visually {border: 0;clip: rect(1px 1px 1px 1px);clip: rect(1px, 1px, 1px, 1px);height: 1px;margin: -1px;overflow: hidden;padding: 0;position: absolute;width: 1px;}#sk-container-id-3 div.sk-estimator {font-family: monospace;background-color: #f0f8ff;border: 1px dotted black;border-radius: 0.25em;box-sizing: border-box;margin-bottom: 0.5em;}#sk-container-id-3 div.sk-estimator:hover {background-color: #d4ebff;}#sk-container-id-3 div.sk-parallel-item::after {content: \"\";width: 100%;border-bottom: 1px solid gray;flex-grow: 1;}#sk-container-id-3 div.sk-label:hover label.sk-toggleable__label {background-color: #d4ebff;}#sk-container-id-3 div.sk-serial::before {content: \"\";position: absolute;border-left: 1px solid gray;box-sizing: border-box;top: 0;bottom: 0;left: 50%;z-index: 0;}#sk-container-id-3 div.sk-serial {display: flex;flex-direction: column;align-items: center;background-color: white;padding-right: 0.2em;padding-left: 0.2em;position: relative;}#sk-container-id-3 div.sk-item {position: relative;z-index: 1;}#sk-container-id-3 div.sk-parallel {display: flex;align-items: stretch;justify-content: center;background-color: white;position: relative;}#sk-container-id-3 div.sk-item::before, #sk-container-id-3 div.sk-parallel-item::before {content: \"\";position: absolute;border-left: 1px solid gray;box-sizing: border-box;top: 0;bottom: 0;left: 50%;z-index: -1;}#sk-container-id-3 div.sk-parallel-item {display: flex;flex-direction: column;z-index: 1;position: relative;background-color: white;}#sk-container-id-3 div.sk-parallel-item:first-child::after {align-self: flex-end;width: 50%;}#sk-container-id-3 div.sk-parallel-item:last-child::after {align-self: flex-start;width: 50%;}#sk-container-id-3 div.sk-parallel-item:only-child::after {width: 0;}#sk-container-id-3 div.sk-dashed-wrapped {border: 1px dashed gray;margin: 0 0.4em 0.5em 0.4em;box-sizing: border-box;padding-bottom: 0.4em;background-color: white;}#sk-container-id-3 div.sk-label label {font-family: monospace;font-weight: bold;display: inline-block;line-height: 1.2em;}#sk-container-id-3 div.sk-label-container {text-align: center;}#sk-container-id-3 div.sk-container {/* jupyter's `normalize.less` sets `[hidden] { display: none; }` but bootstrap.min.css set `[hidden] { display: none !important; }` so we also need the `!important` here to be able to override the default hidden behavior on the sphinx rendered scikit-learn.org. See: https://github.com/scikit-learn/scikit-learn/issues/21755 */display: inline-block !important;position: relative;}#sk-container-id-3 div.sk-text-repr-fallback {display: none;}</style><div id=\"sk-container-id-3\" class=\"sk-top-container\"><div class=\"sk-text-repr-fallback\"><pre>LinearRegression()</pre><b>In a Jupyter environment, please rerun this cell to show the HTML representation or trust the notebook. <br />On GitHub, the HTML representation is unable to render, please try loading this page with nbviewer.org.</b></div><div class=\"sk-container\" hidden><div class=\"sk-item\"><div class=\"sk-estimator sk-toggleable\"><input class=\"sk-toggleable__control sk-hidden--visually\" id=\"sk-estimator-id-3\" type=\"checkbox\" checked><label for=\"sk-estimator-id-3\" class=\"sk-toggleable__label sk-toggleable__label-arrow\">LinearRegression</label><div class=\"sk-toggleable__content\"><pre>LinearRegression()</pre></div></div></div></div></div>"
            ]
          },
          "metadata": {},
          "execution_count": 32
        }
      ],
      "source": [
        "# model regresi\n",
        "\n",
        "from sklearn.linear_model import LinearRegression\n",
        "\n",
        "model = LinearRegression()\n",
        "model.fit(X, y)"
      ]
    },
    {
      "cell_type": "code",
      "execution_count": 33,
      "metadata": {
        "id": "LWb00dz0nt3l"
      },
      "outputs": [],
      "source": [
        "# mari kita visualisasi\n",
        "\n",
        "X_vis = np.array([0,25]).reshape(-1,1) #membuat variabel X_vis untuk visualisasi dengan ukuran 25x25\n",
        "y_vis = model.predict(X_vis)"
      ]
    },
    {
      "cell_type": "code",
      "execution_count": 34,
      "metadata": {
        "colab": {
          "base_uri": "https://localhost:8080/",
          "height": 472
        },
        "id": "308Ga83Vo0IU",
        "outputId": "aa579148-7082-4652-8810-8240fdaaf35c"
      },
      "outputs": [
        {
          "output_type": "display_data",
          "data": {
            "text/plain": [
              "<Figure size 640x480 with 1 Axes>"
            ],
            "image/png": "[encoded data removed]"
          },
          "metadata": {}
        }
      ],
      "source": [
        "plt.scatter(X,y)\n",
        "plt.plot(X_vis, y_vis, '-r')\n",
        "\n",
        "plt.title('Perbandingan diameter dengan harga pizza')\n",
        "plt.xlabel('diameter')\n",
        "plt.ylabel('price')\n",
        "plt.xlim(0,25)\n",
        "plt.ylim(0,25)\n",
        "plt.grid(True)\n",
        "plt.show()"
      ]
    },
    {
      "cell_type": "markdown",
      "metadata": {
        "id": "3FISuVpDqQJ_"
      },
      "source": [
        "Formula:\n",
        "\n",
        "y = a + bx\n",
        "\n",
        "* y = respon variabel\n",
        "* a = intercept\n",
        "* b = slope\n",
        "* x = explanatory variabel"
      ]
    },
    {
      "cell_type": "code",
      "execution_count": 35,
      "metadata": {
        "colab": {
          "base_uri": "https://localhost:8080/"
        },
        "id": "b6aOuNp0pQw1",
        "outputId": "533b7132-a2a7-4838-a00a-a418f24697de"
      },
      "outputs": [
        {
          "output_type": "stream",
          "name": "stdout",
          "text": [
            "intercept:1.965517241379315\n",
            "intercept:[0.9762931]\n"
          ]
        }
      ],
      "source": [
        "print(f'intercept:{model.intercept_}')\n",
        "print(f'intercept:{model.coef_}')"
      ]
    },
    {
      "cell_type": "markdown",
      "metadata": {
        "id": "2dMcpaUerDUU"
      },
      "source": [
        "### **How to find the Slope and Intecept**"
      ]
    },
    {
      "cell_type": "markdown",
      "metadata": {
        "id": "xyHQaOb1rMfZ"
      },
      "source": [
        "nilai slope dapat dicari menggunakan rumus:\n",
        "\n",
        "B = cov(x,y)/var x"
      ]
    },
    {
      "cell_type": "code",
      "execution_count": 36,
      "metadata": {
        "colab": {
          "base_uri": "https://localhost:8080/"
        },
        "id": "REYbafWrqvLT",
        "outputId": "ec53405d-528f-47b3-cedc-082ee753ea4f"
      },
      "outputs": [
        {
          "output_type": "execute_result",
          "data": {
            "text/plain": [
              "23.2"
            ]
          },
          "metadata": {},
          "execution_count": 36
        }
      ],
      "source": [
        "#find variance\n",
        "variance_X = np.var(X.flatten(), ddof= 1)\n",
        "\n",
        "variance_X"
      ]
    },
    {
      "cell_type": "code",
      "execution_count": 37,
      "metadata": {
        "colab": {
          "base_uri": "https://localhost:8080/"
        },
        "id": "jiQcn-QErwCT",
        "outputId": "78a68a11-9354-4988-9b91-5ecc82c22322"
      },
      "outputs": [
        {
          "output_type": "execute_result",
          "data": {
            "text/plain": [
              "array([[23.2 , 22.65],\n",
              "       [22.65, 24.3 ]])"
            ]
          },
          "metadata": {},
          "execution_count": 37
        }
      ],
      "source": [
        "#find covaraince\n",
        "\n",
        "np.cov(X.flatten(), y)"
      ]
    },
    {
      "cell_type": "code",
      "execution_count": 38,
      "metadata": {
        "colab": {
          "base_uri": "https://localhost:8080/"
        },
        "id": "xmPiBdWCsG36",
        "outputId": "c13b333a-925b-468e-c2d0-e2aba2b83f65"
      },
      "outputs": [
        {
          "output_type": "execute_result",
          "data": {
            "text/plain": [
              "22.650000000000002"
            ]
          },
          "metadata": {},
          "execution_count": 38
        }
      ],
      "source": [
        "cov_xy = np.cov(X.flatten(), y)[0][1]\n",
        "cov_xy"
      ]
    },
    {
      "cell_type": "code",
      "execution_count": 39,
      "metadata": {
        "colab": {
          "base_uri": "https://localhost:8080/"
        },
        "id": "8MXgwAcrshRJ",
        "outputId": "8a9d9234-bc3b-41a8-891c-c4ce864b2aae"
      },
      "outputs": [
        {
          "output_type": "execute_result",
          "data": {
            "text/plain": [
              "0.976293103448276"
            ]
          },
          "metadata": {},
          "execution_count": 39
        }
      ],
      "source": [
        "#find slope\n",
        "slopeB = cov_xy/variance_X\n",
        "slopeB"
      ]
    },
    {
      "cell_type": "markdown",
      "metadata": {
        "id": "gnAHZGjNs9Sj"
      },
      "source": [
        "mencari intercept\n",
        "\n",
        "a = mean y - mean bx"
      ]
    },
    {
      "cell_type": "code",
      "execution_count": 40,
      "metadata": {
        "colab": {
          "base_uri": "https://localhost:8080/"
        },
        "id": "S0OKm5BrsuDT",
        "outputId": "c151b30d-a1ac-4367-ac2c-8ac59560a122"
      },
      "outputs": [
        {
          "output_type": "execute_result",
          "data": {
            "text/plain": [
              "1.9655172413793096"
            ]
          },
          "metadata": {},
          "execution_count": 40
        }
      ],
      "source": [
        "intercept = np.mean(y) - slopeB * np.mean(X)\n",
        "intercept"
      ]
    },
    {
      "cell_type": "code",
      "execution_count": 41,
      "metadata": {
        "colab": {
          "base_uri": "https://localhost:8080/"
        },
        "id": "JuiAsCU7tM0a",
        "outputId": "89dc8804-af7c-4b41-b80c-095dd3ee0773"
      },
      "outputs": [
        {
          "output_type": "execute_result",
          "data": {
            "text/plain": [
              "array([13.68103448, 21.49137931, 24.42025862])"
            ]
          },
          "metadata": {},
          "execution_count": 41
        }
      ],
      "source": [
        "# coba kita prediksi harga pizza dengan diameter pizza yang baru\n",
        "\n",
        "new_diameter = np.array([12,20,23]).reshape(-1,1)\n",
        "\n",
        "predict_new_price = model.predict(new_diameter)\n",
        "predict_new_price"
      ]
    },
    {
      "cell_type": "code",
      "execution_count": 42,
      "metadata": {
        "colab": {
          "base_uri": "https://localhost:8080/"
        },
        "id": "WF2sTKnDtw3W",
        "outputId": "0fa9f05c-a9a4-4c42-e99a-dffa6a117234"
      },
      "outputs": [
        {
          "output_type": "stream",
          "name": "stdout",
          "text": [
            "ukuran diameter pizza [12] maka prediksi harganya 13.681034482758621\n",
            "ukuran diameter pizza [20] maka prediksi harganya 21.491379310344826\n",
            "ukuran diameter pizza [23] maka prediksi harganya 24.42025862068965\n"
          ]
        }
      ],
      "source": [
        "for dmtr, hrg in zip(new_diameter, predict_new_price):\n",
        "  print(f'ukuran diameter pizza {dmtr} maka prediksi harganya {hrg}')"
      ]
    },
    {
      "cell_type": "markdown",
      "metadata": {
        "id": "2hgvsRWbuiRG"
      },
      "source": [
        "### Evaluate the Model"
      ]
    },
    {
      "cell_type": "code",
      "execution_count": 43,
      "metadata": {
        "id": "CvXEIouuuK9s"
      },
      "outputs": [],
      "source": [
        "X_train = np.array([6,8,10,14,18]).reshape(-1,1)\n",
        "y_train = np.array([7,9,13,17.5,18])\n",
        "\n",
        "X_test = np.array([8,9,11,16,12]).reshape(-1,1)\n",
        "y_test = np.array([11, 8.5, 15,18, 11])"
      ]
    },
    {
      "cell_type": "code",
      "execution_count": 44,
      "metadata": {
        "colab": {
          "base_uri": "https://localhost:8080/",
          "height": 74
        },
        "id": "LTmCbzMJ2QCG",
        "outputId": "0aab3783-d320-4f76-fee4-4f704715110e"
      },
      "outputs": [
        {
          "output_type": "execute_result",
          "data": {
            "text/plain": [
              "LinearRegression()"
            ],
            "text/html": [
              "<style>#sk-container-id-4 {color: black;background-color: white;}#sk-container-id-4 pre{padding: 0;}#sk-container-id-4 div.sk-toggleable {background-color: white;}#sk-container-id-4 label.sk-toggleable__label {cursor: pointer;display: block;width: 100%;margin-bottom: 0;padding: 0.3em;box-sizing: border-box;text-align: center;}#sk-container-id-4 label.sk-toggleable__label-arrow:before {content: \"▸\";float: left;margin-right: 0.25em;color: #696969;}#sk-container-id-4 label.sk-toggleable__label-arrow:hover:before {color: black;}#sk-container-id-4 div.sk-estimator:hover label.sk-toggleable__label-arrow:before {color: black;}#sk-container-id-4 div.sk-toggleable__content {max-height: 0;max-width: 0;overflow: hidden;text-align: left;background-color: #f0f8ff;}#sk-container-id-4 div.sk-toggleable__content pre {margin: 0.2em;color: black;border-radius: 0.25em;background-color: #f0f8ff;}#sk-container-id-4 input.sk-toggleable__control:checked~div.sk-toggleable__content {max-height: 200px;max-width: 100%;overflow: auto;}#sk-container-id-4 input.sk-toggleable__control:checked~label.sk-toggleable__label-arrow:before {content: \"▾\";}#sk-container-id-4 div.sk-estimator input.sk-toggleable__control:checked~label.sk-toggleable__label {background-color: #d4ebff;}#sk-container-id-4 div.sk-label input.sk-toggleable__control:checked~label.sk-toggleable__label {background-color: #d4ebff;}#sk-container-id-4 input.sk-hidden--visually {border: 0;clip: rect(1px 1px 1px 1px);clip: rect(1px, 1px, 1px, 1px);height: 1px;margin: -1px;overflow: hidden;padding: 0;position: absolute;width: 1px;}#sk-container-id-4 div.sk-estimator {font-family: monospace;background-color: #f0f8ff;border: 1px dotted black;border-radius: 0.25em;box-sizing: border-box;margin-bottom: 0.5em;}#sk-container-id-4 div.sk-estimator:hover {background-color: #d4ebff;}#sk-container-id-4 div.sk-parallel-item::after {content: \"\";width: 100%;border-bottom: 1px solid gray;flex-grow: 1;}#sk-container-id-4 div.sk-label:hover label.sk-toggleable__label {background-color: #d4ebff;}#sk-container-id-4 div.sk-serial::before {content: \"\";position: absolute;border-left: 1px solid gray;box-sizing: border-box;top: 0;bottom: 0;left: 50%;z-index: 0;}#sk-container-id-4 div.sk-serial {display: flex;flex-direction: column;align-items: center;background-color: white;padding-right: 0.2em;padding-left: 0.2em;position: relative;}#sk-container-id-4 div.sk-item {position: relative;z-index: 1;}#sk-container-id-4 div.sk-parallel {display: flex;align-items: stretch;justify-content: center;background-color: white;position: relative;}#sk-container-id-4 div.sk-item::before, #sk-container-id-4 div.sk-parallel-item::before {content: \"\";position: absolute;border-left: 1px solid gray;box-sizing: border-box;top: 0;bottom: 0;left: 50%;z-index: -1;}#sk-container-id-4 div.sk-parallel-item {display: flex;flex-direction: column;z-index: 1;position: relative;background-color: white;}#sk-container-id-4 div.sk-parallel-item:first-child::after {align-self: flex-end;width: 50%;}#sk-container-id-4 div.sk-parallel-item:last-child::after {align-self: flex-start;width: 50%;}#sk-container-id-4 div.sk-parallel-item:only-child::after {width: 0;}#sk-container-id-4 div.sk-dashed-wrapped {border: 1px dashed gray;margin: 0 0.4em 0.5em 0.4em;box-sizing: border-box;padding-bottom: 0.4em;background-color: white;}#sk-container-id-4 div.sk-label label {font-family: monospace;font-weight: bold;display: inline-block;line-height: 1.2em;}#sk-container-id-4 div.sk-label-container {text-align: center;}#sk-container-id-4 div.sk-container {/* jupyter's `normalize.less` sets `[hidden] { display: none; }` but bootstrap.min.css set `[hidden] { display: none !important; }` so we also need the `!important` here to be able to override the default hidden behavior on the sphinx rendered scikit-learn.org. See: https://github.com/scikit-learn/scikit-learn/issues/21755 */display: inline-block !important;position: relative;}#sk-container-id-4 div.sk-text-repr-fallback {display: none;}</style><div id=\"sk-container-id-4\" class=\"sk-top-container\"><div class=\"sk-text-repr-fallback\"><pre>LinearRegression()</pre><b>In a Jupyter environment, please rerun this cell to show the HTML representation or trust the notebook. <br />On GitHub, the HTML representation is unable to render, please try loading this page with nbviewer.org.</b></div><div class=\"sk-container\" hidden><div class=\"sk-item\"><div class=\"sk-estimator sk-toggleable\"><input class=\"sk-toggleable__control sk-hidden--visually\" id=\"sk-estimator-id-4\" type=\"checkbox\" checked><label for=\"sk-estimator-id-4\" class=\"sk-toggleable__label sk-toggleable__label-arrow\">LinearRegression</label><div class=\"sk-toggleable__content\"><pre>LinearRegression()</pre></div></div></div></div></div>"
            ]
          },
          "metadata": {},
          "execution_count": 44
        }
      ],
      "source": [
        "model = LinearRegression()\n",
        "model.fit(X_train, y_train)"
      ]
    },
    {
      "cell_type": "code",
      "execution_count": 45,
      "metadata": {
        "colab": {
          "base_uri": "https://localhost:8080/"
        },
        "id": "EDP1fBd62WO6",
        "outputId": "fcdabe31-199c-4d5b-93a9-38ea989ac2cf"
      },
      "outputs": [
        {
          "output_type": "execute_result",
          "data": {
            "text/plain": [
              "0.6620052929422553"
            ]
          },
          "metadata": {},
          "execution_count": 45
        }
      ],
      "source": [
        "from sklearn.metrics import r2_score\n",
        "\n",
        "y_pred = model.predict(X_test)\n",
        "r_squared = r2_score(y_test, y_pred)\n",
        "r_squared"
      ]
    },
    {
      "cell_type": "markdown",
      "metadata": {
        "id": "8lYbT-rJWSiw"
      },
      "source": [
        "# **KNN (K Nearest Neighbors)**\n",
        "\n",
        "Model machine learning yang dapat melakukan prediksi berdasarkan kedekatan karakteristik dengan sejumlah tetangga terdekat, prediksi dapat dilakukan baik secara classification atau regressi tasks"
      ]
    },
    {
      "cell_type": "markdown",
      "metadata": {
        "id": "V9vld96OafaM"
      },
      "source": [
        "## **KNN Classification**"
      ]
    },
    {
      "cell_type": "code",
      "execution_count": 46,
      "metadata": {
        "colab": {
          "base_uri": "https://localhost:8080/",
          "height": 331
        },
        "id": "Dg7gYNAM21oq",
        "outputId": "3ec119d3-bd90-4aee-8510-4b351c4f29ff"
      },
      "outputs": [
        {
          "output_type": "execute_result",
          "data": {
            "text/plain": [
              "   tinggi  berat      jk\n",
              "0     158     64    pria\n",
              "1     170     86    pria\n",
              "2     183     84    pria\n",
              "3     191     80    pria\n",
              "4     155     49  wanita\n",
              "5     163     59  wanita\n",
              "6     180     67  wanita\n",
              "7     158     54  wanita\n",
              "8     178     67  wanita"
            ],
            "text/html": [
              "\n",
              "  <div id=\"df-b2cf29c3-a681-4ffa-8e4f-f2ece616284d\" class=\"colab-df-container\">\n",
              "    <div>\n",
              "<style scoped>\n",
              "    .dataframe tbody tr th:only-of-type {\n",
              "        vertical-align: middle;\n",
              "    }\n",
              "\n",
              "    .dataframe tbody tr th {\n",
              "        vertical-align: top;\n",
              "    }\n",
              "\n",
              "    .dataframe thead th {\n",
              "        text-align: right;\n",
              "    }\n",
              "</style>\n",
              "<table border=\"1\" class=\"dataframe\">\n",
              "  <thead>\n",
              "    <tr style=\"text-align: right;\">\n",
              "      <th></th>\n",
              "      <th>tinggi</th>\n",
              "      <th>berat</th>\n",
              "      <th>jk</th>\n",
              "    </tr>\n",
              "  </thead>\n",
              "  <tbody>\n",
              "    <tr>\n",
              "      <th>0</th>\n",
              "      <td>158</td>\n",
              "      <td>64</td>\n",
              "      <td>pria</td>\n",
              "    </tr>\n",
              "    <tr>\n",
              "      <th>1</th>\n",
              "      <td>170</td>\n",
              "      <td>86</td>\n",
              "      <td>pria</td>\n",
              "    </tr>\n",
              "    <tr>\n",
              "      <th>2</th>\n",
              "      <td>183</td>\n",
              "      <td>84</td>\n",
              "      <td>pria</td>\n",
              "    </tr>\n",
              "    <tr>\n",
              "      <th>3</th>\n",
              "      <td>191</td>\n",
              "      <td>80</td>\n",
              "      <td>pria</td>\n",
              "    </tr>\n",
              "    <tr>\n",
              "      <th>4</th>\n",
              "      <td>155</td>\n",
              "      <td>49</td>\n",
              "      <td>wanita</td>\n",
              "    </tr>\n",
              "    <tr>\n",
              "      <th>5</th>\n",
              "      <td>163</td>\n",
              "      <td>59</td>\n",
              "      <td>wanita</td>\n",
              "    </tr>\n",
              "    <tr>\n",
              "      <th>6</th>\n",
              "      <td>180</td>\n",
              "      <td>67</td>\n",
              "      <td>wanita</td>\n",
              "    </tr>\n",
              "    <tr>\n",
              "      <th>7</th>\n",
              "      <td>158</td>\n",
              "      <td>54</td>\n",
              "      <td>wanita</td>\n",
              "    </tr>\n",
              "    <tr>\n",
              "      <th>8</th>\n",
              "      <td>178</td>\n",
              "      <td>67</td>\n",
              "      <td>wanita</td>\n",
              "    </tr>\n",
              "  </tbody>\n",
              "</table>\n",
              "</div>\n",
              "    <div class=\"colab-df-buttons\">\n",
              "\n",
              "  <div class=\"colab-df-container\">\n",
              "    <button class=\"colab-df-convert\" onclick=\"convertToInteractive('df-b2cf29c3-a681-4ffa-8e4f-f2ece616284d')\"\n",
              "            title=\"Convert this dataframe to an interactive table.\"\n",
              "            style=\"display:none;\">\n",
              "\n",
              "  <svg xmlns=\"http://www.w3.org/2000/svg\" height=\"24px\" viewBox=\"0 -960 960 960\">\n",
              "    <path d=\"M120-120v-720h720v720H120Zm60-500h600v-160H180v160Zm220 220h160v-160H400v160Zm0 220h160v-160H400v160ZM180-400h160v-160H180v160Zm440 0h160v-160H620v160ZM180-180h160v-160H180v160Zm440 0h160v-160H620v160Z\"/>\n",
              "  </svg>\n",
              "    </button>\n",
              "\n",
              "  <style>\n",
              "    .colab-df-container {\n",
              "      display:flex;\n",
              "      gap: 12px;\n",
              "    }\n",
              "\n",
              "    .colab-df-convert {\n",
              "      background-color: #E8F0FE;\n",
              "      border: none;\n",
              "      border-radius: 50%;\n",
              "      cursor: pointer;\n",
              "      display: none;\n",
              "      fill: #1967D2;\n",
              "      height: 32px;\n",
              "      padding: 0 0 0 0;\n",
              "      width: 32px;\n",
              "    }\n",
              "\n",
              "    .colab-df-convert:hover {\n",
              "      background-color: #E2EBFA;\n",
              "      box-shadow: 0px 1px 2px rgba(60, 64, 67, 0.3), 0px 1px 3px 1px rgba(60, 64, 67, 0.15);\n",
              "      fill: #174EA6;\n",
              "    }\n",
              "\n",
              "    .colab-df-buttons div {\n",
              "      margin-bottom: 4px;\n",
              "    }\n",
              "\n",
              "    [theme=dark] .colab-df-convert {\n",
              "      background-color: #3B4455;\n",
              "      fill: #D2E3FC;\n",
              "    }\n",
              "\n",
              "    [theme=dark] .colab-df-convert:hover {\n",
              "      background-color: #434B5C;\n",
              "      box-shadow: 0px 1px 3px 1px rgba(0, 0, 0, 0.15);\n",
              "      filter: drop-shadow(0px 1px 2px rgba(0, 0, 0, 0.3));\n",
              "      fill: #FFFFFF;\n",
              "    }\n",
              "  </style>\n",
              "\n",
              "    <script>\n",
              "      const buttonEl =\n",
              "        document.querySelector('#df-b2cf29c3-a681-4ffa-8e4f-f2ece616284d button.colab-df-convert');\n",
              "      buttonEl.style.display =\n",
              "        google.colab.kernel.accessAllowed ? 'block' : 'none';\n",
              "\n",
              "      async function convertToInteractive(key) {\n",
              "        const element = document.querySelector('#df-b2cf29c3-a681-4ffa-8e4f-f2ece616284d');\n",
              "        const dataTable =\n",
              "          await google.colab.kernel.invokeFunction('convertToInteractive',\n",
              "                                                    [key], {});\n",
              "        if (!dataTable) return;\n",
              "\n",
              "        const docLinkHtml = 'Like what you see? Visit the ' +\n",
              "          '<a target=\"_blank\" href=https://colab.research.google.com/notebooks/data_table.ipynb>data table notebook</a>'\n",
              "          + ' to learn more about interactive tables.';\n",
              "        element.innerHTML = '';\n",
              "        dataTable['output_type'] = 'display_data';\n",
              "        await google.colab.output.renderOutput(dataTable, element);\n",
              "        const docLink = document.createElement('div');\n",
              "        docLink.innerHTML = docLinkHtml;\n",
              "        element.appendChild(docLink);\n",
              "      }\n",
              "    </script>\n",
              "  </div>\n",
              "\n",
              "\n",
              "<div id=\"df-dbff7d39-a62a-45a4-9d61-7435ee7c89f9\">\n",
              "  <button class=\"colab-df-quickchart\" onclick=\"quickchart('df-dbff7d39-a62a-45a4-9d61-7435ee7c89f9')\"\n",
              "            title=\"Suggest charts.\"\n",
              "            style=\"display:none;\">\n",
              "\n",
              "<svg xmlns=\"http://www.w3.org/2000/svg\" height=\"24px\"viewBox=\"0 0 24 24\"\n",
              "     width=\"24px\">\n",
              "    <g>\n",
              "        <path d=\"M19 3H5c-1.1 0-2 .9-2 2v14c0 1.1.9 2 2 2h14c1.1 0 2-.9 2-2V5c0-1.1-.9-2-2-2zM9 17H7v-7h2v7zm4 0h-2V7h2v10zm4 0h-2v-4h2v4z\"/>\n",
              "    </g>\n",
              "</svg>\n",
              "  </button>\n",
              "\n",
              "<style>\n",
              "  .colab-df-quickchart {\n",
              "      --bg-color: #E8F0FE;\n",
              "      --fill-color: #1967D2;\n",
              "      --hover-bg-color: #E2EBFA;\n",
              "      --hover-fill-color: #174EA6;\n",
              "      --disabled-fill-color: #AAA;\n",
              "      --disabled-bg-color: #DDD;\n",
              "  }\n",
              "\n",
              "  [theme=dark] .colab-df-quickchart {\n",
              "      --bg-color: #3B4455;\n",
              "      --fill-color: #D2E3FC;\n",
              "      --hover-bg-color: #434B5C;\n",
              "      --hover-fill-color: #FFFFFF;\n",
              "      --disabled-bg-color: #3B4455;\n",
              "      --disabled-fill-color: #666;\n",
              "  }\n",
              "\n",
              "  .colab-df-quickchart {\n",
              "    background-color: var(--bg-color);\n",
              "    border: none;\n",
              "    border-radius: 50%;\n",
              "    cursor: pointer;\n",
              "    display: none;\n",
              "    fill: var(--fill-color);\n",
              "    height: 32px;\n",
              "    padding: 0;\n",
              "    width: 32px;\n",
              "  }\n",
              "\n",
              "  .colab-df-quickchart:hover {\n",
              "    background-color: var(--hover-bg-color);\n",
              "    box-shadow: 0 1px 2px rgba(60, 64, 67, 0.3), 0 1px 3px 1px rgba(60, 64, 67, 0.15);\n",
              "    fill: var(--button-hover-fill-color);\n",
              "  }\n",
              "\n",
              "  .colab-df-quickchart-complete:disabled,\n",
              "  .colab-df-quickchart-complete:disabled:hover {\n",
              "    background-color: var(--disabled-bg-color);\n",
              "    fill: var(--disabled-fill-color);\n",
              "    box-shadow: none;\n",
              "  }\n",
              "\n",
              "  .colab-df-spinner {\n",
              "    border: 2px solid var(--fill-color);\n",
              "    border-color: transparent;\n",
              "    border-bottom-color: var(--fill-color);\n",
              "    animation:\n",
              "      spin 1s steps(1) infinite;\n",
              "  }\n",
              "\n",
              "  @keyframes spin {\n",
              "    0% {\n",
              "      border-color: transparent;\n",
              "      border-bottom-color: var(--fill-color);\n",
              "      border-left-color: var(--fill-color);\n",
              "    }\n",
              "    20% {\n",
              "      border-color: transparent;\n",
              "      border-left-color: var(--fill-color);\n",
              "      border-top-color: var(--fill-color);\n",
              "    }\n",
              "    30% {\n",
              "      border-color: transparent;\n",
              "      border-left-color: var(--fill-color);\n",
              "      border-top-color: var(--fill-color);\n",
              "      border-right-color: var(--fill-color);\n",
              "    }\n",
              "    40% {\n",
              "      border-color: transparent;\n",
              "      border-right-color: var(--fill-color);\n",
              "      border-top-color: var(--fill-color);\n",
              "    }\n",
              "    60% {\n",
              "      border-color: transparent;\n",
              "      border-right-color: var(--fill-color);\n",
              "    }\n",
              "    80% {\n",
              "      border-color: transparent;\n",
              "      border-right-color: var(--fill-color);\n",
              "      border-bottom-color: var(--fill-color);\n",
              "    }\n",
              "    90% {\n",
              "      border-color: transparent;\n",
              "      border-bottom-color: var(--fill-color);\n",
              "    }\n",
              "  }\n",
              "</style>\n",
              "\n",
              "  <script>\n",
              "    async function quickchart(key) {\n",
              "      const quickchartButtonEl =\n",
              "        document.querySelector('#' + key + ' button');\n",
              "      quickchartButtonEl.disabled = true;  // To prevent multiple clicks.\n",
              "      quickchartButtonEl.classList.add('colab-df-spinner');\n",
              "      try {\n",
              "        const charts = await google.colab.kernel.invokeFunction(\n",
              "            'suggestCharts', [key], {});\n",
              "      } catch (error) {\n",
              "        console.error('Error during call to suggestCharts:', error);\n",
              "      }\n",
              "      quickchartButtonEl.classList.remove('colab-df-spinner');\n",
              "      quickchartButtonEl.classList.add('colab-df-quickchart-complete');\n",
              "    }\n",
              "    (() => {\n",
              "      let quickchartButtonEl =\n",
              "        document.querySelector('#df-dbff7d39-a62a-45a4-9d61-7435ee7c89f9 button');\n",
              "      quickchartButtonEl.style.display =\n",
              "        google.colab.kernel.accessAllowed ? 'block' : 'none';\n",
              "    })();\n",
              "  </script>\n",
              "</div>\n",
              "    </div>\n",
              "  </div>\n"
            ]
          },
          "metadata": {},
          "execution_count": 46
        }
      ],
      "source": [
        "import pandas as pd\n",
        "sensus = {\n",
        "    'tinggi' : [158, 170, 183, 191, 155, 163, 180, 158, 178],\n",
        "    'berat' : [64, 86, 84, 80, 49, 59, 67, 54, 67],\n",
        "    'jk' : ['pria', 'pria', 'pria','pria', 'wanita','wanita', 'wanita', 'wanita', 'wanita']\n",
        "}\n",
        "\n",
        "sensus_df = pd.DataFrame(sensus)\n",
        "sensus_df"
      ]
    },
    {
      "cell_type": "code",
      "execution_count": 47,
      "metadata": {
        "colab": {
          "base_uri": "https://localhost:8080/",
          "height": 472
        },
        "id": "y81KTg0Vaccq",
        "outputId": "22970eed-5b45-4dca-a05d-6ee0da7619dc"
      },
      "outputs": [
        {
          "output_type": "display_data",
          "data": {
            "text/plain": [
              "<Figure size 640x480 with 1 Axes>"
            ],
            "image/png": "[encoded data removed]"
          },
          "metadata": {}
        }
      ],
      "source": [
        "import matplotlib.pyplot as plt\n",
        "\n",
        "fig, ax = plt.subplots()\n",
        "for jk, d in sensus_df.groupby('jk'):\n",
        "  ax.scatter(d['tinggi'], d['berat'], label = jk)\n",
        "\n",
        "plt.legend(loc = 'upper left')\n",
        "plt.title('Sebaran data tinggi, berat dan jenis kelamin penduduk')\n",
        "plt.xlabel('tinggi badan')\n",
        "plt.ylabel('berat badan')\n",
        "plt.show()"
      ]
    },
    {
      "cell_type": "code",
      "execution_count": 48,
      "metadata": {
        "id": "CGA6XoClbjo-"
      },
      "outputs": [],
      "source": [
        "import numpy as np\n",
        "\n",
        "X_train = np.array(sensus_df[['tinggi', 'berat']])\n",
        "y_train = np.array(sensus_df['jk'])"
      ]
    },
    {
      "cell_type": "code",
      "execution_count": 49,
      "metadata": {
        "id": "R2npF0pHcfsj"
      },
      "outputs": [],
      "source": [
        "from sklearn.preprocessing import LabelBinarizer\n",
        "lb = LabelBinarizer()\n",
        "y_train = lb.fit_transform(y_train)"
      ]
    },
    {
      "cell_type": "code",
      "execution_count": 50,
      "metadata": {
        "colab": {
          "base_uri": "https://localhost:8080/"
        },
        "id": "0jCheC6Uc_R-",
        "outputId": "a5207e52-b748-4883-95f3-6d81cfed546a"
      },
      "outputs": [
        {
          "output_type": "execute_result",
          "data": {
            "text/plain": [
              "array([0, 0, 0, 0, 1, 1, 1, 1, 1])"
            ]
          },
          "metadata": {},
          "execution_count": 50
        }
      ],
      "source": [
        "y_train = y_train.flatten()\n",
        "y_train"
      ]
    },
    {
      "cell_type": "code",
      "execution_count": 51,
      "metadata": {
        "colab": {
          "base_uri": "https://localhost:8080/",
          "height": 74
        },
        "id": "G4WMUJ2AdMXR",
        "outputId": "44813672-fb99-4ee9-f603-3c72fc4ce3c5"
      },
      "outputs": [
        {
          "output_type": "execute_result",
          "data": {
            "text/plain": [
              "KNeighborsClassifier(n_neighbors=3)"
            ],
            "text/html": [
              "<style>#sk-container-id-5 {color: black;background-color: white;}#sk-container-id-5 pre{padding: 0;}#sk-container-id-5 div.sk-toggleable {background-color: white;}#sk-container-id-5 label.sk-toggleable__label {cursor: pointer;display: block;width: 100%;margin-bottom: 0;padding: 0.3em;box-sizing: border-box;text-align: center;}#sk-container-id-5 label.sk-toggleable__label-arrow:before {content: \"▸\";float: left;margin-right: 0.25em;color: #696969;}#sk-container-id-5 label.sk-toggleable__label-arrow:hover:before {color: black;}#sk-container-id-5 div.sk-estimator:hover label.sk-toggleable__label-arrow:before {color: black;}#sk-container-id-5 div.sk-toggleable__content {max-height: 0;max-width: 0;overflow: hidden;text-align: left;background-color: #f0f8ff;}#sk-container-id-5 div.sk-toggleable__content pre {margin: 0.2em;color: black;border-radius: 0.25em;background-color: #f0f8ff;}#sk-container-id-5 input.sk-toggleable__control:checked~div.sk-toggleable__content {max-height: 200px;max-width: 100%;overflow: auto;}#sk-container-id-5 input.sk-toggleable__control:checked~label.sk-toggleable__label-arrow:before {content: \"▾\";}#sk-container-id-5 div.sk-estimator input.sk-toggleable__control:checked~label.sk-toggleable__label {background-color: #d4ebff;}#sk-container-id-5 div.sk-label input.sk-toggleable__control:checked~label.sk-toggleable__label {background-color: #d4ebff;}#sk-container-id-5 input.sk-hidden--visually {border: 0;clip: rect(1px 1px 1px 1px);clip: rect(1px, 1px, 1px, 1px);height: 1px;margin: -1px;overflow: hidden;padding: 0;position: absolute;width: 1px;}#sk-container-id-5 div.sk-estimator {font-family: monospace;background-color: #f0f8ff;border: 1px dotted black;border-radius: 0.25em;box-sizing: border-box;margin-bottom: 0.5em;}#sk-container-id-5 div.sk-estimator:hover {background-color: #d4ebff;}#sk-container-id-5 div.sk-parallel-item::after {content: \"\";width: 100%;border-bottom: 1px solid gray;flex-grow: 1;}#sk-container-id-5 div.sk-label:hover label.sk-toggleable__label {background-color: #d4ebff;}#sk-container-id-5 div.sk-serial::before {content: \"\";position: absolute;border-left: 1px solid gray;box-sizing: border-box;top: 0;bottom: 0;left: 50%;z-index: 0;}#sk-container-id-5 div.sk-serial {display: flex;flex-direction: column;align-items: center;background-color: white;padding-right: 0.2em;padding-left: 0.2em;position: relative;}#sk-container-id-5 div.sk-item {position: relative;z-index: 1;}#sk-container-id-5 div.sk-parallel {display: flex;align-items: stretch;justify-content: center;background-color: white;position: relative;}#sk-container-id-5 div.sk-item::before, #sk-container-id-5 div.sk-parallel-item::before {content: \"\";position: absolute;border-left: 1px solid gray;box-sizing: border-box;top: 0;bottom: 0;left: 50%;z-index: -1;}#sk-container-id-5 div.sk-parallel-item {display: flex;flex-direction: column;z-index: 1;position: relative;background-color: white;}#sk-container-id-5 div.sk-parallel-item:first-child::after {align-self: flex-end;width: 50%;}#sk-container-id-5 div.sk-parallel-item:last-child::after {align-self: flex-start;width: 50%;}#sk-container-id-5 div.sk-parallel-item:only-child::after {width: 0;}#sk-container-id-5 div.sk-dashed-wrapped {border: 1px dashed gray;margin: 0 0.4em 0.5em 0.4em;box-sizing: border-box;padding-bottom: 0.4em;background-color: white;}#sk-container-id-5 div.sk-label label {font-family: monospace;font-weight: bold;display: inline-block;line-height: 1.2em;}#sk-container-id-5 div.sk-label-container {text-align: center;}#sk-container-id-5 div.sk-container {/* jupyter's `normalize.less` sets `[hidden] { display: none; }` but bootstrap.min.css set `[hidden] { display: none !important; }` so we also need the `!important` here to be able to override the default hidden behavior on the sphinx rendered scikit-learn.org. See: https://github.com/scikit-learn/scikit-learn/issues/21755 */display: inline-block !important;position: relative;}#sk-container-id-5 div.sk-text-repr-fallback {display: none;}</style><div id=\"sk-container-id-5\" class=\"sk-top-container\"><div class=\"sk-text-repr-fallback\"><pre>KNeighborsClassifier(n_neighbors=3)</pre><b>In a Jupyter environment, please rerun this cell to show the HTML representation or trust the notebook. <br />On GitHub, the HTML representation is unable to render, please try loading this page with nbviewer.org.</b></div><div class=\"sk-container\" hidden><div class=\"sk-item\"><div class=\"sk-estimator sk-toggleable\"><input class=\"sk-toggleable__control sk-hidden--visually\" id=\"sk-estimator-id-5\" type=\"checkbox\" checked><label for=\"sk-estimator-id-5\" class=\"sk-toggleable__label sk-toggleable__label-arrow\">KNeighborsClassifier</label><div class=\"sk-toggleable__content\"><pre>KNeighborsClassifier(n_neighbors=3)</pre></div></div></div></div></div>"
            ]
          },
          "metadata": {},
          "execution_count": 51
        }
      ],
      "source": [
        "from sklearn.neighbors import KNeighborsClassifier\n",
        "\n",
        "K = 3\n",
        "\n",
        "model = KNeighborsClassifier(n_neighbors = K)\n",
        "model.fit(X_train, y_train)"
      ]
    },
    {
      "cell_type": "code",
      "execution_count": 52,
      "metadata": {
        "colab": {
          "base_uri": "https://localhost:8080/"
        },
        "id": "oEBQ02r_eGu6",
        "outputId": "d2154776-62e3-46ac-ae99-6edc59dd2903"
      },
      "outputs": [
        {
          "output_type": "execute_result",
          "data": {
            "text/plain": [
              "array([[155,  70]])"
            ]
          },
          "metadata": {},
          "execution_count": 52
        }
      ],
      "source": [
        "tinggi_new = 155\n",
        "berat_new = 70\n",
        "\n",
        "X_new = np.array([tinggi_new, berat_new]).reshape(1,-1)\n",
        "X_new"
      ]
    },
    {
      "cell_type": "code",
      "execution_count": 53,
      "metadata": {
        "colab": {
          "base_uri": "https://localhost:8080/"
        },
        "id": "Lo0Ab3m6evpk",
        "outputId": "7b1e935a-a7c4-4146-c6e4-4db5d7545df8"
      },
      "outputs": [
        {
          "output_type": "execute_result",
          "data": {
            "text/plain": [
              "array([1])"
            ]
          },
          "metadata": {},
          "execution_count": 53
        }
      ],
      "source": [
        "y_new = model.predict(X_new)\n",
        "y_new"
      ]
    },
    {
      "cell_type": "code",
      "execution_count": 54,
      "metadata": {
        "colab": {
          "base_uri": "https://localhost:8080/"
        },
        "id": "MApRB0tme0yu",
        "outputId": "b29c3ad5-2d30-4713-8979-8ee629785ed3"
      },
      "outputs": [
        {
          "output_type": "execute_result",
          "data": {
            "text/plain": [
              "array(['wanita'], dtype='<U6')"
            ]
          },
          "metadata": {},
          "execution_count": 54
        }
      ],
      "source": [
        "lb.inverse_transform(y_new)"
      ]
    },
    {
      "cell_type": "code",
      "execution_count": 55,
      "metadata": {
        "colab": {
          "base_uri": "https://localhost:8080/",
          "height": 472
        },
        "id": "bbrRobAifBeH",
        "outputId": "db49b2f2-be55-4198-f4c4-0be8e620ff47"
      },
      "outputs": [
        {
          "output_type": "display_data",
          "data": {
            "text/plain": [
              "<Figure size 640x480 with 1 Axes>"
            ],
            "image/png": "[encoded data removed]"
          },
          "metadata": {}
        }
      ],
      "source": [
        "import matplotlib.pyplot as plt\n",
        "\n",
        "fig, ax = plt.subplots()\n",
        "for jk, d in sensus_df.groupby('jk'):\n",
        "  ax.scatter(d['tinggi'], d['berat'], label = jk)\n",
        "\n",
        "plt.scatter(tinggi_new,\n",
        "            berat_new,\n",
        "            marker = 's',\n",
        "            color = 'red',\n",
        "            label = 'misterius')\n",
        "\n",
        "plt.legend(loc = 'upper left')\n",
        "plt.title('Sebaran data tinggi, berat dan jenis kelamin penduduk')\n",
        "plt.xlabel('tinggi badan')\n",
        "plt.ylabel('berat badan')\n",
        "plt.show()"
      ]
    },
    {
      "cell_type": "markdown",
      "metadata": {
        "id": "zuAbltmeS39O"
      },
      "source": [
        "**Kalkulasi distance (Euclidean Distance)**\n",
        "\n",
        "distance = V (t1 - t2)^2 + (b1 - b2)^2"
      ]
    },
    {
      "cell_type": "code",
      "execution_count": 56,
      "metadata": {
        "colab": {
          "base_uri": "https://localhost:8080/"
        },
        "id": "hF2muiTpSSSX",
        "outputId": "bebac65e-4e10-42b4-f459-27df8c5a306f"
      },
      "outputs": [
        {
          "output_type": "execute_result",
          "data": {
            "text/plain": [
              "array([155,  70])"
            ]
          },
          "metadata": {},
          "execution_count": 56
        }
      ],
      "source": [
        "misterius = np.array([tinggi_new, berat_new])\n",
        "misterius"
      ]
    },
    {
      "cell_type": "code",
      "execution_count": 57,
      "metadata": {
        "colab": {
          "base_uri": "https://localhost:8080/"
        },
        "id": "uLNfJR__TeyK",
        "outputId": "688c8f7c-d445-49b1-aba9-6ac7a7cc7f52"
      },
      "outputs": [
        {
          "output_type": "execute_result",
          "data": {
            "text/plain": [
              "[6.708203932499369,\n",
              " 21.93171219946131,\n",
              " 31.304951684997057,\n",
              " 37.36308338453881,\n",
              " 21.0,\n",
              " 13.601470508735444,\n",
              " 25.179356624028344,\n",
              " 16.278820596099706,\n",
              " 23.194827009486403]"
            ]
          },
          "metadata": {},
          "execution_count": 57
        }
      ],
      "source": [
        "from scipy.spatial.distance import euclidean\n",
        "data_jarak = [euclidean(misterius, d) for d in X_train]\n",
        "data_jarak"
      ]
    },
    {
      "cell_type": "code",
      "execution_count": 58,
      "metadata": {
        "colab": {
          "base_uri": "https://localhost:8080/",
          "height": 331
        },
        "id": "AYnyllYwTvy3",
        "outputId": "bf7aac79-0c7b-43cd-a7bf-f8b74e406237"
      },
      "outputs": [
        {
          "output_type": "execute_result",
          "data": {
            "text/plain": [
              "   tinggi  berat      jk  data_jarak\n",
              "0     158     64    pria    6.708204\n",
              "5     163     59  wanita   13.601471\n",
              "7     158     54  wanita   16.278821\n",
              "4     155     49  wanita   21.000000\n",
              "1     170     86    pria   21.931712\n",
              "8     178     67  wanita   23.194827\n",
              "6     180     67  wanita   25.179357\n",
              "2     183     84    pria   31.304952\n",
              "3     191     80    pria   37.363083"
            ],
            "text/html": [
              "\n",
              "  <div id=\"df-e2b51f32-0f22-40f1-8cd7-db5029cecd4c\" class=\"colab-df-container\">\n",
              "    <div>\n",
              "<style scoped>\n",
              "    .dataframe tbody tr th:only-of-type {\n",
              "        vertical-align: middle;\n",
              "    }\n",
              "\n",
              "    .dataframe tbody tr th {\n",
              "        vertical-align: top;\n",
              "    }\n",
              "\n",
              "    .dataframe thead th {\n",
              "        text-align: right;\n",
              "    }\n",
              "</style>\n",
              "<table border=\"1\" class=\"dataframe\">\n",
              "  <thead>\n",
              "    <tr style=\"text-align: right;\">\n",
              "      <th></th>\n",
              "      <th>tinggi</th>\n",
              "      <th>berat</th>\n",
              "      <th>jk</th>\n",
              "      <th>data_jarak</th>\n",
              "    </tr>\n",
              "  </thead>\n",
              "  <tbody>\n",
              "    <tr>\n",
              "      <th>0</th>\n",
              "      <td>158</td>\n",
              "      <td>64</td>\n",
              "      <td>pria</td>\n",
              "      <td>6.708204</td>\n",
              "    </tr>\n",
              "    <tr>\n",
              "      <th>5</th>\n",
              "      <td>163</td>\n",
              "      <td>59</td>\n",
              "      <td>wanita</td>\n",
              "      <td>13.601471</td>\n",
              "    </tr>\n",
              "    <tr>\n",
              "      <th>7</th>\n",
              "      <td>158</td>\n",
              "      <td>54</td>\n",
              "      <td>wanita</td>\n",
              "      <td>16.278821</td>\n",
              "    </tr>\n",
              "    <tr>\n",
              "      <th>4</th>\n",
              "      <td>155</td>\n",
              "      <td>49</td>\n",
              "      <td>wanita</td>\n",
              "      <td>21.000000</td>\n",
              "    </tr>\n",
              "    <tr>\n",
              "      <th>1</th>\n",
              "      <td>170</td>\n",
              "      <td>86</td>\n",
              "      <td>pria</td>\n",
              "      <td>21.931712</td>\n",
              "    </tr>\n",
              "    <tr>\n",
              "      <th>8</th>\n",
              "      <td>178</td>\n",
              "      <td>67</td>\n",
              "      <td>wanita</td>\n",
              "      <td>23.194827</td>\n",
              "    </tr>\n",
              "    <tr>\n",
              "      <th>6</th>\n",
              "      <td>180</td>\n",
              "      <td>67</td>\n",
              "      <td>wanita</td>\n",
              "      <td>25.179357</td>\n",
              "    </tr>\n",
              "    <tr>\n",
              "      <th>2</th>\n",
              "      <td>183</td>\n",
              "      <td>84</td>\n",
              "      <td>pria</td>\n",
              "      <td>31.304952</td>\n",
              "    </tr>\n",
              "    <tr>\n",
              "      <th>3</th>\n",
              "      <td>191</td>\n",
              "      <td>80</td>\n",
              "      <td>pria</td>\n",
              "      <td>37.363083</td>\n",
              "    </tr>\n",
              "  </tbody>\n",
              "</table>\n",
              "</div>\n",
              "    <div class=\"colab-df-buttons\">\n",
              "\n",
              "  <div class=\"colab-df-container\">\n",
              "    <button class=\"colab-df-convert\" onclick=\"convertToInteractive('df-e2b51f32-0f22-40f1-8cd7-db5029cecd4c')\"\n",
              "            title=\"Convert this dataframe to an interactive table.\"\n",
              "            style=\"display:none;\">\n",
              "\n",
              "  <svg xmlns=\"http://www.w3.org/2000/svg\" height=\"24px\" viewBox=\"0 -960 960 960\">\n",
              "    <path d=\"M120-120v-720h720v720H120Zm60-500h600v-160H180v160Zm220 220h160v-160H400v160Zm0 220h160v-160H400v160ZM180-400h160v-160H180v160Zm440 0h160v-160H620v160ZM180-180h160v-160H180v160Zm440 0h160v-160H620v160Z\"/>\n",
              "  </svg>\n",
              "    </button>\n",
              "\n",
              "  <style>\n",
              "    .colab-df-container {\n",
              "      display:flex;\n",
              "      gap: 12px;\n",
              "    }\n",
              "\n",
              "    .colab-df-convert {\n",
              "      background-color: #E8F0FE;\n",
              "      border: none;\n",
              "      border-radius: 50%;\n",
              "      cursor: pointer;\n",
              "      display: none;\n",
              "      fill: #1967D2;\n",
              "      height: 32px;\n",
              "      padding: 0 0 0 0;\n",
              "      width: 32px;\n",
              "    }\n",
              "\n",
              "    .colab-df-convert:hover {\n",
              "      background-color: #E2EBFA;\n",
              "      box-shadow: 0px 1px 2px rgba(60, 64, 67, 0.3), 0px 1px 3px 1px rgba(60, 64, 67, 0.15);\n",
              "      fill: #174EA6;\n",
              "    }\n",
              "\n",
              "    .colab-df-buttons div {\n",
              "      margin-bottom: 4px;\n",
              "    }\n",
              "\n",
              "    [theme=dark] .colab-df-convert {\n",
              "      background-color: #3B4455;\n",
              "      fill: #D2E3FC;\n",
              "    }\n",
              "\n",
              "    [theme=dark] .colab-df-convert:hover {\n",
              "      background-color: #434B5C;\n",
              "      box-shadow: 0px 1px 3px 1px rgba(0, 0, 0, 0.15);\n",
              "      filter: drop-shadow(0px 1px 2px rgba(0, 0, 0, 0.3));\n",
              "      fill: #FFFFFF;\n",
              "    }\n",
              "  </style>\n",
              "\n",
              "    <script>\n",
              "      const buttonEl =\n",
              "        document.querySelector('#df-e2b51f32-0f22-40f1-8cd7-db5029cecd4c button.colab-df-convert');\n",
              "      buttonEl.style.display =\n",
              "        google.colab.kernel.accessAllowed ? 'block' : 'none';\n",
              "\n",
              "      async function convertToInteractive(key) {\n",
              "        const element = document.querySelector('#df-e2b51f32-0f22-40f1-8cd7-db5029cecd4c');\n",
              "        const dataTable =\n",
              "          await google.colab.kernel.invokeFunction('convertToInteractive',\n",
              "                                                    [key], {});\n",
              "        if (!dataTable) return;\n",
              "\n",
              "        const docLinkHtml = 'Like what you see? Visit the ' +\n",
              "          '<a target=\"_blank\" href=https://colab.research.google.com/notebooks/data_table.ipynb>data table notebook</a>'\n",
              "          + ' to learn more about interactive tables.';\n",
              "        element.innerHTML = '';\n",
              "        dataTable['output_type'] = 'display_data';\n",
              "        await google.colab.output.renderOutput(dataTable, element);\n",
              "        const docLink = document.createElement('div');\n",
              "        docLink.innerHTML = docLinkHtml;\n",
              "        element.appendChild(docLink);\n",
              "      }\n",
              "    </script>\n",
              "  </div>\n",
              "\n",
              "\n",
              "<div id=\"df-619db9eb-9b03-4b23-85eb-81f0093b6b9d\">\n",
              "  <button class=\"colab-df-quickchart\" onclick=\"quickchart('df-619db9eb-9b03-4b23-85eb-81f0093b6b9d')\"\n",
              "            title=\"Suggest charts.\"\n",
              "            style=\"display:none;\">\n",
              "\n",
              "<svg xmlns=\"http://www.w3.org/2000/svg\" height=\"24px\"viewBox=\"0 0 24 24\"\n",
              "     width=\"24px\">\n",
              "    <g>\n",
              "        <path d=\"M19 3H5c-1.1 0-2 .9-2 2v14c0 1.1.9 2 2 2h14c1.1 0 2-.9 2-2V5c0-1.1-.9-2-2-2zM9 17H7v-7h2v7zm4 0h-2V7h2v10zm4 0h-2v-4h2v4z\"/>\n",
              "    </g>\n",
              "</svg>\n",
              "  </button>\n",
              "\n",
              "<style>\n",
              "  .colab-df-quickchart {\n",
              "      --bg-color: #E8F0FE;\n",
              "      --fill-color: #1967D2;\n",
              "      --hover-bg-color: #E2EBFA;\n",
              "      --hover-fill-color: #174EA6;\n",
              "      --disabled-fill-color: #AAA;\n",
              "      --disabled-bg-color: #DDD;\n",
              "  }\n",
              "\n",
              "  [theme=dark] .colab-df-quickchart {\n",
              "      --bg-color: #3B4455;\n",
              "      --fill-color: #D2E3FC;\n",
              "      --hover-bg-color: #434B5C;\n",
              "      --hover-fill-color: #FFFFFF;\n",
              "      --disabled-bg-color: #3B4455;\n",
              "      --disabled-fill-color: #666;\n",
              "  }\n",
              "\n",
              "  .colab-df-quickchart {\n",
              "    background-color: var(--bg-color);\n",
              "    border: none;\n",
              "    border-radius: 50%;\n",
              "    cursor: pointer;\n",
              "    display: none;\n",
              "    fill: var(--fill-color);\n",
              "    height: 32px;\n",
              "    padding: 0;\n",
              "    width: 32px;\n",
              "  }\n",
              "\n",
              "  .colab-df-quickchart:hover {\n",
              "    background-color: var(--hover-bg-color);\n",
              "    box-shadow: 0 1px 2px rgba(60, 64, 67, 0.3), 0 1px 3px 1px rgba(60, 64, 67, 0.15);\n",
              "    fill: var(--button-hover-fill-color);\n",
              "  }\n",
              "\n",
              "  .colab-df-quickchart-complete:disabled,\n",
              "  .colab-df-quickchart-complete:disabled:hover {\n",
              "    background-color: var(--disabled-bg-color);\n",
              "    fill: var(--disabled-fill-color);\n",
              "    box-shadow: none;\n",
              "  }\n",
              "\n",
              "  .colab-df-spinner {\n",
              "    border: 2px solid var(--fill-color);\n",
              "    border-color: transparent;\n",
              "    border-bottom-color: var(--fill-color);\n",
              "    animation:\n",
              "      spin 1s steps(1) infinite;\n",
              "  }\n",
              "\n",
              "  @keyframes spin {\n",
              "    0% {\n",
              "      border-color: transparent;\n",
              "      border-bottom-color: var(--fill-color);\n",
              "      border-left-color: var(--fill-color);\n",
              "    }\n",
              "    20% {\n",
              "      border-color: transparent;\n",
              "      border-left-color: var(--fill-color);\n",
              "      border-top-color: var(--fill-color);\n",
              "    }\n",
              "    30% {\n",
              "      border-color: transparent;\n",
              "      border-left-color: var(--fill-color);\n",
              "      border-top-color: var(--fill-color);\n",
              "      border-right-color: var(--fill-color);\n",
              "    }\n",
              "    40% {\n",
              "      border-color: transparent;\n",
              "      border-right-color: var(--fill-color);\n",
              "      border-top-color: var(--fill-color);\n",
              "    }\n",
              "    60% {\n",
              "      border-color: transparent;\n",
              "      border-right-color: var(--fill-color);\n",
              "    }\n",
              "    80% {\n",
              "      border-color: transparent;\n",
              "      border-right-color: var(--fill-color);\n",
              "      border-bottom-color: var(--fill-color);\n",
              "    }\n",
              "    90% {\n",
              "      border-color: transparent;\n",
              "      border-bottom-color: var(--fill-color);\n",
              "    }\n",
              "  }\n",
              "</style>\n",
              "\n",
              "  <script>\n",
              "    async function quickchart(key) {\n",
              "      const quickchartButtonEl =\n",
              "        document.querySelector('#' + key + ' button');\n",
              "      quickchartButtonEl.disabled = true;  // To prevent multiple clicks.\n",
              "      quickchartButtonEl.classList.add('colab-df-spinner');\n",
              "      try {\n",
              "        const charts = await google.colab.kernel.invokeFunction(\n",
              "            'suggestCharts', [key], {});\n",
              "      } catch (error) {\n",
              "        console.error('Error during call to suggestCharts:', error);\n",
              "      }\n",
              "      quickchartButtonEl.classList.remove('colab-df-spinner');\n",
              "      quickchartButtonEl.classList.add('colab-df-quickchart-complete');\n",
              "    }\n",
              "    (() => {\n",
              "      let quickchartButtonEl =\n",
              "        document.querySelector('#df-619db9eb-9b03-4b23-85eb-81f0093b6b9d button');\n",
              "      quickchartButtonEl.style.display =\n",
              "        google.colab.kernel.accessAllowed ? 'block' : 'none';\n",
              "    })();\n",
              "  </script>\n",
              "</div>\n",
              "    </div>\n",
              "  </div>\n"
            ]
          },
          "metadata": {},
          "execution_count": 58
        }
      ],
      "source": [
        "sensus_df['data_jarak'] = data_jarak\n",
        "sensus_df.sort_values(['data_jarak'])"
      ]
    },
    {
      "cell_type": "markdown",
      "metadata": {
        "id": "4hQaI_JHUfIz"
      },
      "source": [
        "sebelumnya sudah ditentukan jumlah K atau tetangga yaitu 3, maka KNN akan memprediksi 3 tetangga terdekat dari objek. Karena terdapat 2 wanita dibanding 1 pria sebagai tertangga terdekat, maka KNN akan memprediksi bahwa objek tersebut merupakan seorang wanita"
      ]
    },
    {
      "cell_type": "code",
      "execution_count": 59,
      "metadata": {
        "colab": {
          "base_uri": "https://localhost:8080/"
        },
        "id": "iCT7P9vlUC6a",
        "outputId": "002706de-d478-4126-9a40-db204cfac123"
      },
      "outputs": [
        {
          "output_type": "stream",
          "name": "stdout",
          "text": [
            "[[168  65]\n",
            " [180  96]\n",
            " [160  52]\n",
            " [169  67]]\n",
            "[0 0 1 1]\n"
          ]
        }
      ],
      "source": [
        "X_test = np.array([[168, 65], [180, 96], [160, 52], [169, 67]])\n",
        "y_test = lb.transform(np.array(['pria','pria','wanita','wanita'])).flatten()\n",
        "\n",
        "print(X_test)\n",
        "print(y_test)"
      ]
    },
    {
      "cell_type": "code",
      "execution_count": 60,
      "metadata": {
        "colab": {
          "base_uri": "https://localhost:8080/"
        },
        "id": "u4lW7Yu2Vn7W",
        "outputId": "424ed51e-c567-439e-ea3d-99f5b20b9c8f"
      },
      "outputs": [
        {
          "output_type": "execute_result",
          "data": {
            "text/plain": [
              "array([1, 0, 1, 1])"
            ]
          },
          "metadata": {},
          "execution_count": 60
        }
      ],
      "source": [
        "y_pred = model.predict(X_test)\n",
        "y_pred"
      ]
    },
    {
      "cell_type": "markdown",
      "metadata": {
        "id": "mjzEi6xHV9hs"
      },
      "source": [
        "### **Evaluate Model**"
      ]
    },
    {
      "cell_type": "markdown",
      "metadata": {
        "id": "jNbnkw2RWDw8"
      },
      "source": [
        "Accuracy\n",
        "\n",
        "merupakan proporsi dari contoh test dimana klasifikasi itu benar\n"
      ]
    },
    {
      "cell_type": "code",
      "execution_count": 61,
      "metadata": {
        "colab": {
          "base_uri": "https://localhost:8080/"
        },
        "id": "gvaWb4awVxxW",
        "outputId": "00379362-9fee-43e9-84e4-6750e490dfaa"
      },
      "outputs": [
        {
          "output_type": "execute_result",
          "data": {
            "text/plain": [
              "0.75"
            ]
          },
          "metadata": {},
          "execution_count": 61
        }
      ],
      "source": [
        "from sklearn.metrics import accuracy_score\n",
        "acc = accuracy_score(y_test, y_pred)\n",
        "acc"
      ]
    },
    {
      "cell_type": "markdown",
      "metadata": {
        "id": "calaKOFgW7Y6"
      },
      "source": [
        "Precission\n",
        "\n",
        "proporsi dari contoh test dimana yang diprediksi positif memang true positive atau benar-benar positif"
      ]
    },
    {
      "cell_type": "code",
      "execution_count": 62,
      "metadata": {
        "colab": {
          "base_uri": "https://localhost:8080/"
        },
        "id": "CYTyOY9_Whxm",
        "outputId": "5b273052-4f3d-40c1-e4ae-7d7d4417d927"
      },
      "outputs": [
        {
          "output_type": "execute_result",
          "data": {
            "text/plain": [
              "0.6666666666666666"
            ]
          },
          "metadata": {},
          "execution_count": 62
        }
      ],
      "source": [
        "from sklearn.metrics import precision_score\n",
        "prec = precision_score(y_test, y_pred)\n",
        "prec"
      ]
    },
    {
      "cell_type": "markdown",
      "metadata": {
        "id": "3poei5z8Xnpe"
      },
      "source": [
        "Recall\n",
        "\n",
        "proporsi dari contoh test dimana true positif yang diprediksi memang positif"
      ]
    },
    {
      "cell_type": "code",
      "execution_count": 63,
      "metadata": {
        "colab": {
          "base_uri": "https://localhost:8080/"
        },
        "id": "qL8b9KTIXRha",
        "outputId": "17dab048-af7a-4bc9-86ea-a0817068df14"
      },
      "outputs": [
        {
          "output_type": "execute_result",
          "data": {
            "text/plain": [
              "1.0"
            ]
          },
          "metadata": {},
          "execution_count": 63
        }
      ],
      "source": [
        "from sklearn.metrics import recall_score\n",
        "rec = recall_score(y_test, y_pred)\n",
        "rec"
      ]
    },
    {
      "cell_type": "markdown",
      "metadata": {
        "id": "8nJ77B0TYI81"
      },
      "source": [
        "F1 Score\n",
        "\n",
        "merupakan harmonic mean dari precision dan recall"
      ]
    },
    {
      "cell_type": "code",
      "execution_count": 64,
      "metadata": {
        "colab": {
          "base_uri": "https://localhost:8080/"
        },
        "id": "2rcvz7zIX-T4",
        "outputId": "ee9c3928-ed31-4534-810c-d39e5cff2e85"
      },
      "outputs": [
        {
          "output_type": "execute_result",
          "data": {
            "text/plain": [
              "0.8"
            ]
          },
          "metadata": {},
          "execution_count": 64
        }
      ],
      "source": [
        "from sklearn.metrics import f1_score\n",
        "f1 = f1_score(y_test, y_pred)\n",
        "f1"
      ]
    },
    {
      "cell_type": "code",
      "execution_count": 65,
      "metadata": {
        "id": "zuMXDZhDYRom"
      },
      "outputs": [],
      "source": [
        "from sklearn.metrics import classification_report\n",
        "cls = classification_report(y_test, y_pred)"
      ]
    },
    {
      "cell_type": "code",
      "execution_count": 66,
      "metadata": {
        "colab": {
          "base_uri": "https://localhost:8080/",
          "height": 72
        },
        "id": "Y9LEUL2xYmx9",
        "outputId": "4c276fef-4ba2-48b9-cfed-f831b4ef8d34"
      },
      "outputs": [
        {
          "output_type": "execute_result",
          "data": {
            "text/plain": [
              "'              precision    recall  f1-score   support\\n\\n           0       1.00      0.50      0.67         2\\n           1       0.67      1.00      0.80         2\\n\\n    accuracy                           0.75         4\\n   macro avg       0.83      0.75      0.73         4\\nweighted avg       0.83      0.75      0.73         4\\n'"
            ],
            "application/vnd.google.colaboratory.intrinsic+json": {
              "type": "string"
            }
          },
          "metadata": {},
          "execution_count": 66
        }
      ],
      "source": [
        "cls"
      ]
    },
    {
      "cell_type": "markdown",
      "metadata": {
        "id": "NG6euKVwZcK4"
      },
      "source": [
        "### **Matthew correlation coefficient (MCC)**\n",
        "\n",
        "MCC merupakan alternatif bagi F1 jika mengukur dari performa klasifikasi dari binary\n",
        "\n",
        "MCC yang sempurna yaitu 1\n",
        "\n",
        "trivial clasifier akan memprediksi acak jika nilai 0, dan kesalahan sempurna jika -1"
      ]
    },
    {
      "cell_type": "code",
      "execution_count": 67,
      "metadata": {
        "colab": {
          "base_uri": "https://localhost:8080/"
        },
        "id": "sR2W8-tlZH13",
        "outputId": "5559a7ea-2aad-4676-d422-51ac8e11bfc2"
      },
      "outputs": [
        {
          "output_type": "execute_result",
          "data": {
            "text/plain": [
              "0.5773502691896258"
            ]
          },
          "metadata": {},
          "execution_count": 67
        }
      ],
      "source": [
        "from sklearn.metrics import matthews_corrcoef\n",
        "mcc = matthews_corrcoef(y_test, y_pred)\n",
        "mcc"
      ]
    },
    {
      "cell_type": "markdown",
      "metadata": {
        "id": "nMgni7k5aszH"
      },
      "source": [
        "## **KNN Regression Tasks**"
      ]
    },
    {
      "cell_type": "code",
      "execution_count": 68,
      "metadata": {
        "id": "p4EIjPO6aCc-"
      },
      "outputs": [],
      "source": [
        "import numpy as np\n",
        "\n",
        "X_train = np.array(sensus_df[['tinggi', 'jk']])\n",
        "y_train = np.array(sensus_df['berat'])"
      ]
    },
    {
      "cell_type": "code",
      "execution_count": 69,
      "metadata": {
        "id": "7eWzt0RNa4U6"
      },
      "outputs": [],
      "source": [
        "# mengubah variabel jk menjadi binary\n",
        "\n",
        "X_train_transposed = np.transpose(X_train)\n",
        "\n",
        "from sklearn.preprocessing import LabelBinarizer\n",
        "lb = LabelBinarizer()\n",
        "jk_binarised = lb.fit_transform(X_train_transposed[1])"
      ]
    },
    {
      "cell_type": "code",
      "execution_count": 70,
      "metadata": {
        "colab": {
          "base_uri": "https://localhost:8080/"
        },
        "id": "36hRBTTecVCc",
        "outputId": "e99e121a-f1ab-4217-ceb0-fb7cbe515d1c"
      },
      "outputs": [
        {
          "output_type": "execute_result",
          "data": {
            "text/plain": [
              "array([0, 0, 0, 0, 1, 1, 1, 1, 1])"
            ]
          },
          "metadata": {},
          "execution_count": 70
        }
      ],
      "source": [
        "jk_binarised = jk_binarised.flatten()\n",
        "jk_binarised"
      ]
    },
    {
      "cell_type": "code",
      "execution_count": 71,
      "metadata": {
        "colab": {
          "base_uri": "https://localhost:8080/"
        },
        "id": "IeTQHrUmccdB",
        "outputId": "f4ed0637-c371-48ed-fd5b-cc7af063083f"
      },
      "outputs": [
        {
          "output_type": "stream",
          "name": "stdout",
          "text": [
            "[[158 170 183 191 155 163 180 158 178]\n",
            " [0 0 0 0 1 1 1 1 1]]\n",
            "[[158 0]\n",
            " [170 0]\n",
            " [183 0]\n",
            " [191 0]\n",
            " [155 1]\n",
            " [163 1]\n",
            " [180 1]\n",
            " [158 1]\n",
            " [178 1]]\n"
          ]
        }
      ],
      "source": [
        "X_train_transposed[1] = jk_binarised\n",
        "X_train = X_train_transposed.transpose()\n",
        "\n",
        "print(X_train_transposed)\n",
        "print(X_train)"
      ]
    },
    {
      "cell_type": "code",
      "execution_count": 72,
      "metadata": {
        "colab": {
          "base_uri": "https://localhost:8080/",
          "height": 74
        },
        "id": "fFAU3TOMc-ND",
        "outputId": "d88328a4-05ff-4999-c108-b8da19c82c51"
      },
      "outputs": [
        {
          "output_type": "execute_result",
          "data": {
            "text/plain": [
              "KNeighborsClassifier()"
            ],
            "text/html": [
              "<style>#sk-container-id-6 {color: black;background-color: white;}#sk-container-id-6 pre{padding: 0;}#sk-container-id-6 div.sk-toggleable {background-color: white;}#sk-container-id-6 label.sk-toggleable__label {cursor: pointer;display: block;width: 100%;margin-bottom: 0;padding: 0.3em;box-sizing: border-box;text-align: center;}#sk-container-id-6 label.sk-toggleable__label-arrow:before {content: \"▸\";float: left;margin-right: 0.25em;color: #696969;}#sk-container-id-6 label.sk-toggleable__label-arrow:hover:before {color: black;}#sk-container-id-6 div.sk-estimator:hover label.sk-toggleable__label-arrow:before {color: black;}#sk-container-id-6 div.sk-toggleable__content {max-height: 0;max-width: 0;overflow: hidden;text-align: left;background-color: #f0f8ff;}#sk-container-id-6 div.sk-toggleable__content pre {margin: 0.2em;color: black;border-radius: 0.25em;background-color: #f0f8ff;}#sk-container-id-6 input.sk-toggleable__control:checked~div.sk-toggleable__content {max-height: 200px;max-width: 100%;overflow: auto;}#sk-container-id-6 input.sk-toggleable__control:checked~label.sk-toggleable__label-arrow:before {content: \"▾\";}#sk-container-id-6 div.sk-estimator input.sk-toggleable__control:checked~label.sk-toggleable__label {background-color: #d4ebff;}#sk-container-id-6 div.sk-label input.sk-toggleable__control:checked~label.sk-toggleable__label {background-color: #d4ebff;}#sk-container-id-6 input.sk-hidden--visually {border: 0;clip: rect(1px 1px 1px 1px);clip: rect(1px, 1px, 1px, 1px);height: 1px;margin: -1px;overflow: hidden;padding: 0;position: absolute;width: 1px;}#sk-container-id-6 div.sk-estimator {font-family: monospace;background-color: #f0f8ff;border: 1px dotted black;border-radius: 0.25em;box-sizing: border-box;margin-bottom: 0.5em;}#sk-container-id-6 div.sk-estimator:hover {background-color: #d4ebff;}#sk-container-id-6 div.sk-parallel-item::after {content: \"\";width: 100%;border-bottom: 1px solid gray;flex-grow: 1;}#sk-container-id-6 div.sk-label:hover label.sk-toggleable__label {background-color: #d4ebff;}#sk-container-id-6 div.sk-serial::before {content: \"\";position: absolute;border-left: 1px solid gray;box-sizing: border-box;top: 0;bottom: 0;left: 50%;z-index: 0;}#sk-container-id-6 div.sk-serial {display: flex;flex-direction: column;align-items: center;background-color: white;padding-right: 0.2em;padding-left: 0.2em;position: relative;}#sk-container-id-6 div.sk-item {position: relative;z-index: 1;}#sk-container-id-6 div.sk-parallel {display: flex;align-items: stretch;justify-content: center;background-color: white;position: relative;}#sk-container-id-6 div.sk-item::before, #sk-container-id-6 div.sk-parallel-item::before {content: \"\";position: absolute;border-left: 1px solid gray;box-sizing: border-box;top: 0;bottom: 0;left: 50%;z-index: -1;}#sk-container-id-6 div.sk-parallel-item {display: flex;flex-direction: column;z-index: 1;position: relative;background-color: white;}#sk-container-id-6 div.sk-parallel-item:first-child::after {align-self: flex-end;width: 50%;}#sk-container-id-6 div.sk-parallel-item:last-child::after {align-self: flex-start;width: 50%;}#sk-container-id-6 div.sk-parallel-item:only-child::after {width: 0;}#sk-container-id-6 div.sk-dashed-wrapped {border: 1px dashed gray;margin: 0 0.4em 0.5em 0.4em;box-sizing: border-box;padding-bottom: 0.4em;background-color: white;}#sk-container-id-6 div.sk-label label {font-family: monospace;font-weight: bold;display: inline-block;line-height: 1.2em;}#sk-container-id-6 div.sk-label-container {text-align: center;}#sk-container-id-6 div.sk-container {/* jupyter's `normalize.less` sets `[hidden] { display: none; }` but bootstrap.min.css set `[hidden] { display: none !important; }` so we also need the `!important` here to be able to override the default hidden behavior on the sphinx rendered scikit-learn.org. See: https://github.com/scikit-learn/scikit-learn/issues/21755 */display: inline-block !important;position: relative;}#sk-container-id-6 div.sk-text-repr-fallback {display: none;}</style><div id=\"sk-container-id-6\" class=\"sk-top-container\"><div class=\"sk-text-repr-fallback\"><pre>KNeighborsClassifier()</pre><b>In a Jupyter environment, please rerun this cell to show the HTML representation or trust the notebook. <br />On GitHub, the HTML representation is unable to render, please try loading this page with nbviewer.org.</b></div><div class=\"sk-container\" hidden><div class=\"sk-item\"><div class=\"sk-estimator sk-toggleable\"><input class=\"sk-toggleable__control sk-hidden--visually\" id=\"sk-estimator-id-6\" type=\"checkbox\" checked><label for=\"sk-estimator-id-6\" class=\"sk-toggleable__label sk-toggleable__label-arrow\">KNeighborsClassifier</label><div class=\"sk-toggleable__content\"><pre>KNeighborsClassifier()</pre></div></div></div></div></div>"
            ]
          },
          "metadata": {},
          "execution_count": 72
        }
      ],
      "source": [
        "from sklearn.neighbors import KNeighborsClassifier\n",
        "model = KNeighborsClassifier()\n",
        "model.fit(X_train, y_train)"
      ]
    },
    {
      "cell_type": "code",
      "execution_count": 73,
      "metadata": {
        "colab": {
          "base_uri": "https://localhost:8080/"
        },
        "id": "sftwnPjXdRGU",
        "outputId": "b494985a-c39b-481d-e81b-85c20c92804f"
      },
      "outputs": [
        {
          "output_type": "execute_result",
          "data": {
            "text/plain": [
              "array([[155,   1]])"
            ]
          },
          "metadata": {},
          "execution_count": 73
        }
      ],
      "source": [
        "# prediksi berat badan\n",
        "\n",
        "X_new = np.array([[155,1]])\n",
        "X_new"
      ]
    },
    {
      "cell_type": "code",
      "execution_count": 74,
      "metadata": {
        "colab": {
          "base_uri": "https://localhost:8080/"
        },
        "id": "f6-z8YUIdlgp",
        "outputId": "28908db6-3e15-4244-dcae-dcf76cfd82a4"
      },
      "outputs": [
        {
          "output_type": "execute_result",
          "data": {
            "text/plain": [
              "array([49])"
            ]
          },
          "metadata": {},
          "execution_count": 74
        }
      ],
      "source": [
        "y_pred = model.predict(X_new)\n",
        "y_pred"
      ]
    },
    {
      "cell_type": "code",
      "execution_count": 75,
      "metadata": {
        "colab": {
          "base_uri": "https://localhost:8080/"
        },
        "id": "qXH56TZqdqQu",
        "outputId": "fcb11d37-330a-4739-9d40-7a018fed7a9d"
      },
      "outputs": [
        {
          "output_type": "stream",
          "name": "stdout",
          "text": [
            "[[168   0]\n",
            " [180   0]\n",
            " [160   1]\n",
            " [169   1]]\n",
            "[65 96 52 67]\n"
          ]
        }
      ],
      "source": [
        "X_test = np.array([[168,0], [180,0], [160,1], [169,1]])\n",
        "y_test = np.array([65,96,52,67])\n",
        "\n",
        "print(X_test)\n",
        "print(y_test)"
      ]
    },
    {
      "cell_type": "code",
      "execution_count": 76,
      "metadata": {
        "colab": {
          "base_uri": "https://localhost:8080/"
        },
        "id": "oPSpOp6TJy4y",
        "outputId": "458aeb3a-0627-4f23-f4a0-540438bb9d2d"
      },
      "outputs": [
        {
          "output_type": "execute_result",
          "data": {
            "text/plain": [
              "array([54, 67, 49, 67])"
            ]
          },
          "metadata": {},
          "execution_count": 76
        }
      ],
      "source": [
        "y_pred = model.predict(X_test)\n",
        "y_pred"
      ]
    },
    {
      "cell_type": "markdown",
      "metadata": {
        "id": "pXxBgVV9LpkE"
      },
      "source": [
        "### **Evaluate Model**"
      ]
    },
    {
      "cell_type": "markdown",
      "metadata": {
        "id": "a4ouH6H_LuOS"
      },
      "source": [
        "### R Square"
      ]
    },
    {
      "cell_type": "code",
      "execution_count": 77,
      "metadata": {
        "colab": {
          "base_uri": "https://localhost:8080/"
        },
        "id": "XA7cO3LiJ-L5",
        "outputId": "a0a88bbc-42b0-48dd-82a3-59b11ef62add"
      },
      "outputs": [
        {
          "output_type": "execute_result",
          "data": {
            "text/plain": [
              "0.06092843326885877"
            ]
          },
          "metadata": {},
          "execution_count": 77
        }
      ],
      "source": [
        "from sklearn.metrics import r2_score\n",
        "r_squared = r2_score(y_test,y_pred)\n",
        "r_squared"
      ]
    },
    {
      "cell_type": "markdown",
      "metadata": {
        "id": "5BuLK77kKcum"
      },
      "source": [
        "### Mean Absolute Error\n",
        "\n",
        "MAE merupakan rata-rata dari nilai absolute yang error dari prediksi, semakin kecil MAE nya berarti kualitas dari model semakin bagus"
      ]
    },
    {
      "cell_type": "code",
      "execution_count": 78,
      "metadata": {
        "colab": {
          "base_uri": "https://localhost:8080/"
        },
        "id": "BtiOSNm0KNeH",
        "outputId": "55d8043a-162a-4991-f38b-f42895abc94c"
      },
      "outputs": [
        {
          "output_type": "execute_result",
          "data": {
            "text/plain": [
              "10.75"
            ]
          },
          "metadata": {},
          "execution_count": 78
        }
      ],
      "source": [
        "from sklearn.metrics import  mean_absolute_error\n",
        "mae = mean_absolute_error(y_test,y_pred)\n",
        "mae"
      ]
    },
    {
      "cell_type": "markdown",
      "metadata": {
        "id": "bu71zXQwLg_8"
      },
      "source": [
        "### Mean Square Error\n",
        "\n",
        "MSE adalah rata-rata dari kuadrat yang error dari prediksi, semakin kecil MSE nya berarti kualitas dari model semakin bagus"
      ]
    },
    {
      "cell_type": "code",
      "execution_count": 79,
      "metadata": {
        "colab": {
          "base_uri": "https://localhost:8080/"
        },
        "id": "FLU5MbHvK040",
        "outputId": "5f200b40-18bb-409c-e6bf-a1a20c98e996"
      },
      "outputs": [
        {
          "output_type": "execute_result",
          "data": {
            "text/plain": [
              "242.75"
            ]
          },
          "metadata": {},
          "execution_count": 79
        }
      ],
      "source": [
        "from sklearn.metrics import  mean_squared_error\n",
        "mse = mean_squared_error(y_test,y_pred)\n",
        "mse"
      ]
    },
    {
      "cell_type": "markdown",
      "metadata": {
        "id": "_KvLUZ6_Za27"
      },
      "source": [
        "### **Permasalahan Scaling pada Features**"
      ]
    },
    {
      "cell_type": "code",
      "execution_count": 80,
      "metadata": {
        "colab": {
          "base_uri": "https://localhost:8080/"
        },
        "id": "5RpkWvw_MT6m",
        "outputId": "7d5c4451-31e7-4de0-b2bb-2912619944fd"
      },
      "outputs": [
        {
          "output_type": "execute_result",
          "data": {
            "text/plain": [
              "[60.0, 40.01249804748511]"
            ]
          },
          "metadata": {},
          "execution_count": 80
        }
      ],
      "source": [
        "from scipy.spatial.distance import euclidean\n",
        "\n",
        "#tinggi dalam milimeter\n",
        "X_train = np.array([[1700, 0],[1600, 1]])\n",
        "X_new = np.array([[1640, 0]])\n",
        "\n",
        "[euclidean(X_new[0], d) for d in X_train]"
      ]
    },
    {
      "cell_type": "code",
      "execution_count": 81,
      "metadata": {
        "colab": {
          "base_uri": "https://localhost:8080/"
        },
        "id": "RP4DmLWB7hOZ",
        "outputId": "22e63f37-feb6-4b7b-84f7-42071ceb4f8a"
      },
      "outputs": [
        {
          "output_type": "execute_result",
          "data": {
            "text/plain": [
              "[0.06000000000000005, 1.0007996802557442]"
            ]
          },
          "metadata": {},
          "execution_count": 81
        }
      ],
      "source": [
        "#tinggi dalam milimeter\n",
        "X_train = np.array([[1.7, 0],[1.6, 1]])\n",
        "X_new = np.array([[1.64, 0]])\n",
        "\n",
        "[euclidean(X_new[0], d) for d in X_train]"
      ]
    },
    {
      "cell_type": "markdown",
      "metadata": {
        "id": "UEUqJuD7_Q4X"
      },
      "source": [
        "dapat dilihat bahwa hasil dari scaling dari 2 paramater yaitu milimeter dan meter berbeda, padahal dengan nilai yang sama, hanya saja diganti menjadi satuan meter dan milimeter"
      ]
    },
    {
      "cell_type": "markdown",
      "metadata": {
        "id": "CFedEf1E_eoJ"
      },
      "source": [
        "### **Menetapkan Standard Scaler (Z-Score)**\n",
        "\n",
        "menstandarisasi features dengan menghilangkan mean dan scaling ke unit variance\n",
        "\n",
        "Z = x-x mean /s"
      ]
    },
    {
      "cell_type": "code",
      "execution_count": 82,
      "metadata": {
        "id": "MDQfsATf8oeo"
      },
      "outputs": [],
      "source": [
        "from sklearn.preprocessing import StandardScaler\n",
        "\n",
        "ss = StandardScaler()"
      ]
    },
    {
      "cell_type": "code",
      "execution_count": 83,
      "metadata": {
        "colab": {
          "base_uri": "https://localhost:8080/"
        },
        "id": "2asB-1GRAHXJ",
        "outputId": "051c4418-b591-4c6a-e6a7-412768dc290e"
      },
      "outputs": [
        {
          "output_type": "stream",
          "name": "stdout",
          "text": [
            "[[ 1. -1.]\n",
            " [-1.  1.]]\n",
            "[[-0.2 -1. ]]\n",
            "[1.2, 2.1540659228538015]\n"
          ]
        }
      ],
      "source": [
        "#tinggi dalam milimeter\n",
        "X_train = np.array([[1700, 0],[1600, 1]])\n",
        "X_train_scaled = ss.fit_transform(X_train)\n",
        "print(X_train_scaled)\n",
        "\n",
        "X_new = np.array([[1640, 0]])\n",
        "X_new_scaled = ss.transform(X_new)\n",
        "print(X_new_scaled)\n",
        "\n",
        "jarak = [euclidean(X_new_scaled[0], d) for d in X_train_scaled]\n",
        "print(jarak)"
      ]
    },
    {
      "cell_type": "code",
      "execution_count": 84,
      "metadata": {
        "colab": {
          "base_uri": "https://localhost:8080/"
        },
        "id": "YtXdt30aA2WF",
        "outputId": "75361df2-8fdb-401d-d3a0-48f41da8f335"
      },
      "outputs": [
        {
          "output_type": "stream",
          "name": "stdout",
          "text": [
            "[[ 1. -1.]\n",
            " [-1.  1.]]\n",
            "[[-0.2 -1. ]]\n",
            "[1.2000000000000026, 2.1540659228538006]\n"
          ]
        }
      ],
      "source": [
        "#tinggi dalam meter\n",
        "X_train = np.array([[1.7, 0],[1.6, 1]])\n",
        "X_train_scaled = ss.fit_transform(X_train)\n",
        "print(X_train_scaled)\n",
        "\n",
        "X_new = np.array([[1.64, 0]])\n",
        "X_new_scaled = ss.transform(X_new)\n",
        "print(X_new_scaled)\n",
        "\n",
        "jarak = [euclidean(X_new_scaled[0], d) for d in X_train_scaled]\n",
        "print(jarak)"
      ]
    },
    {
      "cell_type": "markdown",
      "metadata": {
        "id": "d4HJ3qBUDZCn"
      },
      "source": [
        "### **Menerapkan Features Scalling pada KKN**"
      ]
    },
    {
      "cell_type": "code",
      "execution_count": 85,
      "metadata": {
        "id": "Y0XKCT_eCs10"
      },
      "outputs": [],
      "source": [
        "#Dataset\n",
        "\n",
        "#Training Set\n",
        "X_train = np.array([[158,0], [170,0], [183,0], [191,0], [155,1], [163,1], [180,1], [158,1], [170,1]])\n",
        "\n",
        "y_train = np.array([64, 86, 84, 80, 49, 59, 67, 54, 67])\n",
        "\n",
        "\n",
        "#Test Set\n",
        "X_test = np.array([[168,0], [180,1], [160,1], [169,1]])\n",
        "y_test = np.array([65,96,52,67])"
      ]
    },
    {
      "cell_type": "code",
      "execution_count": 86,
      "metadata": {
        "colab": {
          "base_uri": "https://localhost:8080/"
        },
        "id": "DE6XRpgYEmRm",
        "outputId": "4d243335-182e-4428-f862-23665afc650d"
      },
      "outputs": [
        {
          "output_type": "stream",
          "name": "stdout",
          "text": [
            "[[-0.9908706  -1.11803399]\n",
            " [ 0.01869567 -1.11803399]\n",
            " [ 1.11239246 -1.11803399]\n",
            " [ 1.78543664 -1.11803399]\n",
            " [-1.24326216  0.89442719]\n",
            " [-0.57021798  0.89442719]\n",
            " [ 0.86000089  0.89442719]\n",
            " [-0.9908706   0.89442719]\n",
            " [ 0.01869567  0.89442719]]\n",
            "[[-0.14956537 -1.11803399]\n",
            " [ 0.86000089  0.89442719]\n",
            " [-0.82260955  0.89442719]\n",
            " [-0.06543485  0.89442719]]\n"
          ]
        }
      ],
      "source": [
        "X_train_scaled = ss.fit_transform(X_train)\n",
        "X_test_scaled = ss.transform(X_test)\n",
        "\n",
        "print(X_train_scaled)\n",
        "print(X_test_scaled)"
      ]
    },
    {
      "cell_type": "code",
      "execution_count": 87,
      "metadata": {
        "colab": {
          "base_uri": "https://localhost:8080/"
        },
        "id": "TazkmTdBE2Qd",
        "outputId": "5a9fc55c-c636-4e69-8403-060c3f0f7371"
      },
      "outputs": [
        {
          "output_type": "stream",
          "name": "stdout",
          "text": [
            "10.75\n",
            "242.75\n"
          ]
        }
      ],
      "source": [
        "model.fit(X_train, y_train)\n",
        "y_pred = model.predict(X_test)\n",
        "\n",
        "MAE = mean_absolute_error(y_test, y_pred)\n",
        "MSE = mean_squared_error(y_test, y_pred)\n",
        "\n",
        "print(MAE)\n",
        "print(MSE)"
      ]
    },
    {
      "cell_type": "code",
      "execution_count": 88,
      "metadata": {
        "colab": {
          "base_uri": "https://localhost:8080/"
        },
        "id": "sIa6Yjb1Fhz4",
        "outputId": "30b2bbfb-7810-4154-b49c-928c2e19b84d"
      },
      "outputs": [
        {
          "output_type": "stream",
          "name": "stdout",
          "text": [
            "11.25\n",
            "266.75\n"
          ]
        }
      ],
      "source": [
        "model.fit(X_train_scaled, y_train)\n",
        "y_pred = model.predict(X_test_scaled)\n",
        "\n",
        "MAE = mean_absolute_error(y_test, y_pred)\n",
        "MSE = mean_squared_error(y_test, y_pred)\n",
        "\n",
        "print(MAE)\n",
        "print(MSE)"
      ]
    },
    {
      "cell_type": "markdown",
      "metadata": {
        "id": "Up5oPVQEHct2"
      },
      "source": [
        "## **Multiple Linear Regression & Polynomial Regression**"
      ]
    },
    {
      "cell_type": "code",
      "execution_count": 89,
      "metadata": {
        "colab": {
          "base_uri": "https://localhost:8080/",
          "height": 206
        },
        "id": "5skM9vBhGTNG",
        "outputId": "9ceb6d26-7da4-444e-bd9b-8cd6551d4c33"
      },
      "outputs": [
        {
          "output_type": "execute_result",
          "data": {
            "text/plain": [
              "   diameter  toping  price\n",
              "0         6       2    7.0\n",
              "1         8       1    9.0\n",
              "2        10       0   13.0\n",
              "3        14       2   17.5\n",
              "4        18       0   18.0"
            ],
            "text/html": [
              "\n",
              "  <div id=\"df-6111b19b-af2d-45cd-ae15-2f76e528650f\" class=\"colab-df-container\">\n",
              "    <div>\n",
              "<style scoped>\n",
              "    .dataframe tbody tr th:only-of-type {\n",
              "        vertical-align: middle;\n",
              "    }\n",
              "\n",
              "    .dataframe tbody tr th {\n",
              "        vertical-align: top;\n",
              "    }\n",
              "\n",
              "    .dataframe thead th {\n",
              "        text-align: right;\n",
              "    }\n",
              "</style>\n",
              "<table border=\"1\" class=\"dataframe\">\n",
              "  <thead>\n",
              "    <tr style=\"text-align: right;\">\n",
              "      <th></th>\n",
              "      <th>diameter</th>\n",
              "      <th>toping</th>\n",
              "      <th>price</th>\n",
              "    </tr>\n",
              "  </thead>\n",
              "  <tbody>\n",
              "    <tr>\n",
              "      <th>0</th>\n",
              "      <td>6</td>\n",
              "      <td>2</td>\n",
              "      <td>7.0</td>\n",
              "    </tr>\n",
              "    <tr>\n",
              "      <th>1</th>\n",
              "      <td>8</td>\n",
              "      <td>1</td>\n",
              "      <td>9.0</td>\n",
              "    </tr>\n",
              "    <tr>\n",
              "      <th>2</th>\n",
              "      <td>10</td>\n",
              "      <td>0</td>\n",
              "      <td>13.0</td>\n",
              "    </tr>\n",
              "    <tr>\n",
              "      <th>3</th>\n",
              "      <td>14</td>\n",
              "      <td>2</td>\n",
              "      <td>17.5</td>\n",
              "    </tr>\n",
              "    <tr>\n",
              "      <th>4</th>\n",
              "      <td>18</td>\n",
              "      <td>0</td>\n",
              "      <td>18.0</td>\n",
              "    </tr>\n",
              "  </tbody>\n",
              "</table>\n",
              "</div>\n",
              "    <div class=\"colab-df-buttons\">\n",
              "\n",
              "  <div class=\"colab-df-container\">\n",
              "    <button class=\"colab-df-convert\" onclick=\"convertToInteractive('df-6111b19b-af2d-45cd-ae15-2f76e528650f')\"\n",
              "            title=\"Convert this dataframe to an interactive table.\"\n",
              "            style=\"display:none;\">\n",
              "\n",
              "  <svg xmlns=\"http://www.w3.org/2000/svg\" height=\"24px\" viewBox=\"0 -960 960 960\">\n",
              "    <path d=\"M120-120v-720h720v720H120Zm60-500h600v-160H180v160Zm220 220h160v-160H400v160Zm0 220h160v-160H400v160ZM180-400h160v-160H180v160Zm440 0h160v-160H620v160ZM180-180h160v-160H180v160Zm440 0h160v-160H620v160Z\"/>\n",
              "  </svg>\n",
              "    </button>\n",
              "\n",
              "  <style>\n",
              "    .colab-df-container {\n",
              "      display:flex;\n",
              "      gap: 12px;\n",
              "    }\n",
              "\n",
              "    .colab-df-convert {\n",
              "      background-color: #E8F0FE;\n",
              "      border: none;\n",
              "      border-radius: 50%;\n",
              "      cursor: pointer;\n",
              "      display: none;\n",
              "      fill: #1967D2;\n",
              "      height: 32px;\n",
              "      padding: 0 0 0 0;\n",
              "      width: 32px;\n",
              "    }\n",
              "\n",
              "    .colab-df-convert:hover {\n",
              "      background-color: #E2EBFA;\n",
              "      box-shadow: 0px 1px 2px rgba(60, 64, 67, 0.3), 0px 1px 3px 1px rgba(60, 64, 67, 0.15);\n",
              "      fill: #174EA6;\n",
              "    }\n",
              "\n",
              "    .colab-df-buttons div {\n",
              "      margin-bottom: 4px;\n",
              "    }\n",
              "\n",
              "    [theme=dark] .colab-df-convert {\n",
              "      background-color: #3B4455;\n",
              "      fill: #D2E3FC;\n",
              "    }\n",
              "\n",
              "    [theme=dark] .colab-df-convert:hover {\n",
              "      background-color: #434B5C;\n",
              "      box-shadow: 0px 1px 3px 1px rgba(0, 0, 0, 0.15);\n",
              "      filter: drop-shadow(0px 1px 2px rgba(0, 0, 0, 0.3));\n",
              "      fill: #FFFFFF;\n",
              "    }\n",
              "  </style>\n",
              "\n",
              "    <script>\n",
              "      const buttonEl =\n",
              "        document.querySelector('#df-6111b19b-af2d-45cd-ae15-2f76e528650f button.colab-df-convert');\n",
              "      buttonEl.style.display =\n",
              "        google.colab.kernel.accessAllowed ? 'block' : 'none';\n",
              "\n",
              "      async function convertToInteractive(key) {\n",
              "        const element = document.querySelector('#df-6111b19b-af2d-45cd-ae15-2f76e528650f');\n",
              "        const dataTable =\n",
              "          await google.colab.kernel.invokeFunction('convertToInteractive',\n",
              "                                                    [key], {});\n",
              "        if (!dataTable) return;\n",
              "\n",
              "        const docLinkHtml = 'Like what you see? Visit the ' +\n",
              "          '<a target=\"_blank\" href=https://colab.research.google.com/notebooks/data_table.ipynb>data table notebook</a>'\n",
              "          + ' to learn more about interactive tables.';\n",
              "        element.innerHTML = '';\n",
              "        dataTable['output_type'] = 'display_data';\n",
              "        await google.colab.output.renderOutput(dataTable, element);\n",
              "        const docLink = document.createElement('div');\n",
              "        docLink.innerHTML = docLinkHtml;\n",
              "        element.appendChild(docLink);\n",
              "      }\n",
              "    </script>\n",
              "  </div>\n",
              "\n",
              "\n",
              "<div id=\"df-833187ef-aa69-471c-b8d8-e096ec2192ea\">\n",
              "  <button class=\"colab-df-quickchart\" onclick=\"quickchart('df-833187ef-aa69-471c-b8d8-e096ec2192ea')\"\n",
              "            title=\"Suggest charts.\"\n",
              "            style=\"display:none;\">\n",
              "\n",
              "<svg xmlns=\"http://www.w3.org/2000/svg\" height=\"24px\"viewBox=\"0 0 24 24\"\n",
              "     width=\"24px\">\n",
              "    <g>\n",
              "        <path d=\"M19 3H5c-1.1 0-2 .9-2 2v14c0 1.1.9 2 2 2h14c1.1 0 2-.9 2-2V5c0-1.1-.9-2-2-2zM9 17H7v-7h2v7zm4 0h-2V7h2v10zm4 0h-2v-4h2v4z\"/>\n",
              "    </g>\n",
              "</svg>\n",
              "  </button>\n",
              "\n",
              "<style>\n",
              "  .colab-df-quickchart {\n",
              "      --bg-color: #E8F0FE;\n",
              "      --fill-color: #1967D2;\n",
              "      --hover-bg-color: #E2EBFA;\n",
              "      --hover-fill-color: #174EA6;\n",
              "      --disabled-fill-color: #AAA;\n",
              "      --disabled-bg-color: #DDD;\n",
              "  }\n",
              "\n",
              "  [theme=dark] .colab-df-quickchart {\n",
              "      --bg-color: #3B4455;\n",
              "      --fill-color: #D2E3FC;\n",
              "      --hover-bg-color: #434B5C;\n",
              "      --hover-fill-color: #FFFFFF;\n",
              "      --disabled-bg-color: #3B4455;\n",
              "      --disabled-fill-color: #666;\n",
              "  }\n",
              "\n",
              "  .colab-df-quickchart {\n",
              "    background-color: var(--bg-color);\n",
              "    border: none;\n",
              "    border-radius: 50%;\n",
              "    cursor: pointer;\n",
              "    display: none;\n",
              "    fill: var(--fill-color);\n",
              "    height: 32px;\n",
              "    padding: 0;\n",
              "    width: 32px;\n",
              "  }\n",
              "\n",
              "  .colab-df-quickchart:hover {\n",
              "    background-color: var(--hover-bg-color);\n",
              "    box-shadow: 0 1px 2px rgba(60, 64, 67, 0.3), 0 1px 3px 1px rgba(60, 64, 67, 0.15);\n",
              "    fill: var(--button-hover-fill-color);\n",
              "  }\n",
              "\n",
              "  .colab-df-quickchart-complete:disabled,\n",
              "  .colab-df-quickchart-complete:disabled:hover {\n",
              "    background-color: var(--disabled-bg-color);\n",
              "    fill: var(--disabled-fill-color);\n",
              "    box-shadow: none;\n",
              "  }\n",
              "\n",
              "  .colab-df-spinner {\n",
              "    border: 2px solid var(--fill-color);\n",
              "    border-color: transparent;\n",
              "    border-bottom-color: var(--fill-color);\n",
              "    animation:\n",
              "      spin 1s steps(1) infinite;\n",
              "  }\n",
              "\n",
              "  @keyframes spin {\n",
              "    0% {\n",
              "      border-color: transparent;\n",
              "      border-bottom-color: var(--fill-color);\n",
              "      border-left-color: var(--fill-color);\n",
              "    }\n",
              "    20% {\n",
              "      border-color: transparent;\n",
              "      border-left-color: var(--fill-color);\n",
              "      border-top-color: var(--fill-color);\n",
              "    }\n",
              "    30% {\n",
              "      border-color: transparent;\n",
              "      border-left-color: var(--fill-color);\n",
              "      border-top-color: var(--fill-color);\n",
              "      border-right-color: var(--fill-color);\n",
              "    }\n",
              "    40% {\n",
              "      border-color: transparent;\n",
              "      border-right-color: var(--fill-color);\n",
              "      border-top-color: var(--fill-color);\n",
              "    }\n",
              "    60% {\n",
              "      border-color: transparent;\n",
              "      border-right-color: var(--fill-color);\n",
              "    }\n",
              "    80% {\n",
              "      border-color: transparent;\n",
              "      border-right-color: var(--fill-color);\n",
              "      border-bottom-color: var(--fill-color);\n",
              "    }\n",
              "    90% {\n",
              "      border-color: transparent;\n",
              "      border-bottom-color: var(--fill-color);\n",
              "    }\n",
              "  }\n",
              "</style>\n",
              "\n",
              "  <script>\n",
              "    async function quickchart(key) {\n",
              "      const quickchartButtonEl =\n",
              "        document.querySelector('#' + key + ' button');\n",
              "      quickchartButtonEl.disabled = true;  // To prevent multiple clicks.\n",
              "      quickchartButtonEl.classList.add('colab-df-spinner');\n",
              "      try {\n",
              "        const charts = await google.colab.kernel.invokeFunction(\n",
              "            'suggestCharts', [key], {});\n",
              "      } catch (error) {\n",
              "        console.error('Error during call to suggestCharts:', error);\n",
              "      }\n",
              "      quickchartButtonEl.classList.remove('colab-df-spinner');\n",
              "      quickchartButtonEl.classList.add('colab-df-quickchart-complete');\n",
              "    }\n",
              "    (() => {\n",
              "      let quickchartButtonEl =\n",
              "        document.querySelector('#df-833187ef-aa69-471c-b8d8-e096ec2192ea button');\n",
              "      quickchartButtonEl.style.display =\n",
              "        google.colab.kernel.accessAllowed ? 'block' : 'none';\n",
              "    })();\n",
              "  </script>\n",
              "</div>\n",
              "    </div>\n",
              "  </div>\n"
            ]
          },
          "metadata": {},
          "execution_count": 89
        }
      ],
      "source": [
        "import pandas as pd\n",
        "\n",
        "pizza = {'diameter' : [6,8,10,14,18],\n",
        "         'toping' : [2,1,0,2,0],\n",
        "         'price' : [7,9,13,17.5, 18]}\n",
        "train_pizza_df = pd.DataFrame(pizza)\n",
        "train_pizza_df"
      ]
    },
    {
      "cell_type": "code",
      "execution_count": 90,
      "metadata": {
        "colab": {
          "base_uri": "https://localhost:8080/",
          "height": 206
        },
        "id": "knkwm7tQH6UI",
        "outputId": "23131fa9-8615-4c17-ac1b-61d9b2dccafd"
      },
      "outputs": [
        {
          "output_type": "execute_result",
          "data": {
            "text/plain": [
              "   diameter  toping  price\n",
              "0         8       2   11.0\n",
              "1         9       0    8.5\n",
              "2        11       2   15.0\n",
              "3        16       2   18.0\n",
              "4        12       0   11.0"
            ],
            "text/html": [
              "\n",
              "  <div id=\"df-38000422-848e-40fc-8cd6-560b89c39645\" class=\"colab-df-container\">\n",
              "    <div>\n",
              "<style scoped>\n",
              "    .dataframe tbody tr th:only-of-type {\n",
              "        vertical-align: middle;\n",
              "    }\n",
              "\n",
              "    .dataframe tbody tr th {\n",
              "        vertical-align: top;\n",
              "    }\n",
              "\n",
              "    .dataframe thead th {\n",
              "        text-align: right;\n",
              "    }\n",
              "</style>\n",
              "<table border=\"1\" class=\"dataframe\">\n",
              "  <thead>\n",
              "    <tr style=\"text-align: right;\">\n",
              "      <th></th>\n",
              "      <th>diameter</th>\n",
              "      <th>toping</th>\n",
              "      <th>price</th>\n",
              "    </tr>\n",
              "  </thead>\n",
              "  <tbody>\n",
              "    <tr>\n",
              "      <th>0</th>\n",
              "      <td>8</td>\n",
              "      <td>2</td>\n",
              "      <td>11.0</td>\n",
              "    </tr>\n",
              "    <tr>\n",
              "      <th>1</th>\n",
              "      <td>9</td>\n",
              "      <td>0</td>\n",
              "      <td>8.5</td>\n",
              "    </tr>\n",
              "    <tr>\n",
              "      <th>2</th>\n",
              "      <td>11</td>\n",
              "      <td>2</td>\n",
              "      <td>15.0</td>\n",
              "    </tr>\n",
              "    <tr>\n",
              "      <th>3</th>\n",
              "      <td>16</td>\n",
              "      <td>2</td>\n",
              "      <td>18.0</td>\n",
              "    </tr>\n",
              "    <tr>\n",
              "      <th>4</th>\n",
              "      <td>12</td>\n",
              "      <td>0</td>\n",
              "      <td>11.0</td>\n",
              "    </tr>\n",
              "  </tbody>\n",
              "</table>\n",
              "</div>\n",
              "    <div class=\"colab-df-buttons\">\n",
              "\n",
              "  <div class=\"colab-df-container\">\n",
              "    <button class=\"colab-df-convert\" onclick=\"convertToInteractive('df-38000422-848e-40fc-8cd6-560b89c39645')\"\n",
              "            title=\"Convert this dataframe to an interactive table.\"\n",
              "            style=\"display:none;\">\n",
              "\n",
              "  <svg xmlns=\"http://www.w3.org/2000/svg\" height=\"24px\" viewBox=\"0 -960 960 960\">\n",
              "    <path d=\"M120-120v-720h720v720H120Zm60-500h600v-160H180v160Zm220 220h160v-160H400v160Zm0 220h160v-160H400v160ZM180-400h160v-160H180v160Zm440 0h160v-160H620v160ZM180-180h160v-160H180v160Zm440 0h160v-160H620v160Z\"/>\n",
              "  </svg>\n",
              "    </button>\n",
              "\n",
              "  <style>\n",
              "    .colab-df-container {\n",
              "      display:flex;\n",
              "      gap: 12px;\n",
              "    }\n",
              "\n",
              "    .colab-df-convert {\n",
              "      background-color: #E8F0FE;\n",
              "      border: none;\n",
              "      border-radius: 50%;\n",
              "      cursor: pointer;\n",
              "      display: none;\n",
              "      fill: #1967D2;\n",
              "      height: 32px;\n",
              "      padding: 0 0 0 0;\n",
              "      width: 32px;\n",
              "    }\n",
              "\n",
              "    .colab-df-convert:hover {\n",
              "      background-color: #E2EBFA;\n",
              "      box-shadow: 0px 1px 2px rgba(60, 64, 67, 0.3), 0px 1px 3px 1px rgba(60, 64, 67, 0.15);\n",
              "      fill: #174EA6;\n",
              "    }\n",
              "\n",
              "    .colab-df-buttons div {\n",
              "      margin-bottom: 4px;\n",
              "    }\n",
              "\n",
              "    [theme=dark] .colab-df-convert {\n",
              "      background-color: #3B4455;\n",
              "      fill: #D2E3FC;\n",
              "    }\n",
              "\n",
              "    [theme=dark] .colab-df-convert:hover {\n",
              "      background-color: #434B5C;\n",
              "      box-shadow: 0px 1px 3px 1px rgba(0, 0, 0, 0.15);\n",
              "      filter: drop-shadow(0px 1px 2px rgba(0, 0, 0, 0.3));\n",
              "      fill: #FFFFFF;\n",
              "    }\n",
              "  </style>\n",
              "\n",
              "    <script>\n",
              "      const buttonEl =\n",
              "        document.querySelector('#df-38000422-848e-40fc-8cd6-560b89c39645 button.colab-df-convert');\n",
              "      buttonEl.style.display =\n",
              "        google.colab.kernel.accessAllowed ? 'block' : 'none';\n",
              "\n",
              "      async function convertToInteractive(key) {\n",
              "        const element = document.querySelector('#df-38000422-848e-40fc-8cd6-560b89c39645');\n",
              "        const dataTable =\n",
              "          await google.colab.kernel.invokeFunction('convertToInteractive',\n",
              "                                                    [key], {});\n",
              "        if (!dataTable) return;\n",
              "\n",
              "        const docLinkHtml = 'Like what you see? Visit the ' +\n",
              "          '<a target=\"_blank\" href=https://colab.research.google.com/notebooks/data_table.ipynb>data table notebook</a>'\n",
              "          + ' to learn more about interactive tables.';\n",
              "        element.innerHTML = '';\n",
              "        dataTable['output_type'] = 'display_data';\n",
              "        await google.colab.output.renderOutput(dataTable, element);\n",
              "        const docLink = document.createElement('div');\n",
              "        docLink.innerHTML = docLinkHtml;\n",
              "        element.appendChild(docLink);\n",
              "      }\n",
              "    </script>\n",
              "  </div>\n",
              "\n",
              "\n",
              "<div id=\"df-daf7ad9c-aa84-47e9-a742-864fd6cabeab\">\n",
              "  <button class=\"colab-df-quickchart\" onclick=\"quickchart('df-daf7ad9c-aa84-47e9-a742-864fd6cabeab')\"\n",
              "            title=\"Suggest charts.\"\n",
              "            style=\"display:none;\">\n",
              "\n",
              "<svg xmlns=\"http://www.w3.org/2000/svg\" height=\"24px\"viewBox=\"0 0 24 24\"\n",
              "     width=\"24px\">\n",
              "    <g>\n",
              "        <path d=\"M19 3H5c-1.1 0-2 .9-2 2v14c0 1.1.9 2 2 2h14c1.1 0 2-.9 2-2V5c0-1.1-.9-2-2-2zM9 17H7v-7h2v7zm4 0h-2V7h2v10zm4 0h-2v-4h2v4z\"/>\n",
              "    </g>\n",
              "</svg>\n",
              "  </button>\n",
              "\n",
              "<style>\n",
              "  .colab-df-quickchart {\n",
              "      --bg-color: #E8F0FE;\n",
              "      --fill-color: #1967D2;\n",
              "      --hover-bg-color: #E2EBFA;\n",
              "      --hover-fill-color: #174EA6;\n",
              "      --disabled-fill-color: #AAA;\n",
              "      --disabled-bg-color: #DDD;\n",
              "  }\n",
              "\n",
              "  [theme=dark] .colab-df-quickchart {\n",
              "      --bg-color: #3B4455;\n",
              "      --fill-color: #D2E3FC;\n",
              "      --hover-bg-color: #434B5C;\n",
              "      --hover-fill-color: #FFFFFF;\n",
              "      --disabled-bg-color: #3B4455;\n",
              "      --disabled-fill-color: #666;\n",
              "  }\n",
              "\n",
              "  .colab-df-quickchart {\n",
              "    background-color: var(--bg-color);\n",
              "    border: none;\n",
              "    border-radius: 50%;\n",
              "    cursor: pointer;\n",
              "    display: none;\n",
              "    fill: var(--fill-color);\n",
              "    height: 32px;\n",
              "    padding: 0;\n",
              "    width: 32px;\n",
              "  }\n",
              "\n",
              "  .colab-df-quickchart:hover {\n",
              "    background-color: var(--hover-bg-color);\n",
              "    box-shadow: 0 1px 2px rgba(60, 64, 67, 0.3), 0 1px 3px 1px rgba(60, 64, 67, 0.15);\n",
              "    fill: var(--button-hover-fill-color);\n",
              "  }\n",
              "\n",
              "  .colab-df-quickchart-complete:disabled,\n",
              "  .colab-df-quickchart-complete:disabled:hover {\n",
              "    background-color: var(--disabled-bg-color);\n",
              "    fill: var(--disabled-fill-color);\n",
              "    box-shadow: none;\n",
              "  }\n",
              "\n",
              "  .colab-df-spinner {\n",
              "    border: 2px solid var(--fill-color);\n",
              "    border-color: transparent;\n",
              "    border-bottom-color: var(--fill-color);\n",
              "    animation:\n",
              "      spin 1s steps(1) infinite;\n",
              "  }\n",
              "\n",
              "  @keyframes spin {\n",
              "    0% {\n",
              "      border-color: transparent;\n",
              "      border-bottom-color: var(--fill-color);\n",
              "      border-left-color: var(--fill-color);\n",
              "    }\n",
              "    20% {\n",
              "      border-color: transparent;\n",
              "      border-left-color: var(--fill-color);\n",
              "      border-top-color: var(--fill-color);\n",
              "    }\n",
              "    30% {\n",
              "      border-color: transparent;\n",
              "      border-left-color: var(--fill-color);\n",
              "      border-top-color: var(--fill-color);\n",
              "      border-right-color: var(--fill-color);\n",
              "    }\n",
              "    40% {\n",
              "      border-color: transparent;\n",
              "      border-right-color: var(--fill-color);\n",
              "      border-top-color: var(--fill-color);\n",
              "    }\n",
              "    60% {\n",
              "      border-color: transparent;\n",
              "      border-right-color: var(--fill-color);\n",
              "    }\n",
              "    80% {\n",
              "      border-color: transparent;\n",
              "      border-right-color: var(--fill-color);\n",
              "      border-bottom-color: var(--fill-color);\n",
              "    }\n",
              "    90% {\n",
              "      border-color: transparent;\n",
              "      border-bottom-color: var(--fill-color);\n",
              "    }\n",
              "  }\n",
              "</style>\n",
              "\n",
              "  <script>\n",
              "    async function quickchart(key) {\n",
              "      const quickchartButtonEl =\n",
              "        document.querySelector('#' + key + ' button');\n",
              "      quickchartButtonEl.disabled = true;  // To prevent multiple clicks.\n",
              "      quickchartButtonEl.classList.add('colab-df-spinner');\n",
              "      try {\n",
              "        const charts = await google.colab.kernel.invokeFunction(\n",
              "            'suggestCharts', [key], {});\n",
              "      } catch (error) {\n",
              "        console.error('Error during call to suggestCharts:', error);\n",
              "      }\n",
              "      quickchartButtonEl.classList.remove('colab-df-spinner');\n",
              "      quickchartButtonEl.classList.add('colab-df-quickchart-complete');\n",
              "    }\n",
              "    (() => {\n",
              "      let quickchartButtonEl =\n",
              "        document.querySelector('#df-daf7ad9c-aa84-47e9-a742-864fd6cabeab button');\n",
              "      quickchartButtonEl.style.display =\n",
              "        google.colab.kernel.accessAllowed ? 'block' : 'none';\n",
              "    })();\n",
              "  </script>\n",
              "</div>\n",
              "    </div>\n",
              "  </div>\n"
            ]
          },
          "metadata": {},
          "execution_count": 90
        }
      ],
      "source": [
        "import pandas as pd\n",
        "\n",
        "pizza = {'diameter' : [8,9,11,16,12],\n",
        "         'toping' : [2,0,2,2,0],\n",
        "         'price' : [11,8.5,15,18,11]}\n",
        "test_pizza_df = pd.DataFrame(pizza)\n",
        "test_pizza_df"
      ]
    },
    {
      "cell_type": "code",
      "execution_count": 91,
      "metadata": {
        "colab": {
          "base_uri": "https://localhost:8080/"
        },
        "id": "xf8uV5F3IgR5",
        "outputId": "bab20f26-a708-41f4-ba33-13d5161bbc44"
      },
      "outputs": [
        {
          "output_type": "stream",
          "name": "stdout",
          "text": [
            "X_train[[ 6  2]\n",
            " [ 8  1]\n",
            " [10  0]\n",
            " [14  2]\n",
            " [18  0]]\n",
            "y_train[ 7.   9.  13.  17.5 18. ]\n"
          ]
        }
      ],
      "source": [
        "X_train = np.array(train_pizza_df[['diameter','toping']])\n",
        "y_train = np.array(train_pizza_df['price'])\n",
        "\n",
        "print(f'X_train{X_train}')\n",
        "print(f'y_train{y_train}')"
      ]
    },
    {
      "cell_type": "code",
      "execution_count": 92,
      "metadata": {
        "colab": {
          "base_uri": "https://localhost:8080/"
        },
        "id": "TwrHLSfeqxhx",
        "outputId": "e1d68d8a-461d-456b-9a51-becf42217f2e"
      },
      "outputs": [
        {
          "output_type": "stream",
          "name": "stdout",
          "text": [
            "X_test[[ 8  2]\n",
            " [ 9  0]\n",
            " [11  2]\n",
            " [16  2]\n",
            " [12  0]]\n",
            "y_test[11.   8.5 15.  18.  11. ]\n"
          ]
        }
      ],
      "source": [
        "X_test = np.array(test_pizza_df[['diameter','toping']])\n",
        "y_test = np.array(test_pizza_df['price'])\n",
        "\n",
        "print(f'X_test{X_test}')\n",
        "print(f'y_test{y_test}')"
      ]
    },
    {
      "cell_type": "markdown",
      "metadata": {
        "id": "X4EsVzN4rboB"
      },
      "source": [
        "### **Multiple Linear Regression**\n",
        "\n",
        "merupakan generalisasi dari Simple Linear Regression yang memungkikan untuk menggunakan beberapa explanatory variables\n",
        "\n",
        "y = a + b1x1 + b1x2 + b1x3 + bnxn..."
      ]
    },
    {
      "cell_type": "code",
      "execution_count": 93,
      "metadata": {
        "id": "ITBC4pyarWP3"
      },
      "outputs": [],
      "source": [
        "from sklearn.linear_model import LinearRegression\n",
        "from sklearn.metrics import r2_score\n",
        "\n",
        "model = LinearRegression()\n",
        "model.fit(X_train, y_train)\n",
        "y_pred = model.predict(X_test)"
      ]
    },
    {
      "cell_type": "code",
      "execution_count": 94,
      "metadata": {
        "colab": {
          "base_uri": "https://localhost:8080/"
        },
        "id": "R42BBf3tsXLC",
        "outputId": "0c1d9940-cc2f-4a87-bae6-e948bb743dc3"
      },
      "outputs": [
        {
          "output_type": "stream",
          "name": "stdout",
          "text": [
            "R2 Squared : 0.7701677731318468\n"
          ]
        }
      ],
      "source": [
        "#RSquared\n",
        "print(f'R2 Squared : {r2_score(y_test, y_pred)}')"
      ]
    },
    {
      "cell_type": "markdown",
      "metadata": {
        "id": "8dhkxg35t3Da"
      },
      "source": [
        "### **Polynomial Regression**\n",
        "\n",
        "merupakan regresi yang memodelkan hubungan  antara independen variabel (features) x  dan dependen variabel (target) y sebagai derajat polynomial dalam x\n",
        "\n",
        "Polynomial Regression Quadratic\n",
        "\n",
        "y = a+ b1x + b2x^2"
      ]
    },
    {
      "cell_type": "code",
      "execution_count": 95,
      "metadata": {
        "colab": {
          "base_uri": "https://localhost:8080/"
        },
        "id": "Kqs33rNSsa1o",
        "outputId": "e565f37d-daf9-445b-e32b-44b3c87ee211"
      },
      "outputs": [
        {
          "output_type": "stream",
          "name": "stdout",
          "text": [
            "X_train[[ 6]\n",
            " [ 8]\n",
            " [10]\n",
            " [14]\n",
            " [18]]\n",
            "y_train[ 7.   9.  13.  17.5 18. ]\n"
          ]
        }
      ],
      "source": [
        "X_train = np.array(train_pizza_df['diameter']).reshape(-1,1) #karena hanya mempunyai 1 kolom, perlu direshape\n",
        "y_train = np.array(train_pizza_df['price'])\n",
        "\n",
        "print(f'X_train{X_train}')\n",
        "print(f'y_train{y_train}')"
      ]
    },
    {
      "cell_type": "code",
      "execution_count": 96,
      "metadata": {
        "colab": {
          "base_uri": "https://localhost:8080/"
        },
        "id": "b77QbZxru98e",
        "outputId": "e97fd312-0146-4a4c-afeb-ef9f6321f24a"
      },
      "outputs": [
        {
          "output_type": "stream",
          "name": "stdout",
          "text": [
            "X_train_quadratic: [[  1.   6.  36.]\n",
            " [  1.   8.  64.]\n",
            " [  1.  10. 100.]\n",
            " [  1.  14. 196.]\n",
            " [  1.  18. 324.]]\n"
          ]
        }
      ],
      "source": [
        "from sklearn.preprocessing import PolynomialFeatures\n",
        "\n",
        "quadratic_feature = PolynomialFeatures(degree = 2)\n",
        "X_train_quadratic = quadratic_feature.fit_transform(X_train)\n",
        "\n",
        "print(f'X_train_quadratic: {X_train_quadratic}')"
      ]
    },
    {
      "cell_type": "code",
      "execution_count": 97,
      "metadata": {
        "colab": {
          "base_uri": "https://localhost:8080/",
          "height": 74
        },
        "id": "VW7J3ME-weoq",
        "outputId": "4891c5e1-d303-4a8d-c007-b6d2d34fb3d9"
      },
      "outputs": [
        {
          "output_type": "execute_result",
          "data": {
            "text/plain": [
              "LinearRegression()"
            ],
            "text/html": [
              "<style>#sk-container-id-7 {color: black;background-color: white;}#sk-container-id-7 pre{padding: 0;}#sk-container-id-7 div.sk-toggleable {background-color: white;}#sk-container-id-7 label.sk-toggleable__label {cursor: pointer;display: block;width: 100%;margin-bottom: 0;padding: 0.3em;box-sizing: border-box;text-align: center;}#sk-container-id-7 label.sk-toggleable__label-arrow:before {content: \"▸\";float: left;margin-right: 0.25em;color: #696969;}#sk-container-id-7 label.sk-toggleable__label-arrow:hover:before {color: black;}#sk-container-id-7 div.sk-estimator:hover label.sk-toggleable__label-arrow:before {color: black;}#sk-container-id-7 div.sk-toggleable__content {max-height: 0;max-width: 0;overflow: hidden;text-align: left;background-color: #f0f8ff;}#sk-container-id-7 div.sk-toggleable__content pre {margin: 0.2em;color: black;border-radius: 0.25em;background-color: #f0f8ff;}#sk-container-id-7 input.sk-toggleable__control:checked~div.sk-toggleable__content {max-height: 200px;max-width: 100%;overflow: auto;}#sk-container-id-7 input.sk-toggleable__control:checked~label.sk-toggleable__label-arrow:before {content: \"▾\";}#sk-container-id-7 div.sk-estimator input.sk-toggleable__control:checked~label.sk-toggleable__label {background-color: #d4ebff;}#sk-container-id-7 div.sk-label input.sk-toggleable__control:checked~label.sk-toggleable__label {background-color: #d4ebff;}#sk-container-id-7 input.sk-hidden--visually {border: 0;clip: rect(1px 1px 1px 1px);clip: rect(1px, 1px, 1px, 1px);height: 1px;margin: -1px;overflow: hidden;padding: 0;position: absolute;width: 1px;}#sk-container-id-7 div.sk-estimator {font-family: monospace;background-color: #f0f8ff;border: 1px dotted black;border-radius: 0.25em;box-sizing: border-box;margin-bottom: 0.5em;}#sk-container-id-7 div.sk-estimator:hover {background-color: #d4ebff;}#sk-container-id-7 div.sk-parallel-item::after {content: \"\";width: 100%;border-bottom: 1px solid gray;flex-grow: 1;}#sk-container-id-7 div.sk-label:hover label.sk-toggleable__label {background-color: #d4ebff;}#sk-container-id-7 div.sk-serial::before {content: \"\";position: absolute;border-left: 1px solid gray;box-sizing: border-box;top: 0;bottom: 0;left: 50%;z-index: 0;}#sk-container-id-7 div.sk-serial {display: flex;flex-direction: column;align-items: center;background-color: white;padding-right: 0.2em;padding-left: 0.2em;position: relative;}#sk-container-id-7 div.sk-item {position: relative;z-index: 1;}#sk-container-id-7 div.sk-parallel {display: flex;align-items: stretch;justify-content: center;background-color: white;position: relative;}#sk-container-id-7 div.sk-item::before, #sk-container-id-7 div.sk-parallel-item::before {content: \"\";position: absolute;border-left: 1px solid gray;box-sizing: border-box;top: 0;bottom: 0;left: 50%;z-index: -1;}#sk-container-id-7 div.sk-parallel-item {display: flex;flex-direction: column;z-index: 1;position: relative;background-color: white;}#sk-container-id-7 div.sk-parallel-item:first-child::after {align-self: flex-end;width: 50%;}#sk-container-id-7 div.sk-parallel-item:last-child::after {align-self: flex-start;width: 50%;}#sk-container-id-7 div.sk-parallel-item:only-child::after {width: 0;}#sk-container-id-7 div.sk-dashed-wrapped {border: 1px dashed gray;margin: 0 0.4em 0.5em 0.4em;box-sizing: border-box;padding-bottom: 0.4em;background-color: white;}#sk-container-id-7 div.sk-label label {font-family: monospace;font-weight: bold;display: inline-block;line-height: 1.2em;}#sk-container-id-7 div.sk-label-container {text-align: center;}#sk-container-id-7 div.sk-container {/* jupyter's `normalize.less` sets `[hidden] { display: none; }` but bootstrap.min.css set `[hidden] { display: none !important; }` so we also need the `!important` here to be able to override the default hidden behavior on the sphinx rendered scikit-learn.org. See: https://github.com/scikit-learn/scikit-learn/issues/21755 */display: inline-block !important;position: relative;}#sk-container-id-7 div.sk-text-repr-fallback {display: none;}</style><div id=\"sk-container-id-7\" class=\"sk-top-container\"><div class=\"sk-text-repr-fallback\"><pre>LinearRegression()</pre><b>In a Jupyter environment, please rerun this cell to show the HTML representation or trust the notebook. <br />On GitHub, the HTML representation is unable to render, please try loading this page with nbviewer.org.</b></div><div class=\"sk-container\" hidden><div class=\"sk-item\"><div class=\"sk-estimator sk-toggleable\"><input class=\"sk-toggleable__control sk-hidden--visually\" id=\"sk-estimator-id-7\" type=\"checkbox\" checked><label for=\"sk-estimator-id-7\" class=\"sk-toggleable__label sk-toggleable__label-arrow\">LinearRegression</label><div class=\"sk-toggleable__content\"><pre>LinearRegression()</pre></div></div></div></div></div>"
            ]
          },
          "metadata": {},
          "execution_count": 97
        }
      ],
      "source": [
        "model = LinearRegression()\n",
        "model.fit(X_train_quadratic, y_train)"
      ]
    },
    {
      "cell_type": "code",
      "execution_count": 98,
      "metadata": {
        "colab": {
          "base_uri": "https://localhost:8080/",
          "height": 472
        },
        "id": "xCrWYvq7xOvy",
        "outputId": "0417cbfc-0f51-48c8-82a9-38729c414ebf"
      },
      "outputs": [
        {
          "output_type": "display_data",
          "data": {
            "text/plain": [
              "<Figure size 640x480 with 1 Axes>"
            ],
            "image/png": "[encoded data removed]"
          },
          "metadata": {}
        }
      ],
      "source": [
        "import matplotlib.pyplot as plt\n",
        "\n",
        "X_vis = np.linspace(0,25,100).reshape(-1,1)\n",
        "X_vis_quadratic = quadratic_feature.fit_transform(X_vis)\n",
        "y_vis_quadratic = model.predict(X_vis_quadratic)\n",
        "\n",
        "plt.scatter(X_train, y_train)\n",
        "plt.plot(X_vis, y_vis_quadratic, '-r')\n",
        "\n",
        "plt.title(\"perbandingan diameter pizza dengan harganya\")\n",
        "plt.xlabel('diameter')\n",
        "plt.ylabel('price')\n",
        "plt.xlim(0,25)\n",
        "plt.ylim(0,25)\n",
        "plt.show()\n"
      ]
    },
    {
      "cell_type": "markdown",
      "metadata": {
        "id": "pZ2gDzVr4XJg"
      },
      "source": [
        "### **Linear Regression vs Polynomial Quadric vs Cubic**"
      ]
    },
    {
      "cell_type": "code",
      "execution_count": 99,
      "metadata": {
        "colab": {
          "base_uri": "https://localhost:8080/",
          "height": 472
        },
        "id": "QOF0WS6fz2Ai",
        "outputId": "bcf123d8-c7bc-4ef5-b99a-bf6a50cfcb2e"
      },
      "outputs": [
        {
          "output_type": "display_data",
          "data": {
            "text/plain": [
              "<Figure size 640x480 with 1 Axes>"
            ],
            "image/png": "[encoded data removed]"
          },
          "metadata": {}
        }
      ],
      "source": [
        "#train set\n",
        "plt.scatter(X_train, y_train)\n",
        "\n",
        "#linear\n",
        "model = LinearRegression()\n",
        "model.fit(X_train, y_train)\n",
        "X_vis = np.linspace(0,25,100).reshape(-1,1)\n",
        "y_vis = model.predict(X_vis)\n",
        "plt.plot(X_vis, y_vis, '--r', label = 'linear')\n",
        "\n",
        "#Quadric\n",
        "quadratic_feature = PolynomialFeatures(degree = 2)\n",
        "X_train_quadratic = quadratic_feature.fit_transform(X_train)\n",
        "model = LinearRegression()\n",
        "model.fit(X_train_quadratic, y_train)\n",
        "X_vis_quadratic = quadratic_feature.transform(X_vis)\n",
        "y_vis = model.predict(X_vis_quadratic)\n",
        "plt.plot(X_vis, y_vis, '--g', label = 'quadratic')\n",
        "\n",
        "\n",
        "#Cubic\n",
        "cubic_feature = PolynomialFeatures(degree = 3)\n",
        "X_train_cubic = cubic_feature.fit_transform(X_train)\n",
        "model = LinearRegression()\n",
        "model.fit(X_train_cubic, y_train)\n",
        "X_vis_cubic = cubic_feature.transform(X_vis)\n",
        "y_vis = model.predict(X_vis_cubic)\n",
        "plt.plot(X_vis, y_vis, '--y', label = 'cubic')\n",
        "\n",
        "plt.title(\"perbandingan diameter pizza dengan harganya\")\n",
        "plt.xlabel('diameter')\n",
        "plt.ylabel('price')\n",
        "plt.legend()\n",
        "plt.xlim(0,25)\n",
        "plt.ylim(0,25)\n",
        "plt.show()"
      ]
    },
    {
      "cell_type": "markdown",
      "metadata": {
        "id": "x1457LeyX5Vf"
      },
      "source": [
        "## **Label Encoding & One Hot Encoding**"
      ]
    },
    {
      "cell_type": "markdown",
      "metadata": {
        "id": "kxjbFePjYZq5"
      },
      "source": [
        "### **Categorycal Encoding**\n",
        "\n",
        "proses konversi nilai catagorical menjadi nilai numerical, terdapat banyak jenis dari Encoding ini, namun yang dibahas 2 yaitu:"
      ]
    },
    {
      "cell_type": "markdown",
      "metadata": {
        "id": "_lKZSytAYswy"
      },
      "source": [
        "**Label Encoding**\n",
        "\n",
        "pada Label Encoding, setiap katagori dalam features akan diurutkan secara alfabet dan direpresentasikan dengan sebuha nilai integer"
      ]
    },
    {
      "cell_type": "code",
      "execution_count": 100,
      "metadata": {
        "colab": {
          "base_uri": "https://localhost:8080/",
          "height": 206
        },
        "id": "29jXoHai7bL1",
        "outputId": "dc1c2c05-d932-4275-f787-338e560e5a4e"
      },
      "outputs": [
        {
          "output_type": "execute_result",
          "data": {
            "text/plain": [
              "  country  age  salary\n",
              "0   India   44   72000\n",
              "1      US   34   65000\n",
              "2   Japan   46   98000\n",
              "3      US   35   45000\n",
              "4   Japan   23   34000"
            ],
            "text/html": [
              "\n",
              "  <div id=\"df-8cf2593f-5116-40e4-8ada-bb827cc416eb\" class=\"colab-df-container\">\n",
              "    <div>\n",
              "<style scoped>\n",
              "    .dataframe tbody tr th:only-of-type {\n",
              "        vertical-align: middle;\n",
              "    }\n",
              "\n",
              "    .dataframe tbody tr th {\n",
              "        vertical-align: top;\n",
              "    }\n",
              "\n",
              "    .dataframe thead th {\n",
              "        text-align: right;\n",
              "    }\n",
              "</style>\n",
              "<table border=\"1\" class=\"dataframe\">\n",
              "  <thead>\n",
              "    <tr style=\"text-align: right;\">\n",
              "      <th></th>\n",
              "      <th>country</th>\n",
              "      <th>age</th>\n",
              "      <th>salary</th>\n",
              "    </tr>\n",
              "  </thead>\n",
              "  <tbody>\n",
              "    <tr>\n",
              "      <th>0</th>\n",
              "      <td>India</td>\n",
              "      <td>44</td>\n",
              "      <td>72000</td>\n",
              "    </tr>\n",
              "    <tr>\n",
              "      <th>1</th>\n",
              "      <td>US</td>\n",
              "      <td>34</td>\n",
              "      <td>65000</td>\n",
              "    </tr>\n",
              "    <tr>\n",
              "      <th>2</th>\n",
              "      <td>Japan</td>\n",
              "      <td>46</td>\n",
              "      <td>98000</td>\n",
              "    </tr>\n",
              "    <tr>\n",
              "      <th>3</th>\n",
              "      <td>US</td>\n",
              "      <td>35</td>\n",
              "      <td>45000</td>\n",
              "    </tr>\n",
              "    <tr>\n",
              "      <th>4</th>\n",
              "      <td>Japan</td>\n",
              "      <td>23</td>\n",
              "      <td>34000</td>\n",
              "    </tr>\n",
              "  </tbody>\n",
              "</table>\n",
              "</div>\n",
              "    <div class=\"colab-df-buttons\">\n",
              "\n",
              "  <div class=\"colab-df-container\">\n",
              "    <button class=\"colab-df-convert\" onclick=\"convertToInteractive('df-8cf2593f-5116-40e4-8ada-bb827cc416eb')\"\n",
              "            title=\"Convert this dataframe to an interactive table.\"\n",
              "            style=\"display:none;\">\n",
              "\n",
              "  <svg xmlns=\"http://www.w3.org/2000/svg\" height=\"24px\" viewBox=\"0 -960 960 960\">\n",
              "    <path d=\"M120-120v-720h720v720H120Zm60-500h600v-160H180v160Zm220 220h160v-160H400v160Zm0 220h160v-160H400v160ZM180-400h160v-160H180v160Zm440 0h160v-160H620v160ZM180-180h160v-160H180v160Zm440 0h160v-160H620v160Z\"/>\n",
              "  </svg>\n",
              "    </button>\n",
              "\n",
              "  <style>\n",
              "    .colab-df-container {\n",
              "      display:flex;\n",
              "      gap: 12px;\n",
              "    }\n",
              "\n",
              "    .colab-df-convert {\n",
              "      background-color: #E8F0FE;\n",
              "      border: none;\n",
              "      border-radius: 50%;\n",
              "      cursor: pointer;\n",
              "      display: none;\n",
              "      fill: #1967D2;\n",
              "      height: 32px;\n",
              "      padding: 0 0 0 0;\n",
              "      width: 32px;\n",
              "    }\n",
              "\n",
              "    .colab-df-convert:hover {\n",
              "      background-color: #E2EBFA;\n",
              "      box-shadow: 0px 1px 2px rgba(60, 64, 67, 0.3), 0px 1px 3px 1px rgba(60, 64, 67, 0.15);\n",
              "      fill: #174EA6;\n",
              "    }\n",
              "\n",
              "    .colab-df-buttons div {\n",
              "      margin-bottom: 4px;\n",
              "    }\n",
              "\n",
              "    [theme=dark] .colab-df-convert {\n",
              "      background-color: #3B4455;\n",
              "      fill: #D2E3FC;\n",
              "    }\n",
              "\n",
              "    [theme=dark] .colab-df-convert:hover {\n",
              "      background-color: #434B5C;\n",
              "      box-shadow: 0px 1px 3px 1px rgba(0, 0, 0, 0.15);\n",
              "      filter: drop-shadow(0px 1px 2px rgba(0, 0, 0, 0.3));\n",
              "      fill: #FFFFFF;\n",
              "    }\n",
              "  </style>\n",
              "\n",
              "    <script>\n",
              "      const buttonEl =\n",
              "        document.querySelector('#df-8cf2593f-5116-40e4-8ada-bb827cc416eb button.colab-df-convert');\n",
              "      buttonEl.style.display =\n",
              "        google.colab.kernel.accessAllowed ? 'block' : 'none';\n",
              "\n",
              "      async function convertToInteractive(key) {\n",
              "        const element = document.querySelector('#df-8cf2593f-5116-40e4-8ada-bb827cc416eb');\n",
              "        const dataTable =\n",
              "          await google.colab.kernel.invokeFunction('convertToInteractive',\n",
              "                                                    [key], {});\n",
              "        if (!dataTable) return;\n",
              "\n",
              "        const docLinkHtml = 'Like what you see? Visit the ' +\n",
              "          '<a target=\"_blank\" href=https://colab.research.google.com/notebooks/data_table.ipynb>data table notebook</a>'\n",
              "          + ' to learn more about interactive tables.';\n",
              "        element.innerHTML = '';\n",
              "        dataTable['output_type'] = 'display_data';\n",
              "        await google.colab.output.renderOutput(dataTable, element);\n",
              "        const docLink = document.createElement('div');\n",
              "        docLink.innerHTML = docLinkHtml;\n",
              "        element.appendChild(docLink);\n",
              "      }\n",
              "    </script>\n",
              "  </div>\n",
              "\n",
              "\n",
              "<div id=\"df-a2910801-19b9-414e-9556-5a1afcf78ca5\">\n",
              "  <button class=\"colab-df-quickchart\" onclick=\"quickchart('df-a2910801-19b9-414e-9556-5a1afcf78ca5')\"\n",
              "            title=\"Suggest charts.\"\n",
              "            style=\"display:none;\">\n",
              "\n",
              "<svg xmlns=\"http://www.w3.org/2000/svg\" height=\"24px\"viewBox=\"0 0 24 24\"\n",
              "     width=\"24px\">\n",
              "    <g>\n",
              "        <path d=\"M19 3H5c-1.1 0-2 .9-2 2v14c0 1.1.9 2 2 2h14c1.1 0 2-.9 2-2V5c0-1.1-.9-2-2-2zM9 17H7v-7h2v7zm4 0h-2V7h2v10zm4 0h-2v-4h2v4z\"/>\n",
              "    </g>\n",
              "</svg>\n",
              "  </button>\n",
              "\n",
              "<style>\n",
              "  .colab-df-quickchart {\n",
              "      --bg-color: #E8F0FE;\n",
              "      --fill-color: #1967D2;\n",
              "      --hover-bg-color: #E2EBFA;\n",
              "      --hover-fill-color: #174EA6;\n",
              "      --disabled-fill-color: #AAA;\n",
              "      --disabled-bg-color: #DDD;\n",
              "  }\n",
              "\n",
              "  [theme=dark] .colab-df-quickchart {\n",
              "      --bg-color: #3B4455;\n",
              "      --fill-color: #D2E3FC;\n",
              "      --hover-bg-color: #434B5C;\n",
              "      --hover-fill-color: #FFFFFF;\n",
              "      --disabled-bg-color: #3B4455;\n",
              "      --disabled-fill-color: #666;\n",
              "  }\n",
              "\n",
              "  .colab-df-quickchart {\n",
              "    background-color: var(--bg-color);\n",
              "    border: none;\n",
              "    border-radius: 50%;\n",
              "    cursor: pointer;\n",
              "    display: none;\n",
              "    fill: var(--fill-color);\n",
              "    height: 32px;\n",
              "    padding: 0;\n",
              "    width: 32px;\n",
              "  }\n",
              "\n",
              "  .colab-df-quickchart:hover {\n",
              "    background-color: var(--hover-bg-color);\n",
              "    box-shadow: 0 1px 2px rgba(60, 64, 67, 0.3), 0 1px 3px 1px rgba(60, 64, 67, 0.15);\n",
              "    fill: var(--button-hover-fill-color);\n",
              "  }\n",
              "\n",
              "  .colab-df-quickchart-complete:disabled,\n",
              "  .colab-df-quickchart-complete:disabled:hover {\n",
              "    background-color: var(--disabled-bg-color);\n",
              "    fill: var(--disabled-fill-color);\n",
              "    box-shadow: none;\n",
              "  }\n",
              "\n",
              "  .colab-df-spinner {\n",
              "    border: 2px solid var(--fill-color);\n",
              "    border-color: transparent;\n",
              "    border-bottom-color: var(--fill-color);\n",
              "    animation:\n",
              "      spin 1s steps(1) infinite;\n",
              "  }\n",
              "\n",
              "  @keyframes spin {\n",
              "    0% {\n",
              "      border-color: transparent;\n",
              "      border-bottom-color: var(--fill-color);\n",
              "      border-left-color: var(--fill-color);\n",
              "    }\n",
              "    20% {\n",
              "      border-color: transparent;\n",
              "      border-left-color: var(--fill-color);\n",
              "      border-top-color: var(--fill-color);\n",
              "    }\n",
              "    30% {\n",
              "      border-color: transparent;\n",
              "      border-left-color: var(--fill-color);\n",
              "      border-top-color: var(--fill-color);\n",
              "      border-right-color: var(--fill-color);\n",
              "    }\n",
              "    40% {\n",
              "      border-color: transparent;\n",
              "      border-right-color: var(--fill-color);\n",
              "      border-top-color: var(--fill-color);\n",
              "    }\n",
              "    60% {\n",
              "      border-color: transparent;\n",
              "      border-right-color: var(--fill-color);\n",
              "    }\n",
              "    80% {\n",
              "      border-color: transparent;\n",
              "      border-right-color: var(--fill-color);\n",
              "      border-bottom-color: var(--fill-color);\n",
              "    }\n",
              "    90% {\n",
              "      border-color: transparent;\n",
              "      border-bottom-color: var(--fill-color);\n",
              "    }\n",
              "  }\n",
              "</style>\n",
              "\n",
              "  <script>\n",
              "    async function quickchart(key) {\n",
              "      const quickchartButtonEl =\n",
              "        document.querySelector('#' + key + ' button');\n",
              "      quickchartButtonEl.disabled = true;  // To prevent multiple clicks.\n",
              "      quickchartButtonEl.classList.add('colab-df-spinner');\n",
              "      try {\n",
              "        const charts = await google.colab.kernel.invokeFunction(\n",
              "            'suggestCharts', [key], {});\n",
              "      } catch (error) {\n",
              "        console.error('Error during call to suggestCharts:', error);\n",
              "      }\n",
              "      quickchartButtonEl.classList.remove('colab-df-spinner');\n",
              "      quickchartButtonEl.classList.add('colab-df-quickchart-complete');\n",
              "    }\n",
              "    (() => {\n",
              "      let quickchartButtonEl =\n",
              "        document.querySelector('#df-a2910801-19b9-414e-9556-5a1afcf78ca5 button');\n",
              "      quickchartButtonEl.style.display =\n",
              "        google.colab.kernel.accessAllowed ? 'block' : 'none';\n",
              "    })();\n",
              "  </script>\n",
              "</div>\n",
              "    </div>\n",
              "  </div>\n"
            ]
          },
          "metadata": {},
          "execution_count": 100
        }
      ],
      "source": [
        "#dataset\n",
        "\n",
        "df = pd.DataFrame({\n",
        "    'country' : ['India', 'US', 'Japan', 'US', 'Japan'],\n",
        "    'age' : [44, 34, 46, 35, 23],\n",
        "    'salary' : [72000, 65000, 98000, 45000, 34000]\n",
        "})\n",
        "\n",
        "df"
      ]
    },
    {
      "cell_type": "code",
      "execution_count": 101,
      "metadata": {
        "colab": {
          "base_uri": "https://localhost:8080/",
          "height": 206
        },
        "id": "mlQXmJrxZ7yo",
        "outputId": "0a212e0c-9265-4470-8271-18d889116497"
      },
      "outputs": [
        {
          "output_type": "execute_result",
          "data": {
            "text/plain": [
              "   country  age  salary\n",
              "0        0   44   72000\n",
              "1        2   34   65000\n",
              "2        1   46   98000\n",
              "3        2   35   45000\n",
              "4        1   23   34000"
            ],
            "text/html": [
              "\n",
              "  <div id=\"df-9f9cce81-b801-4234-86c3-8d3872b33646\" class=\"colab-df-container\">\n",
              "    <div>\n",
              "<style scoped>\n",
              "    .dataframe tbody tr th:only-of-type {\n",
              "        vertical-align: middle;\n",
              "    }\n",
              "\n",
              "    .dataframe tbody tr th {\n",
              "        vertical-align: top;\n",
              "    }\n",
              "\n",
              "    .dataframe thead th {\n",
              "        text-align: right;\n",
              "    }\n",
              "</style>\n",
              "<table border=\"1\" class=\"dataframe\">\n",
              "  <thead>\n",
              "    <tr style=\"text-align: right;\">\n",
              "      <th></th>\n",
              "      <th>country</th>\n",
              "      <th>age</th>\n",
              "      <th>salary</th>\n",
              "    </tr>\n",
              "  </thead>\n",
              "  <tbody>\n",
              "    <tr>\n",
              "      <th>0</th>\n",
              "      <td>0</td>\n",
              "      <td>44</td>\n",
              "      <td>72000</td>\n",
              "    </tr>\n",
              "    <tr>\n",
              "      <th>1</th>\n",
              "      <td>2</td>\n",
              "      <td>34</td>\n",
              "      <td>65000</td>\n",
              "    </tr>\n",
              "    <tr>\n",
              "      <th>2</th>\n",
              "      <td>1</td>\n",
              "      <td>46</td>\n",
              "      <td>98000</td>\n",
              "    </tr>\n",
              "    <tr>\n",
              "      <th>3</th>\n",
              "      <td>2</td>\n",
              "      <td>35</td>\n",
              "      <td>45000</td>\n",
              "    </tr>\n",
              "    <tr>\n",
              "      <th>4</th>\n",
              "      <td>1</td>\n",
              "      <td>23</td>\n",
              "      <td>34000</td>\n",
              "    </tr>\n",
              "  </tbody>\n",
              "</table>\n",
              "</div>\n",
              "    <div class=\"colab-df-buttons\">\n",
              "\n",
              "  <div class=\"colab-df-container\">\n",
              "    <button class=\"colab-df-convert\" onclick=\"convertToInteractive('df-9f9cce81-b801-4234-86c3-8d3872b33646')\"\n",
              "            title=\"Convert this dataframe to an interactive table.\"\n",
              "            style=\"display:none;\">\n",
              "\n",
              "  <svg xmlns=\"http://www.w3.org/2000/svg\" height=\"24px\" viewBox=\"0 -960 960 960\">\n",
              "    <path d=\"M120-120v-720h720v720H120Zm60-500h600v-160H180v160Zm220 220h160v-160H400v160Zm0 220h160v-160H400v160ZM180-400h160v-160H180v160Zm440 0h160v-160H620v160ZM180-180h160v-160H180v160Zm440 0h160v-160H620v160Z\"/>\n",
              "  </svg>\n",
              "    </button>\n",
              "\n",
              "  <style>\n",
              "    .colab-df-container {\n",
              "      display:flex;\n",
              "      gap: 12px;\n",
              "    }\n",
              "\n",
              "    .colab-df-convert {\n",
              "      background-color: #E8F0FE;\n",
              "      border: none;\n",
              "      border-radius: 50%;\n",
              "      cursor: pointer;\n",
              "      display: none;\n",
              "      fill: #1967D2;\n",
              "      height: 32px;\n",
              "      padding: 0 0 0 0;\n",
              "      width: 32px;\n",
              "    }\n",
              "\n",
              "    .colab-df-convert:hover {\n",
              "      background-color: #E2EBFA;\n",
              "      box-shadow: 0px 1px 2px rgba(60, 64, 67, 0.3), 0px 1px 3px 1px rgba(60, 64, 67, 0.15);\n",
              "      fill: #174EA6;\n",
              "    }\n",
              "\n",
              "    .colab-df-buttons div {\n",
              "      margin-bottom: 4px;\n",
              "    }\n",
              "\n",
              "    [theme=dark] .colab-df-convert {\n",
              "      background-color: #3B4455;\n",
              "      fill: #D2E3FC;\n",
              "    }\n",
              "\n",
              "    [theme=dark] .colab-df-convert:hover {\n",
              "      background-color: #434B5C;\n",
              "      box-shadow: 0px 1px 3px 1px rgba(0, 0, 0, 0.15);\n",
              "      filter: drop-shadow(0px 1px 2px rgba(0, 0, 0, 0.3));\n",
              "      fill: #FFFFFF;\n",
              "    }\n",
              "  </style>\n",
              "\n",
              "    <script>\n",
              "      const buttonEl =\n",
              "        document.querySelector('#df-9f9cce81-b801-4234-86c3-8d3872b33646 button.colab-df-convert');\n",
              "      buttonEl.style.display =\n",
              "        google.colab.kernel.accessAllowed ? 'block' : 'none';\n",
              "\n",
              "      async function convertToInteractive(key) {\n",
              "        const element = document.querySelector('#df-9f9cce81-b801-4234-86c3-8d3872b33646');\n",
              "        const dataTable =\n",
              "          await google.colab.kernel.invokeFunction('convertToInteractive',\n",
              "                                                    [key], {});\n",
              "        if (!dataTable) return;\n",
              "\n",
              "        const docLinkHtml = 'Like what you see? Visit the ' +\n",
              "          '<a target=\"_blank\" href=https://colab.research.google.com/notebooks/data_table.ipynb>data table notebook</a>'\n",
              "          + ' to learn more about interactive tables.';\n",
              "        element.innerHTML = '';\n",
              "        dataTable['output_type'] = 'display_data';\n",
              "        await google.colab.output.renderOutput(dataTable, element);\n",
              "        const docLink = document.createElement('div');\n",
              "        docLink.innerHTML = docLinkHtml;\n",
              "        element.appendChild(docLink);\n",
              "      }\n",
              "    </script>\n",
              "  </div>\n",
              "\n",
              "\n",
              "<div id=\"df-4e545b80-1d9e-4cbe-8061-4d5181d82813\">\n",
              "  <button class=\"colab-df-quickchart\" onclick=\"quickchart('df-4e545b80-1d9e-4cbe-8061-4d5181d82813')\"\n",
              "            title=\"Suggest charts.\"\n",
              "            style=\"display:none;\">\n",
              "\n",
              "<svg xmlns=\"http://www.w3.org/2000/svg\" height=\"24px\"viewBox=\"0 0 24 24\"\n",
              "     width=\"24px\">\n",
              "    <g>\n",
              "        <path d=\"M19 3H5c-1.1 0-2 .9-2 2v14c0 1.1.9 2 2 2h14c1.1 0 2-.9 2-2V5c0-1.1-.9-2-2-2zM9 17H7v-7h2v7zm4 0h-2V7h2v10zm4 0h-2v-4h2v4z\"/>\n",
              "    </g>\n",
              "</svg>\n",
              "  </button>\n",
              "\n",
              "<style>\n",
              "  .colab-df-quickchart {\n",
              "      --bg-color: #E8F0FE;\n",
              "      --fill-color: #1967D2;\n",
              "      --hover-bg-color: #E2EBFA;\n",
              "      --hover-fill-color: #174EA6;\n",
              "      --disabled-fill-color: #AAA;\n",
              "      --disabled-bg-color: #DDD;\n",
              "  }\n",
              "\n",
              "  [theme=dark] .colab-df-quickchart {\n",
              "      --bg-color: #3B4455;\n",
              "      --fill-color: #D2E3FC;\n",
              "      --hover-bg-color: #434B5C;\n",
              "      --hover-fill-color: #FFFFFF;\n",
              "      --disabled-bg-color: #3B4455;\n",
              "      --disabled-fill-color: #666;\n",
              "  }\n",
              "\n",
              "  .colab-df-quickchart {\n",
              "    background-color: var(--bg-color);\n",
              "    border: none;\n",
              "    border-radius: 50%;\n",
              "    cursor: pointer;\n",
              "    display: none;\n",
              "    fill: var(--fill-color);\n",
              "    height: 32px;\n",
              "    padding: 0;\n",
              "    width: 32px;\n",
              "  }\n",
              "\n",
              "  .colab-df-quickchart:hover {\n",
              "    background-color: var(--hover-bg-color);\n",
              "    box-shadow: 0 1px 2px rgba(60, 64, 67, 0.3), 0 1px 3px 1px rgba(60, 64, 67, 0.15);\n",
              "    fill: var(--button-hover-fill-color);\n",
              "  }\n",
              "\n",
              "  .colab-df-quickchart-complete:disabled,\n",
              "  .colab-df-quickchart-complete:disabled:hover {\n",
              "    background-color: var(--disabled-bg-color);\n",
              "    fill: var(--disabled-fill-color);\n",
              "    box-shadow: none;\n",
              "  }\n",
              "\n",
              "  .colab-df-spinner {\n",
              "    border: 2px solid var(--fill-color);\n",
              "    border-color: transparent;\n",
              "    border-bottom-color: var(--fill-color);\n",
              "    animation:\n",
              "      spin 1s steps(1) infinite;\n",
              "  }\n",
              "\n",
              "  @keyframes spin {\n",
              "    0% {\n",
              "      border-color: transparent;\n",
              "      border-bottom-color: var(--fill-color);\n",
              "      border-left-color: var(--fill-color);\n",
              "    }\n",
              "    20% {\n",
              "      border-color: transparent;\n",
              "      border-left-color: var(--fill-color);\n",
              "      border-top-color: var(--fill-color);\n",
              "    }\n",
              "    30% {\n",
              "      border-color: transparent;\n",
              "      border-left-color: var(--fill-color);\n",
              "      border-top-color: var(--fill-color);\n",
              "      border-right-color: var(--fill-color);\n",
              "    }\n",
              "    40% {\n",
              "      border-color: transparent;\n",
              "      border-right-color: var(--fill-color);\n",
              "      border-top-color: var(--fill-color);\n",
              "    }\n",
              "    60% {\n",
              "      border-color: transparent;\n",
              "      border-right-color: var(--fill-color);\n",
              "    }\n",
              "    80% {\n",
              "      border-color: transparent;\n",
              "      border-right-color: var(--fill-color);\n",
              "      border-bottom-color: var(--fill-color);\n",
              "    }\n",
              "    90% {\n",
              "      border-color: transparent;\n",
              "      border-bottom-color: var(--fill-color);\n",
              "    }\n",
              "  }\n",
              "</style>\n",
              "\n",
              "  <script>\n",
              "    async function quickchart(key) {\n",
              "      const quickchartButtonEl =\n",
              "        document.querySelector('#' + key + ' button');\n",
              "      quickchartButtonEl.disabled = true;  // To prevent multiple clicks.\n",
              "      quickchartButtonEl.classList.add('colab-df-spinner');\n",
              "      try {\n",
              "        const charts = await google.colab.kernel.invokeFunction(\n",
              "            'suggestCharts', [key], {});\n",
              "      } catch (error) {\n",
              "        console.error('Error during call to suggestCharts:', error);\n",
              "      }\n",
              "      quickchartButtonEl.classList.remove('colab-df-spinner');\n",
              "      quickchartButtonEl.classList.add('colab-df-quickchart-complete');\n",
              "    }\n",
              "    (() => {\n",
              "      let quickchartButtonEl =\n",
              "        document.querySelector('#df-4e545b80-1d9e-4cbe-8061-4d5181d82813 button');\n",
              "      quickchartButtonEl.style.display =\n",
              "        google.colab.kernel.accessAllowed ? 'block' : 'none';\n",
              "    })();\n",
              "  </script>\n",
              "</div>\n",
              "    </div>\n",
              "  </div>\n"
            ]
          },
          "metadata": {},
          "execution_count": 101
        }
      ],
      "source": [
        "from sklearn.preprocessing import LabelEncoder\n",
        "label_encoder = LabelEncoder()\n",
        "\n",
        "df['country'] = label_encoder.fit_transform(df['country'])\n",
        "df"
      ]
    },
    {
      "cell_type": "code",
      "execution_count": 102,
      "metadata": {
        "colab": {
          "base_uri": "https://localhost:8080/"
        },
        "id": "cGQbYBvDahdp",
        "outputId": "c815d48c-29c5-4b0c-fb99-5512b505f838"
      },
      "outputs": [
        {
          "output_type": "execute_result",
          "data": {
            "text/plain": [
              "array(['India', 'Japan', 'US'], dtype=object)"
            ]
          },
          "metadata": {},
          "execution_count": 102
        }
      ],
      "source": [
        "label_encoder.classes_"
      ]
    },
    {
      "cell_type": "markdown",
      "metadata": {
        "id": "wJezblW3b-EI"
      },
      "source": [
        "**One Hot Encoding**\n",
        "\n",
        "Setiap kategori pada suatu feature akan diurutkan secara alfabet dan direpresentasikan sebagai sekumpulan bits"
      ]
    },
    {
      "cell_type": "code",
      "execution_count": 103,
      "metadata": {
        "colab": {
          "base_uri": "https://localhost:8080/",
          "height": 206
        },
        "id": "yuEA7nnganOI",
        "outputId": "d0e17070-9e69-4a78-c220-612e24efc98b"
      },
      "outputs": [
        {
          "output_type": "execute_result",
          "data": {
            "text/plain": [
              "  country  age  salary\n",
              "0   India   44   72000\n",
              "1      US   34   65000\n",
              "2   Japan   46   98000\n",
              "3      US   35   45000\n",
              "4   Japan   23   34000"
            ],
            "text/html": [
              "\n",
              "  <div id=\"df-86ca7aa8-1a84-49a6-be04-ea21c22159c6\" class=\"colab-df-container\">\n",
              "    <div>\n",
              "<style scoped>\n",
              "    .dataframe tbody tr th:only-of-type {\n",
              "        vertical-align: middle;\n",
              "    }\n",
              "\n",
              "    .dataframe tbody tr th {\n",
              "        vertical-align: top;\n",
              "    }\n",
              "\n",
              "    .dataframe thead th {\n",
              "        text-align: right;\n",
              "    }\n",
              "</style>\n",
              "<table border=\"1\" class=\"dataframe\">\n",
              "  <thead>\n",
              "    <tr style=\"text-align: right;\">\n",
              "      <th></th>\n",
              "      <th>country</th>\n",
              "      <th>age</th>\n",
              "      <th>salary</th>\n",
              "    </tr>\n",
              "  </thead>\n",
              "  <tbody>\n",
              "    <tr>\n",
              "      <th>0</th>\n",
              "      <td>India</td>\n",
              "      <td>44</td>\n",
              "      <td>72000</td>\n",
              "    </tr>\n",
              "    <tr>\n",
              "      <th>1</th>\n",
              "      <td>US</td>\n",
              "      <td>34</td>\n",
              "      <td>65000</td>\n",
              "    </tr>\n",
              "    <tr>\n",
              "      <th>2</th>\n",
              "      <td>Japan</td>\n",
              "      <td>46</td>\n",
              "      <td>98000</td>\n",
              "    </tr>\n",
              "    <tr>\n",
              "      <th>3</th>\n",
              "      <td>US</td>\n",
              "      <td>35</td>\n",
              "      <td>45000</td>\n",
              "    </tr>\n",
              "    <tr>\n",
              "      <th>4</th>\n",
              "      <td>Japan</td>\n",
              "      <td>23</td>\n",
              "      <td>34000</td>\n",
              "    </tr>\n",
              "  </tbody>\n",
              "</table>\n",
              "</div>\n",
              "    <div class=\"colab-df-buttons\">\n",
              "\n",
              "  <div class=\"colab-df-container\">\n",
              "    <button class=\"colab-df-convert\" onclick=\"convertToInteractive('df-86ca7aa8-1a84-49a6-be04-ea21c22159c6')\"\n",
              "            title=\"Convert this dataframe to an interactive table.\"\n",
              "            style=\"display:none;\">\n",
              "\n",
              "  <svg xmlns=\"http://www.w3.org/2000/svg\" height=\"24px\" viewBox=\"0 -960 960 960\">\n",
              "    <path d=\"M120-120v-720h720v720H120Zm60-500h600v-160H180v160Zm220 220h160v-160H400v160Zm0 220h160v-160H400v160ZM180-400h160v-160H180v160Zm440 0h160v-160H620v160ZM180-180h160v-160H180v160Zm440 0h160v-160H620v160Z\"/>\n",
              "  </svg>\n",
              "    </button>\n",
              "\n",
              "  <style>\n",
              "    .colab-df-container {\n",
              "      display:flex;\n",
              "      gap: 12px;\n",
              "    }\n",
              "\n",
              "    .colab-df-convert {\n",
              "      background-color: #E8F0FE;\n",
              "      border: none;\n",
              "      border-radius: 50%;\n",
              "      cursor: pointer;\n",
              "      display: none;\n",
              "      fill: #1967D2;\n",
              "      height: 32px;\n",
              "      padding: 0 0 0 0;\n",
              "      width: 32px;\n",
              "    }\n",
              "\n",
              "    .colab-df-convert:hover {\n",
              "      background-color: #E2EBFA;\n",
              "      box-shadow: 0px 1px 2px rgba(60, 64, 67, 0.3), 0px 1px 3px 1px rgba(60, 64, 67, 0.15);\n",
              "      fill: #174EA6;\n",
              "    }\n",
              "\n",
              "    .colab-df-buttons div {\n",
              "      margin-bottom: 4px;\n",
              "    }\n",
              "\n",
              "    [theme=dark] .colab-df-convert {\n",
              "      background-color: #3B4455;\n",
              "      fill: #D2E3FC;\n",
              "    }\n",
              "\n",
              "    [theme=dark] .colab-df-convert:hover {\n",
              "      background-color: #434B5C;\n",
              "      box-shadow: 0px 1px 3px 1px rgba(0, 0, 0, 0.15);\n",
              "      filter: drop-shadow(0px 1px 2px rgba(0, 0, 0, 0.3));\n",
              "      fill: #FFFFFF;\n",
              "    }\n",
              "  </style>\n",
              "\n",
              "    <script>\n",
              "      const buttonEl =\n",
              "        document.querySelector('#df-86ca7aa8-1a84-49a6-be04-ea21c22159c6 button.colab-df-convert');\n",
              "      buttonEl.style.display =\n",
              "        google.colab.kernel.accessAllowed ? 'block' : 'none';\n",
              "\n",
              "      async function convertToInteractive(key) {\n",
              "        const element = document.querySelector('#df-86ca7aa8-1a84-49a6-be04-ea21c22159c6');\n",
              "        const dataTable =\n",
              "          await google.colab.kernel.invokeFunction('convertToInteractive',\n",
              "                                                    [key], {});\n",
              "        if (!dataTable) return;\n",
              "\n",
              "        const docLinkHtml = 'Like what you see? Visit the ' +\n",
              "          '<a target=\"_blank\" href=https://colab.research.google.com/notebooks/data_table.ipynb>data table notebook</a>'\n",
              "          + ' to learn more about interactive tables.';\n",
              "        element.innerHTML = '';\n",
              "        dataTable['output_type'] = 'display_data';\n",
              "        await google.colab.output.renderOutput(dataTable, element);\n",
              "        const docLink = document.createElement('div');\n",
              "        docLink.innerHTML = docLinkHtml;\n",
              "        element.appendChild(docLink);\n",
              "      }\n",
              "    </script>\n",
              "  </div>\n",
              "\n",
              "\n",
              "<div id=\"df-b099385d-c98c-4c46-9d8c-6276c22f459a\">\n",
              "  <button class=\"colab-df-quickchart\" onclick=\"quickchart('df-b099385d-c98c-4c46-9d8c-6276c22f459a')\"\n",
              "            title=\"Suggest charts.\"\n",
              "            style=\"display:none;\">\n",
              "\n",
              "<svg xmlns=\"http://www.w3.org/2000/svg\" height=\"24px\"viewBox=\"0 0 24 24\"\n",
              "     width=\"24px\">\n",
              "    <g>\n",
              "        <path d=\"M19 3H5c-1.1 0-2 .9-2 2v14c0 1.1.9 2 2 2h14c1.1 0 2-.9 2-2V5c0-1.1-.9-2-2-2zM9 17H7v-7h2v7zm4 0h-2V7h2v10zm4 0h-2v-4h2v4z\"/>\n",
              "    </g>\n",
              "</svg>\n",
              "  </button>\n",
              "\n",
              "<style>\n",
              "  .colab-df-quickchart {\n",
              "      --bg-color: #E8F0FE;\n",
              "      --fill-color: #1967D2;\n",
              "      --hover-bg-color: #E2EBFA;\n",
              "      --hover-fill-color: #174EA6;\n",
              "      --disabled-fill-color: #AAA;\n",
              "      --disabled-bg-color: #DDD;\n",
              "  }\n",
              "\n",
              "  [theme=dark] .colab-df-quickchart {\n",
              "      --bg-color: #3B4455;\n",
              "      --fill-color: #D2E3FC;\n",
              "      --hover-bg-color: #434B5C;\n",
              "      --hover-fill-color: #FFFFFF;\n",
              "      --disabled-bg-color: #3B4455;\n",
              "      --disabled-fill-color: #666;\n",
              "  }\n",
              "\n",
              "  .colab-df-quickchart {\n",
              "    background-color: var(--bg-color);\n",
              "    border: none;\n",
              "    border-radius: 50%;\n",
              "    cursor: pointer;\n",
              "    display: none;\n",
              "    fill: var(--fill-color);\n",
              "    height: 32px;\n",
              "    padding: 0;\n",
              "    width: 32px;\n",
              "  }\n",
              "\n",
              "  .colab-df-quickchart:hover {\n",
              "    background-color: var(--hover-bg-color);\n",
              "    box-shadow: 0 1px 2px rgba(60, 64, 67, 0.3), 0 1px 3px 1px rgba(60, 64, 67, 0.15);\n",
              "    fill: var(--button-hover-fill-color);\n",
              "  }\n",
              "\n",
              "  .colab-df-quickchart-complete:disabled,\n",
              "  .colab-df-quickchart-complete:disabled:hover {\n",
              "    background-color: var(--disabled-bg-color);\n",
              "    fill: var(--disabled-fill-color);\n",
              "    box-shadow: none;\n",
              "  }\n",
              "\n",
              "  .colab-df-spinner {\n",
              "    border: 2px solid var(--fill-color);\n",
              "    border-color: transparent;\n",
              "    border-bottom-color: var(--fill-color);\n",
              "    animation:\n",
              "      spin 1s steps(1) infinite;\n",
              "  }\n",
              "\n",
              "  @keyframes spin {\n",
              "    0% {\n",
              "      border-color: transparent;\n",
              "      border-bottom-color: var(--fill-color);\n",
              "      border-left-color: var(--fill-color);\n",
              "    }\n",
              "    20% {\n",
              "      border-color: transparent;\n",
              "      border-left-color: var(--fill-color);\n",
              "      border-top-color: var(--fill-color);\n",
              "    }\n",
              "    30% {\n",
              "      border-color: transparent;\n",
              "      border-left-color: var(--fill-color);\n",
              "      border-top-color: var(--fill-color);\n",
              "      border-right-color: var(--fill-color);\n",
              "    }\n",
              "    40% {\n",
              "      border-color: transparent;\n",
              "      border-right-color: var(--fill-color);\n",
              "      border-top-color: var(--fill-color);\n",
              "    }\n",
              "    60% {\n",
              "      border-color: transparent;\n",
              "      border-right-color: var(--fill-color);\n",
              "    }\n",
              "    80% {\n",
              "      border-color: transparent;\n",
              "      border-right-color: var(--fill-color);\n",
              "      border-bottom-color: var(--fill-color);\n",
              "    }\n",
              "    90% {\n",
              "      border-color: transparent;\n",
              "      border-bottom-color: var(--fill-color);\n",
              "    }\n",
              "  }\n",
              "</style>\n",
              "\n",
              "  <script>\n",
              "    async function quickchart(key) {\n",
              "      const quickchartButtonEl =\n",
              "        document.querySelector('#' + key + ' button');\n",
              "      quickchartButtonEl.disabled = true;  // To prevent multiple clicks.\n",
              "      quickchartButtonEl.classList.add('colab-df-spinner');\n",
              "      try {\n",
              "        const charts = await google.colab.kernel.invokeFunction(\n",
              "            'suggestCharts', [key], {});\n",
              "      } catch (error) {\n",
              "        console.error('Error during call to suggestCharts:', error);\n",
              "      }\n",
              "      quickchartButtonEl.classList.remove('colab-df-spinner');\n",
              "      quickchartButtonEl.classList.add('colab-df-quickchart-complete');\n",
              "    }\n",
              "    (() => {\n",
              "      let quickchartButtonEl =\n",
              "        document.querySelector('#df-b099385d-c98c-4c46-9d8c-6276c22f459a button');\n",
              "      quickchartButtonEl.style.display =\n",
              "        google.colab.kernel.accessAllowed ? 'block' : 'none';\n",
              "    })();\n",
              "  </script>\n",
              "</div>\n",
              "    </div>\n",
              "  </div>\n"
            ]
          },
          "metadata": {},
          "execution_count": 103
        }
      ],
      "source": [
        "#dataset\n",
        "\n",
        "df = pd.DataFrame({\n",
        "    'country' : ['India', 'US', 'Japan', 'US', 'Japan'],\n",
        "    'age' : [44, 34, 46, 35, 23],\n",
        "    'salary' : [72000, 65000, 98000, 45000, 34000]\n",
        "})\n",
        "\n",
        "df"
      ]
    },
    {
      "cell_type": "code",
      "execution_count": 104,
      "metadata": {
        "colab": {
          "base_uri": "https://localhost:8080/"
        },
        "id": "HhF8HXY1cNY-",
        "outputId": "fe456f4b-547e-449f-f6fc-cffebd8c4a6e"
      },
      "outputs": [
        {
          "output_type": "execute_result",
          "data": {
            "text/plain": [
              "array([['India'],\n",
              "       ['US'],\n",
              "       ['Japan'],\n",
              "       ['US'],\n",
              "       ['Japan']], dtype=object)"
            ]
          },
          "metadata": {},
          "execution_count": 104
        }
      ],
      "source": [
        "X = df['country'].values.reshape(-1,1)\n",
        "X"
      ]
    },
    {
      "cell_type": "code",
      "execution_count": 105,
      "metadata": {
        "colab": {
          "base_uri": "https://localhost:8080/"
        },
        "id": "KChajPNEcYh-",
        "outputId": "c4f3e2d2-7593-4e74-8192-bfebaee31082"
      },
      "outputs": [
        {
          "output_type": "execute_result",
          "data": {
            "text/plain": [
              "array([[1., 0., 0.],\n",
              "       [0., 0., 1.],\n",
              "       [0., 1., 0.],\n",
              "       [0., 0., 1.],\n",
              "       [0., 1., 0.]])"
            ]
          },
          "metadata": {},
          "execution_count": 105
        }
      ],
      "source": [
        "from sklearn.preprocessing import OneHotEncoder\n",
        "\n",
        "onehot_encoder = OneHotEncoder()\n",
        "X= onehot_encoder.fit_transform(X).toarray()\n",
        "X"
      ]
    },
    {
      "cell_type": "code",
      "execution_count": 106,
      "metadata": {
        "colab": {
          "base_uri": "https://localhost:8080/"
        },
        "id": "NjyYHmnAcxt4",
        "outputId": "8cee0eba-78cc-48b9-eed4-76615580da0b"
      },
      "outputs": [
        {
          "output_type": "execute_result",
          "data": {
            "text/plain": [
              "[array(['India', 'Japan', 'US'], dtype=object)]"
            ]
          },
          "metadata": {},
          "execution_count": 106
        }
      ],
      "source": [
        "onehot_encoder.categories_"
      ]
    },
    {
      "cell_type": "code",
      "execution_count": 107,
      "metadata": {
        "colab": {
          "base_uri": "https://localhost:8080/",
          "height": 206
        },
        "id": "6bmGHjaxc5uK",
        "outputId": "d67435fa-009a-41e6-a7a3-d45880251a34"
      },
      "outputs": [
        {
          "output_type": "execute_result",
          "data": {
            "text/plain": [
              "     0    1    2\n",
              "0  1.0  0.0  0.0\n",
              "1  0.0  0.0  1.0\n",
              "2  0.0  1.0  0.0\n",
              "3  0.0  0.0  1.0\n",
              "4  0.0  1.0  0.0"
            ],
            "text/html": [
              "\n",
              "  <div id=\"df-07a431d1-a942-42ef-ad74-012ab0e966f1\" class=\"colab-df-container\">\n",
              "    <div>\n",
              "<style scoped>\n",
              "    .dataframe tbody tr th:only-of-type {\n",
              "        vertical-align: middle;\n",
              "    }\n",
              "\n",
              "    .dataframe tbody tr th {\n",
              "        vertical-align: top;\n",
              "    }\n",
              "\n",
              "    .dataframe thead th {\n",
              "        text-align: right;\n",
              "    }\n",
              "</style>\n",
              "<table border=\"1\" class=\"dataframe\">\n",
              "  <thead>\n",
              "    <tr style=\"text-align: right;\">\n",
              "      <th></th>\n",
              "      <th>0</th>\n",
              "      <th>1</th>\n",
              "      <th>2</th>\n",
              "    </tr>\n",
              "  </thead>\n",
              "  <tbody>\n",
              "    <tr>\n",
              "      <th>0</th>\n",
              "      <td>1.0</td>\n",
              "      <td>0.0</td>\n",
              "      <td>0.0</td>\n",
              "    </tr>\n",
              "    <tr>\n",
              "      <th>1</th>\n",
              "      <td>0.0</td>\n",
              "      <td>0.0</td>\n",
              "      <td>1.0</td>\n",
              "    </tr>\n",
              "    <tr>\n",
              "      <th>2</th>\n",
              "      <td>0.0</td>\n",
              "      <td>1.0</td>\n",
              "      <td>0.0</td>\n",
              "    </tr>\n",
              "    <tr>\n",
              "      <th>3</th>\n",
              "      <td>0.0</td>\n",
              "      <td>0.0</td>\n",
              "      <td>1.0</td>\n",
              "    </tr>\n",
              "    <tr>\n",
              "      <th>4</th>\n",
              "      <td>0.0</td>\n",
              "      <td>1.0</td>\n",
              "      <td>0.0</td>\n",
              "    </tr>\n",
              "  </tbody>\n",
              "</table>\n",
              "</div>\n",
              "    <div class=\"colab-df-buttons\">\n",
              "\n",
              "  <div class=\"colab-df-container\">\n",
              "    <button class=\"colab-df-convert\" onclick=\"convertToInteractive('df-07a431d1-a942-42ef-ad74-012ab0e966f1')\"\n",
              "            title=\"Convert this dataframe to an interactive table.\"\n",
              "            style=\"display:none;\">\n",
              "\n",
              "  <svg xmlns=\"http://www.w3.org/2000/svg\" height=\"24px\" viewBox=\"0 -960 960 960\">\n",
              "    <path d=\"M120-120v-720h720v720H120Zm60-500h600v-160H180v160Zm220 220h160v-160H400v160Zm0 220h160v-160H400v160ZM180-400h160v-160H180v160Zm440 0h160v-160H620v160ZM180-180h160v-160H180v160Zm440 0h160v-160H620v160Z\"/>\n",
              "  </svg>\n",
              "    </button>\n",
              "\n",
              "  <style>\n",
              "    .colab-df-container {\n",
              "      display:flex;\n",
              "      gap: 12px;\n",
              "    }\n",
              "\n",
              "    .colab-df-convert {\n",
              "      background-color: #E8F0FE;\n",
              "      border: none;\n",
              "      border-radius: 50%;\n",
              "      cursor: pointer;\n",
              "      display: none;\n",
              "      fill: #1967D2;\n",
              "      height: 32px;\n",
              "      padding: 0 0 0 0;\n",
              "      width: 32px;\n",
              "    }\n",
              "\n",
              "    .colab-df-convert:hover {\n",
              "      background-color: #E2EBFA;\n",
              "      box-shadow: 0px 1px 2px rgba(60, 64, 67, 0.3), 0px 1px 3px 1px rgba(60, 64, 67, 0.15);\n",
              "      fill: #174EA6;\n",
              "    }\n",
              "\n",
              "    .colab-df-buttons div {\n",
              "      margin-bottom: 4px;\n",
              "    }\n",
              "\n",
              "    [theme=dark] .colab-df-convert {\n",
              "      background-color: #3B4455;\n",
              "      fill: #D2E3FC;\n",
              "    }\n",
              "\n",
              "    [theme=dark] .colab-df-convert:hover {\n",
              "      background-color: #434B5C;\n",
              "      box-shadow: 0px 1px 3px 1px rgba(0, 0, 0, 0.15);\n",
              "      filter: drop-shadow(0px 1px 2px rgba(0, 0, 0, 0.3));\n",
              "      fill: #FFFFFF;\n",
              "    }\n",
              "  </style>\n",
              "\n",
              "    <script>\n",
              "      const buttonEl =\n",
              "        document.querySelector('#df-07a431d1-a942-42ef-ad74-012ab0e966f1 button.colab-df-convert');\n",
              "      buttonEl.style.display =\n",
              "        google.colab.kernel.accessAllowed ? 'block' : 'none';\n",
              "\n",
              "      async function convertToInteractive(key) {\n",
              "        const element = document.querySelector('#df-07a431d1-a942-42ef-ad74-012ab0e966f1');\n",
              "        const dataTable =\n",
              "          await google.colab.kernel.invokeFunction('convertToInteractive',\n",
              "                                                    [key], {});\n",
              "        if (!dataTable) return;\n",
              "\n",
              "        const docLinkHtml = 'Like what you see? Visit the ' +\n",
              "          '<a target=\"_blank\" href=https://colab.research.google.com/notebooks/data_table.ipynb>data table notebook</a>'\n",
              "          + ' to learn more about interactive tables.';\n",
              "        element.innerHTML = '';\n",
              "        dataTable['output_type'] = 'display_data';\n",
              "        await google.colab.output.renderOutput(dataTable, element);\n",
              "        const docLink = document.createElement('div');\n",
              "        docLink.innerHTML = docLinkHtml;\n",
              "        element.appendChild(docLink);\n",
              "      }\n",
              "    </script>\n",
              "  </div>\n",
              "\n",
              "\n",
              "<div id=\"df-e4b45dc2-f34c-44ee-a34b-6ee81aa8e8e3\">\n",
              "  <button class=\"colab-df-quickchart\" onclick=\"quickchart('df-e4b45dc2-f34c-44ee-a34b-6ee81aa8e8e3')\"\n",
              "            title=\"Suggest charts.\"\n",
              "            style=\"display:none;\">\n",
              "\n",
              "<svg xmlns=\"http://www.w3.org/2000/svg\" height=\"24px\"viewBox=\"0 0 24 24\"\n",
              "     width=\"24px\">\n",
              "    <g>\n",
              "        <path d=\"M19 3H5c-1.1 0-2 .9-2 2v14c0 1.1.9 2 2 2h14c1.1 0 2-.9 2-2V5c0-1.1-.9-2-2-2zM9 17H7v-7h2v7zm4 0h-2V7h2v10zm4 0h-2v-4h2v4z\"/>\n",
              "    </g>\n",
              "</svg>\n",
              "  </button>\n",
              "\n",
              "<style>\n",
              "  .colab-df-quickchart {\n",
              "      --bg-color: #E8F0FE;\n",
              "      --fill-color: #1967D2;\n",
              "      --hover-bg-color: #E2EBFA;\n",
              "      --hover-fill-color: #174EA6;\n",
              "      --disabled-fill-color: #AAA;\n",
              "      --disabled-bg-color: #DDD;\n",
              "  }\n",
              "\n",
              "  [theme=dark] .colab-df-quickchart {\n",
              "      --bg-color: #3B4455;\n",
              "      --fill-color: #D2E3FC;\n",
              "      --hover-bg-color: #434B5C;\n",
              "      --hover-fill-color: #FFFFFF;\n",
              "      --disabled-bg-color: #3B4455;\n",
              "      --disabled-fill-color: #666;\n",
              "  }\n",
              "\n",
              "  .colab-df-quickchart {\n",
              "    background-color: var(--bg-color);\n",
              "    border: none;\n",
              "    border-radius: 50%;\n",
              "    cursor: pointer;\n",
              "    display: none;\n",
              "    fill: var(--fill-color);\n",
              "    height: 32px;\n",
              "    padding: 0;\n",
              "    width: 32px;\n",
              "  }\n",
              "\n",
              "  .colab-df-quickchart:hover {\n",
              "    background-color: var(--hover-bg-color);\n",
              "    box-shadow: 0 1px 2px rgba(60, 64, 67, 0.3), 0 1px 3px 1px rgba(60, 64, 67, 0.15);\n",
              "    fill: var(--button-hover-fill-color);\n",
              "  }\n",
              "\n",
              "  .colab-df-quickchart-complete:disabled,\n",
              "  .colab-df-quickchart-complete:disabled:hover {\n",
              "    background-color: var(--disabled-bg-color);\n",
              "    fill: var(--disabled-fill-color);\n",
              "    box-shadow: none;\n",
              "  }\n",
              "\n",
              "  .colab-df-spinner {\n",
              "    border: 2px solid var(--fill-color);\n",
              "    border-color: transparent;\n",
              "    border-bottom-color: var(--fill-color);\n",
              "    animation:\n",
              "      spin 1s steps(1) infinite;\n",
              "  }\n",
              "\n",
              "  @keyframes spin {\n",
              "    0% {\n",
              "      border-color: transparent;\n",
              "      border-bottom-color: var(--fill-color);\n",
              "      border-left-color: var(--fill-color);\n",
              "    }\n",
              "    20% {\n",
              "      border-color: transparent;\n",
              "      border-left-color: var(--fill-color);\n",
              "      border-top-color: var(--fill-color);\n",
              "    }\n",
              "    30% {\n",
              "      border-color: transparent;\n",
              "      border-left-color: var(--fill-color);\n",
              "      border-top-color: var(--fill-color);\n",
              "      border-right-color: var(--fill-color);\n",
              "    }\n",
              "    40% {\n",
              "      border-color: transparent;\n",
              "      border-right-color: var(--fill-color);\n",
              "      border-top-color: var(--fill-color);\n",
              "    }\n",
              "    60% {\n",
              "      border-color: transparent;\n",
              "      border-right-color: var(--fill-color);\n",
              "    }\n",
              "    80% {\n",
              "      border-color: transparent;\n",
              "      border-right-color: var(--fill-color);\n",
              "      border-bottom-color: var(--fill-color);\n",
              "    }\n",
              "    90% {\n",
              "      border-color: transparent;\n",
              "      border-bottom-color: var(--fill-color);\n",
              "    }\n",
              "  }\n",
              "</style>\n",
              "\n",
              "  <script>\n",
              "    async function quickchart(key) {\n",
              "      const quickchartButtonEl =\n",
              "        document.querySelector('#' + key + ' button');\n",
              "      quickchartButtonEl.disabled = true;  // To prevent multiple clicks.\n",
              "      quickchartButtonEl.classList.add('colab-df-spinner');\n",
              "      try {\n",
              "        const charts = await google.colab.kernel.invokeFunction(\n",
              "            'suggestCharts', [key], {});\n",
              "      } catch (error) {\n",
              "        console.error('Error during call to suggestCharts:', error);\n",
              "      }\n",
              "      quickchartButtonEl.classList.remove('colab-df-spinner');\n",
              "      quickchartButtonEl.classList.add('colab-df-quickchart-complete');\n",
              "    }\n",
              "    (() => {\n",
              "      let quickchartButtonEl =\n",
              "        document.querySelector('#df-e4b45dc2-f34c-44ee-a34b-6ee81aa8e8e3 button');\n",
              "      quickchartButtonEl.style.display =\n",
              "        google.colab.kernel.accessAllowed ? 'block' : 'none';\n",
              "    })();\n",
              "  </script>\n",
              "</div>\n",
              "    </div>\n",
              "  </div>\n"
            ]
          },
          "metadata": {},
          "execution_count": 107
        }
      ],
      "source": [
        "df_onehot = pd.DataFrame(X, columns =[str(i) for i in range(X.shape[1])])\n",
        "\n",
        "df_onehot"
      ]
    },
    {
      "cell_type": "code",
      "execution_count": 108,
      "metadata": {
        "colab": {
          "base_uri": "https://localhost:8080/",
          "height": 206
        },
        "id": "521zhI4wdNo3",
        "outputId": "698b15c8-62a6-44fc-c19e-14f60e057210"
      },
      "outputs": [
        {
          "output_type": "execute_result",
          "data": {
            "text/plain": [
              "     0    1    2 country  age  salary\n",
              "0  1.0  0.0  0.0   India   44   72000\n",
              "1  0.0  0.0  1.0      US   34   65000\n",
              "2  0.0  1.0  0.0   Japan   46   98000\n",
              "3  0.0  0.0  1.0      US   35   45000\n",
              "4  0.0  1.0  0.0   Japan   23   34000"
            ],
            "text/html": [
              "\n",
              "  <div id=\"df-6089c010-bc74-4778-b9f7-856a01c92bd4\" class=\"colab-df-container\">\n",
              "    <div>\n",
              "<style scoped>\n",
              "    .dataframe tbody tr th:only-of-type {\n",
              "        vertical-align: middle;\n",
              "    }\n",
              "\n",
              "    .dataframe tbody tr th {\n",
              "        vertical-align: top;\n",
              "    }\n",
              "\n",
              "    .dataframe thead th {\n",
              "        text-align: right;\n",
              "    }\n",
              "</style>\n",
              "<table border=\"1\" class=\"dataframe\">\n",
              "  <thead>\n",
              "    <tr style=\"text-align: right;\">\n",
              "      <th></th>\n",
              "      <th>0</th>\n",
              "      <th>1</th>\n",
              "      <th>2</th>\n",
              "      <th>country</th>\n",
              "      <th>age</th>\n",
              "      <th>salary</th>\n",
              "    </tr>\n",
              "  </thead>\n",
              "  <tbody>\n",
              "    <tr>\n",
              "      <th>0</th>\n",
              "      <td>1.0</td>\n",
              "      <td>0.0</td>\n",
              "      <td>0.0</td>\n",
              "      <td>India</td>\n",
              "      <td>44</td>\n",
              "      <td>72000</td>\n",
              "    </tr>\n",
              "    <tr>\n",
              "      <th>1</th>\n",
              "      <td>0.0</td>\n",
              "      <td>0.0</td>\n",
              "      <td>1.0</td>\n",
              "      <td>US</td>\n",
              "      <td>34</td>\n",
              "      <td>65000</td>\n",
              "    </tr>\n",
              "    <tr>\n",
              "      <th>2</th>\n",
              "      <td>0.0</td>\n",
              "      <td>1.0</td>\n",
              "      <td>0.0</td>\n",
              "      <td>Japan</td>\n",
              "      <td>46</td>\n",
              "      <td>98000</td>\n",
              "    </tr>\n",
              "    <tr>\n",
              "      <th>3</th>\n",
              "      <td>0.0</td>\n",
              "      <td>0.0</td>\n",
              "      <td>1.0</td>\n",
              "      <td>US</td>\n",
              "      <td>35</td>\n",
              "      <td>45000</td>\n",
              "    </tr>\n",
              "    <tr>\n",
              "      <th>4</th>\n",
              "      <td>0.0</td>\n",
              "      <td>1.0</td>\n",
              "      <td>0.0</td>\n",
              "      <td>Japan</td>\n",
              "      <td>23</td>\n",
              "      <td>34000</td>\n",
              "    </tr>\n",
              "  </tbody>\n",
              "</table>\n",
              "</div>\n",
              "    <div class=\"colab-df-buttons\">\n",
              "\n",
              "  <div class=\"colab-df-container\">\n",
              "    <button class=\"colab-df-convert\" onclick=\"convertToInteractive('df-6089c010-bc74-4778-b9f7-856a01c92bd4')\"\n",
              "            title=\"Convert this dataframe to an interactive table.\"\n",
              "            style=\"display:none;\">\n",
              "\n",
              "  <svg xmlns=\"http://www.w3.org/2000/svg\" height=\"24px\" viewBox=\"0 -960 960 960\">\n",
              "    <path d=\"M120-120v-720h720v720H120Zm60-500h600v-160H180v160Zm220 220h160v-160H400v160Zm0 220h160v-160H400v160ZM180-400h160v-160H180v160Zm440 0h160v-160H620v160ZM180-180h160v-160H180v160Zm440 0h160v-160H620v160Z\"/>\n",
              "  </svg>\n",
              "    </button>\n",
              "\n",
              "  <style>\n",
              "    .colab-df-container {\n",
              "      display:flex;\n",
              "      gap: 12px;\n",
              "    }\n",
              "\n",
              "    .colab-df-convert {\n",
              "      background-color: #E8F0FE;\n",
              "      border: none;\n",
              "      border-radius: 50%;\n",
              "      cursor: pointer;\n",
              "      display: none;\n",
              "      fill: #1967D2;\n",
              "      height: 32px;\n",
              "      padding: 0 0 0 0;\n",
              "      width: 32px;\n",
              "    }\n",
              "\n",
              "    .colab-df-convert:hover {\n",
              "      background-color: #E2EBFA;\n",
              "      box-shadow: 0px 1px 2px rgba(60, 64, 67, 0.3), 0px 1px 3px 1px rgba(60, 64, 67, 0.15);\n",
              "      fill: #174EA6;\n",
              "    }\n",
              "\n",
              "    .colab-df-buttons div {\n",
              "      margin-bottom: 4px;\n",
              "    }\n",
              "\n",
              "    [theme=dark] .colab-df-convert {\n",
              "      background-color: #3B4455;\n",
              "      fill: #D2E3FC;\n",
              "    }\n",
              "\n",
              "    [theme=dark] .colab-df-convert:hover {\n",
              "      background-color: #434B5C;\n",
              "      box-shadow: 0px 1px 3px 1px rgba(0, 0, 0, 0.15);\n",
              "      filter: drop-shadow(0px 1px 2px rgba(0, 0, 0, 0.3));\n",
              "      fill: #FFFFFF;\n",
              "    }\n",
              "  </style>\n",
              "\n",
              "    <script>\n",
              "      const buttonEl =\n",
              "        document.querySelector('#df-6089c010-bc74-4778-b9f7-856a01c92bd4 button.colab-df-convert');\n",
              "      buttonEl.style.display =\n",
              "        google.colab.kernel.accessAllowed ? 'block' : 'none';\n",
              "\n",
              "      async function convertToInteractive(key) {\n",
              "        const element = document.querySelector('#df-6089c010-bc74-4778-b9f7-856a01c92bd4');\n",
              "        const dataTable =\n",
              "          await google.colab.kernel.invokeFunction('convertToInteractive',\n",
              "                                                    [key], {});\n",
              "        if (!dataTable) return;\n",
              "\n",
              "        const docLinkHtml = 'Like what you see? Visit the ' +\n",
              "          '<a target=\"_blank\" href=https://colab.research.google.com/notebooks/data_table.ipynb>data table notebook</a>'\n",
              "          + ' to learn more about interactive tables.';\n",
              "        element.innerHTML = '';\n",
              "        dataTable['output_type'] = 'display_data';\n",
              "        await google.colab.output.renderOutput(dataTable, element);\n",
              "        const docLink = document.createElement('div');\n",
              "        docLink.innerHTML = docLinkHtml;\n",
              "        element.appendChild(docLink);\n",
              "      }\n",
              "    </script>\n",
              "  </div>\n",
              "\n",
              "\n",
              "<div id=\"df-24cf13cb-e66d-406b-979a-ea307d622fc8\">\n",
              "  <button class=\"colab-df-quickchart\" onclick=\"quickchart('df-24cf13cb-e66d-406b-979a-ea307d622fc8')\"\n",
              "            title=\"Suggest charts.\"\n",
              "            style=\"display:none;\">\n",
              "\n",
              "<svg xmlns=\"http://www.w3.org/2000/svg\" height=\"24px\"viewBox=\"0 0 24 24\"\n",
              "     width=\"24px\">\n",
              "    <g>\n",
              "        <path d=\"M19 3H5c-1.1 0-2 .9-2 2v14c0 1.1.9 2 2 2h14c1.1 0 2-.9 2-2V5c0-1.1-.9-2-2-2zM9 17H7v-7h2v7zm4 0h-2V7h2v10zm4 0h-2v-4h2v4z\"/>\n",
              "    </g>\n",
              "</svg>\n",
              "  </button>\n",
              "\n",
              "<style>\n",
              "  .colab-df-quickchart {\n",
              "      --bg-color: #E8F0FE;\n",
              "      --fill-color: #1967D2;\n",
              "      --hover-bg-color: #E2EBFA;\n",
              "      --hover-fill-color: #174EA6;\n",
              "      --disabled-fill-color: #AAA;\n",
              "      --disabled-bg-color: #DDD;\n",
              "  }\n",
              "\n",
              "  [theme=dark] .colab-df-quickchart {\n",
              "      --bg-color: #3B4455;\n",
              "      --fill-color: #D2E3FC;\n",
              "      --hover-bg-color: #434B5C;\n",
              "      --hover-fill-color: #FFFFFF;\n",
              "      --disabled-bg-color: #3B4455;\n",
              "      --disabled-fill-color: #666;\n",
              "  }\n",
              "\n",
              "  .colab-df-quickchart {\n",
              "    background-color: var(--bg-color);\n",
              "    border: none;\n",
              "    border-radius: 50%;\n",
              "    cursor: pointer;\n",
              "    display: none;\n",
              "    fill: var(--fill-color);\n",
              "    height: 32px;\n",
              "    padding: 0;\n",
              "    width: 32px;\n",
              "  }\n",
              "\n",
              "  .colab-df-quickchart:hover {\n",
              "    background-color: var(--hover-bg-color);\n",
              "    box-shadow: 0 1px 2px rgba(60, 64, 67, 0.3), 0 1px 3px 1px rgba(60, 64, 67, 0.15);\n",
              "    fill: var(--button-hover-fill-color);\n",
              "  }\n",
              "\n",
              "  .colab-df-quickchart-complete:disabled,\n",
              "  .colab-df-quickchart-complete:disabled:hover {\n",
              "    background-color: var(--disabled-bg-color);\n",
              "    fill: var(--disabled-fill-color);\n",
              "    box-shadow: none;\n",
              "  }\n",
              "\n",
              "  .colab-df-spinner {\n",
              "    border: 2px solid var(--fill-color);\n",
              "    border-color: transparent;\n",
              "    border-bottom-color: var(--fill-color);\n",
              "    animation:\n",
              "      spin 1s steps(1) infinite;\n",
              "  }\n",
              "\n",
              "  @keyframes spin {\n",
              "    0% {\n",
              "      border-color: transparent;\n",
              "      border-bottom-color: var(--fill-color);\n",
              "      border-left-color: var(--fill-color);\n",
              "    }\n",
              "    20% {\n",
              "      border-color: transparent;\n",
              "      border-left-color: var(--fill-color);\n",
              "      border-top-color: var(--fill-color);\n",
              "    }\n",
              "    30% {\n",
              "      border-color: transparent;\n",
              "      border-left-color: var(--fill-color);\n",
              "      border-top-color: var(--fill-color);\n",
              "      border-right-color: var(--fill-color);\n",
              "    }\n",
              "    40% {\n",
              "      border-color: transparent;\n",
              "      border-right-color: var(--fill-color);\n",
              "      border-top-color: var(--fill-color);\n",
              "    }\n",
              "    60% {\n",
              "      border-color: transparent;\n",
              "      border-right-color: var(--fill-color);\n",
              "    }\n",
              "    80% {\n",
              "      border-color: transparent;\n",
              "      border-right-color: var(--fill-color);\n",
              "      border-bottom-color: var(--fill-color);\n",
              "    }\n",
              "    90% {\n",
              "      border-color: transparent;\n",
              "      border-bottom-color: var(--fill-color);\n",
              "    }\n",
              "  }\n",
              "</style>\n",
              "\n",
              "  <script>\n",
              "    async function quickchart(key) {\n",
              "      const quickchartButtonEl =\n",
              "        document.querySelector('#' + key + ' button');\n",
              "      quickchartButtonEl.disabled = true;  // To prevent multiple clicks.\n",
              "      quickchartButtonEl.classList.add('colab-df-spinner');\n",
              "      try {\n",
              "        const charts = await google.colab.kernel.invokeFunction(\n",
              "            'suggestCharts', [key], {});\n",
              "      } catch (error) {\n",
              "        console.error('Error during call to suggestCharts:', error);\n",
              "      }\n",
              "      quickchartButtonEl.classList.remove('colab-df-spinner');\n",
              "      quickchartButtonEl.classList.add('colab-df-quickchart-complete');\n",
              "    }\n",
              "    (() => {\n",
              "      let quickchartButtonEl =\n",
              "        document.querySelector('#df-24cf13cb-e66d-406b-979a-ea307d622fc8 button');\n",
              "      quickchartButtonEl.style.display =\n",
              "        google.colab.kernel.accessAllowed ? 'block' : 'none';\n",
              "    })();\n",
              "  </script>\n",
              "</div>\n",
              "    </div>\n",
              "  </div>\n"
            ]
          },
          "metadata": {},
          "execution_count": 108
        }
      ],
      "source": [
        "df = pd.concat([df_onehot, df], axis = 1)\n",
        "df"
      ]
    },
    {
      "cell_type": "code",
      "execution_count": 109,
      "metadata": {
        "colab": {
          "base_uri": "https://localhost:8080/",
          "height": 206
        },
        "id": "frEiHVyydcKv",
        "outputId": "75dbd46e-110b-4a85-bb64-c49fe912b363"
      },
      "outputs": [
        {
          "output_type": "execute_result",
          "data": {
            "text/plain": [
              "     0    1    2  age  salary\n",
              "0  1.0  0.0  0.0   44   72000\n",
              "1  0.0  0.0  1.0   34   65000\n",
              "2  0.0  1.0  0.0   46   98000\n",
              "3  0.0  0.0  1.0   35   45000\n",
              "4  0.0  1.0  0.0   23   34000"
            ],
            "text/html": [
              "\n",
              "  <div id=\"df-a87e795c-28e5-4db2-ab60-928e6b0717b2\" class=\"colab-df-container\">\n",
              "    <div>\n",
              "<style scoped>\n",
              "    .dataframe tbody tr th:only-of-type {\n",
              "        vertical-align: middle;\n",
              "    }\n",
              "\n",
              "    .dataframe tbody tr th {\n",
              "        vertical-align: top;\n",
              "    }\n",
              "\n",
              "    .dataframe thead th {\n",
              "        text-align: right;\n",
              "    }\n",
              "</style>\n",
              "<table border=\"1\" class=\"dataframe\">\n",
              "  <thead>\n",
              "    <tr style=\"text-align: right;\">\n",
              "      <th></th>\n",
              "      <th>0</th>\n",
              "      <th>1</th>\n",
              "      <th>2</th>\n",
              "      <th>age</th>\n",
              "      <th>salary</th>\n",
              "    </tr>\n",
              "  </thead>\n",
              "  <tbody>\n",
              "    <tr>\n",
              "      <th>0</th>\n",
              "      <td>1.0</td>\n",
              "      <td>0.0</td>\n",
              "      <td>0.0</td>\n",
              "      <td>44</td>\n",
              "      <td>72000</td>\n",
              "    </tr>\n",
              "    <tr>\n",
              "      <th>1</th>\n",
              "      <td>0.0</td>\n",
              "      <td>0.0</td>\n",
              "      <td>1.0</td>\n",
              "      <td>34</td>\n",
              "      <td>65000</td>\n",
              "    </tr>\n",
              "    <tr>\n",
              "      <th>2</th>\n",
              "      <td>0.0</td>\n",
              "      <td>1.0</td>\n",
              "      <td>0.0</td>\n",
              "      <td>46</td>\n",
              "      <td>98000</td>\n",
              "    </tr>\n",
              "    <tr>\n",
              "      <th>3</th>\n",
              "      <td>0.0</td>\n",
              "      <td>0.0</td>\n",
              "      <td>1.0</td>\n",
              "      <td>35</td>\n",
              "      <td>45000</td>\n",
              "    </tr>\n",
              "    <tr>\n",
              "      <th>4</th>\n",
              "      <td>0.0</td>\n",
              "      <td>1.0</td>\n",
              "      <td>0.0</td>\n",
              "      <td>23</td>\n",
              "      <td>34000</td>\n",
              "    </tr>\n",
              "  </tbody>\n",
              "</table>\n",
              "</div>\n",
              "    <div class=\"colab-df-buttons\">\n",
              "\n",
              "  <div class=\"colab-df-container\">\n",
              "    <button class=\"colab-df-convert\" onclick=\"convertToInteractive('df-a87e795c-28e5-4db2-ab60-928e6b0717b2')\"\n",
              "            title=\"Convert this dataframe to an interactive table.\"\n",
              "            style=\"display:none;\">\n",
              "\n",
              "  <svg xmlns=\"http://www.w3.org/2000/svg\" height=\"24px\" viewBox=\"0 -960 960 960\">\n",
              "    <path d=\"M120-120v-720h720v720H120Zm60-500h600v-160H180v160Zm220 220h160v-160H400v160Zm0 220h160v-160H400v160ZM180-400h160v-160H180v160Zm440 0h160v-160H620v160ZM180-180h160v-160H180v160Zm440 0h160v-160H620v160Z\"/>\n",
              "  </svg>\n",
              "    </button>\n",
              "\n",
              "  <style>\n",
              "    .colab-df-container {\n",
              "      display:flex;\n",
              "      gap: 12px;\n",
              "    }\n",
              "\n",
              "    .colab-df-convert {\n",
              "      background-color: #E8F0FE;\n",
              "      border: none;\n",
              "      border-radius: 50%;\n",
              "      cursor: pointer;\n",
              "      display: none;\n",
              "      fill: #1967D2;\n",
              "      height: 32px;\n",
              "      padding: 0 0 0 0;\n",
              "      width: 32px;\n",
              "    }\n",
              "\n",
              "    .colab-df-convert:hover {\n",
              "      background-color: #E2EBFA;\n",
              "      box-shadow: 0px 1px 2px rgba(60, 64, 67, 0.3), 0px 1px 3px 1px rgba(60, 64, 67, 0.15);\n",
              "      fill: #174EA6;\n",
              "    }\n",
              "\n",
              "    .colab-df-buttons div {\n",
              "      margin-bottom: 4px;\n",
              "    }\n",
              "\n",
              "    [theme=dark] .colab-df-convert {\n",
              "      background-color: #3B4455;\n",
              "      fill: #D2E3FC;\n",
              "    }\n",
              "\n",
              "    [theme=dark] .colab-df-convert:hover {\n",
              "      background-color: #434B5C;\n",
              "      box-shadow: 0px 1px 3px 1px rgba(0, 0, 0, 0.15);\n",
              "      filter: drop-shadow(0px 1px 2px rgba(0, 0, 0, 0.3));\n",
              "      fill: #FFFFFF;\n",
              "    }\n",
              "  </style>\n",
              "\n",
              "    <script>\n",
              "      const buttonEl =\n",
              "        document.querySelector('#df-a87e795c-28e5-4db2-ab60-928e6b0717b2 button.colab-df-convert');\n",
              "      buttonEl.style.display =\n",
              "        google.colab.kernel.accessAllowed ? 'block' : 'none';\n",
              "\n",
              "      async function convertToInteractive(key) {\n",
              "        const element = document.querySelector('#df-a87e795c-28e5-4db2-ab60-928e6b0717b2');\n",
              "        const dataTable =\n",
              "          await google.colab.kernel.invokeFunction('convertToInteractive',\n",
              "                                                    [key], {});\n",
              "        if (!dataTable) return;\n",
              "\n",
              "        const docLinkHtml = 'Like what you see? Visit the ' +\n",
              "          '<a target=\"_blank\" href=https://colab.research.google.com/notebooks/data_table.ipynb>data table notebook</a>'\n",
              "          + ' to learn more about interactive tables.';\n",
              "        element.innerHTML = '';\n",
              "        dataTable['output_type'] = 'display_data';\n",
              "        await google.colab.output.renderOutput(dataTable, element);\n",
              "        const docLink = document.createElement('div');\n",
              "        docLink.innerHTML = docLinkHtml;\n",
              "        element.appendChild(docLink);\n",
              "      }\n",
              "    </script>\n",
              "  </div>\n",
              "\n",
              "\n",
              "<div id=\"df-64d3f54a-d1bc-4325-8ade-65b49f180030\">\n",
              "  <button class=\"colab-df-quickchart\" onclick=\"quickchart('df-64d3f54a-d1bc-4325-8ade-65b49f180030')\"\n",
              "            title=\"Suggest charts.\"\n",
              "            style=\"display:none;\">\n",
              "\n",
              "<svg xmlns=\"http://www.w3.org/2000/svg\" height=\"24px\"viewBox=\"0 0 24 24\"\n",
              "     width=\"24px\">\n",
              "    <g>\n",
              "        <path d=\"M19 3H5c-1.1 0-2 .9-2 2v14c0 1.1.9 2 2 2h14c1.1 0 2-.9 2-2V5c0-1.1-.9-2-2-2zM9 17H7v-7h2v7zm4 0h-2V7h2v10zm4 0h-2v-4h2v4z\"/>\n",
              "    </g>\n",
              "</svg>\n",
              "  </button>\n",
              "\n",
              "<style>\n",
              "  .colab-df-quickchart {\n",
              "      --bg-color: #E8F0FE;\n",
              "      --fill-color: #1967D2;\n",
              "      --hover-bg-color: #E2EBFA;\n",
              "      --hover-fill-color: #174EA6;\n",
              "      --disabled-fill-color: #AAA;\n",
              "      --disabled-bg-color: #DDD;\n",
              "  }\n",
              "\n",
              "  [theme=dark] .colab-df-quickchart {\n",
              "      --bg-color: #3B4455;\n",
              "      --fill-color: #D2E3FC;\n",
              "      --hover-bg-color: #434B5C;\n",
              "      --hover-fill-color: #FFFFFF;\n",
              "      --disabled-bg-color: #3B4455;\n",
              "      --disabled-fill-color: #666;\n",
              "  }\n",
              "\n",
              "  .colab-df-quickchart {\n",
              "    background-color: var(--bg-color);\n",
              "    border: none;\n",
              "    border-radius: 50%;\n",
              "    cursor: pointer;\n",
              "    display: none;\n",
              "    fill: var(--fill-color);\n",
              "    height: 32px;\n",
              "    padding: 0;\n",
              "    width: 32px;\n",
              "  }\n",
              "\n",
              "  .colab-df-quickchart:hover {\n",
              "    background-color: var(--hover-bg-color);\n",
              "    box-shadow: 0 1px 2px rgba(60, 64, 67, 0.3), 0 1px 3px 1px rgba(60, 64, 67, 0.15);\n",
              "    fill: var(--button-hover-fill-color);\n",
              "  }\n",
              "\n",
              "  .colab-df-quickchart-complete:disabled,\n",
              "  .colab-df-quickchart-complete:disabled:hover {\n",
              "    background-color: var(--disabled-bg-color);\n",
              "    fill: var(--disabled-fill-color);\n",
              "    box-shadow: none;\n",
              "  }\n",
              "\n",
              "  .colab-df-spinner {\n",
              "    border: 2px solid var(--fill-color);\n",
              "    border-color: transparent;\n",
              "    border-bottom-color: var(--fill-color);\n",
              "    animation:\n",
              "      spin 1s steps(1) infinite;\n",
              "  }\n",
              "\n",
              "  @keyframes spin {\n",
              "    0% {\n",
              "      border-color: transparent;\n",
              "      border-bottom-color: var(--fill-color);\n",
              "      border-left-color: var(--fill-color);\n",
              "    }\n",
              "    20% {\n",
              "      border-color: transparent;\n",
              "      border-left-color: var(--fill-color);\n",
              "      border-top-color: var(--fill-color);\n",
              "    }\n",
              "    30% {\n",
              "      border-color: transparent;\n",
              "      border-left-color: var(--fill-color);\n",
              "      border-top-color: var(--fill-color);\n",
              "      border-right-color: var(--fill-color);\n",
              "    }\n",
              "    40% {\n",
              "      border-color: transparent;\n",
              "      border-right-color: var(--fill-color);\n",
              "      border-top-color: var(--fill-color);\n",
              "    }\n",
              "    60% {\n",
              "      border-color: transparent;\n",
              "      border-right-color: var(--fill-color);\n",
              "    }\n",
              "    80% {\n",
              "      border-color: transparent;\n",
              "      border-right-color: var(--fill-color);\n",
              "      border-bottom-color: var(--fill-color);\n",
              "    }\n",
              "    90% {\n",
              "      border-color: transparent;\n",
              "      border-bottom-color: var(--fill-color);\n",
              "    }\n",
              "  }\n",
              "</style>\n",
              "\n",
              "  <script>\n",
              "    async function quickchart(key) {\n",
              "      const quickchartButtonEl =\n",
              "        document.querySelector('#' + key + ' button');\n",
              "      quickchartButtonEl.disabled = true;  // To prevent multiple clicks.\n",
              "      quickchartButtonEl.classList.add('colab-df-spinner');\n",
              "      try {\n",
              "        const charts = await google.colab.kernel.invokeFunction(\n",
              "            'suggestCharts', [key], {});\n",
              "      } catch (error) {\n",
              "        console.error('Error during call to suggestCharts:', error);\n",
              "      }\n",
              "      quickchartButtonEl.classList.remove('colab-df-spinner');\n",
              "      quickchartButtonEl.classList.add('colab-df-quickchart-complete');\n",
              "    }\n",
              "    (() => {\n",
              "      let quickchartButtonEl =\n",
              "        document.querySelector('#df-64d3f54a-d1bc-4325-8ade-65b49f180030 button');\n",
              "      quickchartButtonEl.style.display =\n",
              "        google.colab.kernel.accessAllowed ? 'block' : 'none';\n",
              "    })();\n",
              "  </script>\n",
              "</div>\n",
              "    </div>\n",
              "  </div>\n"
            ]
          },
          "metadata": {},
          "execution_count": 109
        }
      ],
      "source": [
        "df = df.drop(['country'], axis = 1)\n",
        "df"
      ]
    },
    {
      "cell_type": "markdown",
      "metadata": {
        "id": "yw6xs2IMemyW"
      },
      "source": [
        "Penggunaan Label Encoding dan One Hote Encoding\n",
        "\n",
        "**Label Encoding:**\n",
        "* Nilai categorical adalah nominal\n",
        "* Jumlah categorical tidak terlalu banyak\n",
        "\n",
        "**One Hot Encoding:**\n",
        "* Nilai categorical adalah ordinal\n",
        "* Jumlah categorical yang relatif banyak"
      ]
    },
    {
      "cell_type": "markdown",
      "metadata": {
        "id": "FoW_g287fiwO"
      },
      "source": [
        "## **Text Processing**"
      ]
    },
    {
      "cell_type": "markdown",
      "metadata": {
        "id": "vxKaYiJkfnl9"
      },
      "source": [
        "### **Bag of Words**\n",
        "\n",
        "menyederhanakan representasi text sebagai sekumpulan kata serta mengabaikan grammar dan posisi tiap kata pada kalimat, text akan dikonversi menjadi lowercase  dan tanda baca lain diabaikan"
      ]
    },
    {
      "cell_type": "code",
      "execution_count": 110,
      "metadata": {
        "colab": {
          "base_uri": "https://localhost:8080/"
        },
        "id": "8FVEQCM6dl05",
        "outputId": "128fd8ab-4ec8-424a-eb4e-302d997bc9cd"
      },
      "outputs": [
        {
          "output_type": "execute_result",
          "data": {
            "text/plain": [
              "['Linux has been around since the mid-1990s.',\n",
              " 'Linux distribution include the Linux Kernel',\n",
              " 'Linux is one of the most prominent open-source software']"
            ]
          },
          "metadata": {},
          "execution_count": 110
        }
      ],
      "source": [
        "corpus = [\n",
        "    'Linux has been around since the mid-1990s.',\n",
        "    'Linux distribution include the Linux Kernel',\n",
        "    'Linux is one of the most prominent open-source software'\n",
        "]\n",
        "\n",
        "corpus"
      ]
    },
    {
      "cell_type": "code",
      "execution_count": 111,
      "metadata": {
        "colab": {
          "base_uri": "https://localhost:8080/"
        },
        "id": "ArXpCW8SqF-x",
        "outputId": "6a65150d-8c98-4a96-82f5-88eb75f1658c"
      },
      "outputs": [
        {
          "output_type": "execute_result",
          "data": {
            "text/plain": [
              "matrix([[1, 1, 1, 0, 1, 0, 0, 0, 1, 1, 0, 0, 0, 0, 0, 1, 0, 0, 1],\n",
              "        [0, 0, 0, 1, 0, 1, 0, 1, 2, 0, 0, 0, 0, 0, 0, 0, 0, 0, 1],\n",
              "        [0, 0, 0, 0, 0, 0, 1, 0, 1, 0, 1, 1, 1, 1, 1, 0, 1, 1, 1]])"
            ]
          },
          "metadata": {},
          "execution_count": 111
        }
      ],
      "source": [
        "from sklearn.feature_extraction.text import CountVectorizer\n",
        "\n",
        "vectorizer = CountVectorizer()\n",
        "vectorizered_X = vectorizer.fit_transform(corpus).todense()\n",
        "vectorizered_X"
      ]
    },
    {
      "cell_type": "code",
      "execution_count": 112,
      "metadata": {
        "colab": {
          "base_uri": "https://localhost:8080/"
        },
        "id": "iELi3Zxtqw6a",
        "outputId": "14aec22f-1e44-4464-d905-39507dfc4ea2"
      },
      "outputs": [
        {
          "output_type": "execute_result",
          "data": {
            "text/plain": [
              "array(['1990s', 'around', 'been', 'distribution', 'has', 'include', 'is',\n",
              "       'kernel', 'linux', 'mid', 'most', 'of', 'one', 'open', 'prominent',\n",
              "       'since', 'software', 'source', 'the'], dtype=object)"
            ]
          },
          "metadata": {},
          "execution_count": 112
        }
      ],
      "source": [
        "vectorizer.get_feature_names_out()"
      ]
    },
    {
      "cell_type": "markdown",
      "metadata": {
        "id": "A5DMtm5cRxD0"
      },
      "source": [
        "output yang dihasilkan menjadi urutan sesuai dengan abjad dan diubah menjadi lowercase"
      ]
    },
    {
      "cell_type": "code",
      "execution_count": 113,
      "metadata": {
        "colab": {
          "base_uri": "https://localhost:8080/"
        },
        "id": "wsP9ChflTDhD",
        "outputId": "c36c1b96-ae80-496c-9158-4a2de11b2024"
      },
      "outputs": [
        {
          "output_type": "stream",
          "name": "stdout",
          "text": [
            "jarak dokumen 1 dan 2 : 3.1622776601683795\n",
            "jarak dokumen 1 dan 3 : 3.7416573867739413\n",
            "jarak dokumen 2 dan 3 : 3.4641016151377544\n"
          ]
        }
      ],
      "source": [
        "from sklearn.metrics.pairwise import euclidean_distances\n",
        "\n",
        "for i in range(len(vectorizered_X)):\n",
        "    for j in range(i, len(vectorizered_X)):\n",
        "        if i == j:\n",
        "            continue\n",
        "        vektor_i = np.asarray(vectorizered_X[i]).reshape(1, -1)\n",
        "        vektor_j = np.asarray(vectorizered_X[j]).reshape(1, -1)\n",
        "        jarak = euclidean_distances(vektor_i, vektor_j)\n",
        "        print(f'jarak dokumen {i+1} dan {j+1} : {jarak[0][0]}')"
      ]
    },
    {
      "cell_type": "markdown",
      "metadata": {
        "id": "dXwjzwDHG0c2"
      },
      "source": [
        "dengan output diatas dapat dilihat bahwa jarak dokumen 1 dan 2 lebih dekat daripada jarak dokumen lainnya, dengan kata lain bahwa 1 dan 2 memiliki kemiripan dibandingkan dokumen lain"
      ]
    },
    {
      "cell_type": "markdown",
      "metadata": {
        "id": "2HiEDNWhHG2E"
      },
      "source": [
        "### **Stop Word Filtering**\n",
        "\n",
        "menyederhakan representasi text dengan mengabaikan beberapa kata seperti determiners (the,a,an) dan auxlary verb (do, be,wil) dan prepositions (on, in, at)"
      ]
    },
    {
      "cell_type": "code",
      "execution_count": 114,
      "metadata": {
        "colab": {
          "base_uri": "https://localhost:8080/"
        },
        "id": "SYlU2ZOVH8jS",
        "outputId": "80bba04d-bffd-4890-b5df-e1650d5efaa8"
      },
      "outputs": [
        {
          "output_type": "execute_result",
          "data": {
            "text/plain": [
              "['Linux has been around since the mid-1990s.',\n",
              " 'Linux distribution include the Linux Kernel',\n",
              " 'Linux is one of the most prominent open-source software']"
            ]
          },
          "metadata": {},
          "execution_count": 114
        }
      ],
      "source": [
        "corpus"
      ]
    },
    {
      "cell_type": "code",
      "execution_count": 115,
      "metadata": {
        "colab": {
          "base_uri": "https://localhost:8080/"
        },
        "id": "VNfsspHTF-0h",
        "outputId": "3aa821f9-084b-43de-a381-383a87d2a415"
      },
      "outputs": [
        {
          "output_type": "execute_result",
          "data": {
            "text/plain": [
              "matrix([[1, 0, 0, 0, 1, 1, 0, 0, 0, 0],\n",
              "        [0, 1, 1, 1, 2, 0, 0, 0, 0, 0],\n",
              "        [0, 0, 0, 0, 1, 0, 1, 1, 1, 1]])"
            ]
          },
          "metadata": {},
          "execution_count": 115
        }
      ],
      "source": [
        "from sklearn.feature_extraction.text import CountVectorizer\n",
        "\n",
        "vectorizer = CountVectorizer(stop_words = 'english')\n",
        "vectorizered_X = vectorizer.fit_transform(corpus).todense()\n",
        "vectorizered_X"
      ]
    },
    {
      "cell_type": "code",
      "execution_count": 116,
      "metadata": {
        "colab": {
          "base_uri": "https://localhost:8080/"
        },
        "id": "4p0CJV-1IDIk",
        "outputId": "9bca60f1-7601-414c-94f6-6f8111019c3e"
      },
      "outputs": [
        {
          "output_type": "execute_result",
          "data": {
            "text/plain": [
              "array(['1990s', 'distribution', 'include', 'kernel', 'linux', 'mid',\n",
              "       'open', 'prominent', 'software', 'source'], dtype=object)"
            ]
          },
          "metadata": {},
          "execution_count": 116
        }
      ],
      "source": [
        "vectorizer.get_feature_names_out()"
      ]
    },
    {
      "cell_type": "markdown",
      "metadata": {
        "id": "sMMwX57RIoCk"
      },
      "source": [
        "## **TF-IDF (Term Frequency - Inverse Document Frequency)**\n",
        "\n",
        "merupakan salah satu metode statistik yang digunakan untuk mengukur seberapa penting suatu kata terhadap suatu dokumen tertentu dari sekupulan dokumen atau corpus"
      ]
    },
    {
      "cell_type": "code",
      "execution_count": 117,
      "metadata": {
        "colab": {
          "base_uri": "https://localhost:8080/"
        },
        "id": "avFvNdszISiG",
        "outputId": "571a21e5-a39c-4a3a-ab10-e208379ff2a1"
      },
      "outputs": [
        {
          "output_type": "execute_result",
          "data": {
            "text/plain": [
              "['the house had a tiny little mouse',\n",
              " 'the cat saw the mouse',\n",
              " 'the mouse ran away from the house',\n",
              " 'the cat finally ate the mouse',\n",
              " 'the end of the mouse story']"
            ]
          },
          "metadata": {},
          "execution_count": 117
        }
      ],
      "source": [
        "corpus = [\n",
        "    'the house had a tiny little mouse',\n",
        "    'the cat saw the mouse',\n",
        "    'the mouse ran away from the house',\n",
        "    'the cat finally ate the mouse',\n",
        "    'the end of the mouse story'\n",
        "]\n",
        "\n",
        "corpus"
      ]
    },
    {
      "cell_type": "code",
      "execution_count": 118,
      "metadata": {
        "colab": {
          "base_uri": "https://localhost:8080/"
        },
        "id": "c3hbv1dMJxGQ",
        "outputId": "30a4ebc9-1826-490d-ec51-e9eeed9f7bdb"
      },
      "outputs": [
        {
          "output_type": "stream",
          "name": "stdout",
          "text": [
            "  (0, 7)\t0.2808823162882302\n",
            "  (0, 6)\t0.5894630806320427\n",
            "  (0, 11)\t0.5894630806320427\n",
            "  (0, 5)\t0.47557510189256375\n",
            "  (1, 9)\t0.7297183669435993\n",
            "  (1, 2)\t0.5887321837696324\n",
            "  (1, 7)\t0.3477147117091919\n",
            "  (2, 1)\t0.5894630806320427\n",
            "  (2, 8)\t0.5894630806320427\n",
            "  (2, 7)\t0.2808823162882302\n",
            "  (2, 5)\t0.47557510189256375\n",
            "  (3, 0)\t0.5894630806320427\n",
            "  (3, 4)\t0.5894630806320427\n",
            "  (3, 2)\t0.47557510189256375\n",
            "  (3, 7)\t0.2808823162882302\n",
            "  (4, 10)\t0.6700917930430479\n",
            "  (4, 3)\t0.6700917930430479\n",
            "  (4, 7)\t0.3193023297639811\n"
          ]
        }
      ],
      "source": [
        "from sklearn.feature_extraction.text import TfidfVectorizer\n",
        "\n",
        "vectorizer = TfidfVectorizer(stop_words = 'english')\n",
        "response = vectorizer.fit_transform(corpus)\n",
        "print(response)"
      ]
    },
    {
      "cell_type": "code",
      "execution_count": 119,
      "metadata": {
        "colab": {
          "base_uri": "https://localhost:8080/"
        },
        "id": "vzOEzc6zNU56",
        "outputId": "187237c7-1e56-4cec-eb43-7645727f1c43"
      },
      "outputs": [
        {
          "output_type": "execute_result",
          "data": {
            "text/plain": [
              "array(['ate', 'away', 'cat', 'end', 'finally', 'house', 'little', 'mouse',\n",
              "       'ran', 'saw', 'story', 'tiny'], dtype=object)"
            ]
          },
          "metadata": {},
          "execution_count": 119
        }
      ],
      "source": [
        "vectorizer.get_feature_names_out()"
      ]
    },
    {
      "cell_type": "code",
      "execution_count": 120,
      "metadata": {
        "colab": {
          "base_uri": "https://localhost:8080/"
        },
        "id": "V869GWnpNjp7",
        "outputId": "bdf58ba4-af6b-4c08-ddef-9db3d443e22d"
      },
      "outputs": [
        {
          "output_type": "execute_result",
          "data": {
            "text/plain": [
              "matrix([[0.        , 0.        , 0.        , 0.        , 0.        ,\n",
              "         0.4755751 , 0.58946308, 0.28088232, 0.        , 0.        ,\n",
              "         0.        , 0.58946308],\n",
              "        [0.        , 0.        , 0.58873218, 0.        , 0.        ,\n",
              "         0.        , 0.        , 0.34771471, 0.        , 0.72971837,\n",
              "         0.        , 0.        ],\n",
              "        [0.        , 0.58946308, 0.        , 0.        , 0.        ,\n",
              "         0.4755751 , 0.        , 0.28088232, 0.58946308, 0.        ,\n",
              "         0.        , 0.        ],\n",
              "        [0.58946308, 0.        , 0.4755751 , 0.        , 0.58946308,\n",
              "         0.        , 0.        , 0.28088232, 0.        , 0.        ,\n",
              "         0.        , 0.        ],\n",
              "        [0.        , 0.        , 0.        , 0.67009179, 0.        ,\n",
              "         0.        , 0.        , 0.31930233, 0.        , 0.        ,\n",
              "         0.67009179, 0.        ]])"
            ]
          },
          "metadata": {},
          "execution_count": 120
        }
      ],
      "source": [
        "response.todense()"
      ]
    },
    {
      "cell_type": "code",
      "execution_count": 121,
      "metadata": {
        "colab": {
          "base_uri": "https://localhost:8080/",
          "height": 425
        },
        "id": "5MhbD-2TODHw",
        "outputId": "430fec85-4614-4b44-8026-37ef4284fcc7"
      },
      "outputs": [
        {
          "output_type": "execute_result",
          "data": {
            "text/plain": [
              "               D1        D2        D3        D4        D5\n",
              "ate      0.000000  0.000000  0.000000  0.589463  0.000000\n",
              "away     0.000000  0.000000  0.589463  0.000000  0.000000\n",
              "cat      0.000000  0.588732  0.000000  0.475575  0.000000\n",
              "end      0.000000  0.000000  0.000000  0.000000  0.670092\n",
              "finally  0.000000  0.000000  0.000000  0.589463  0.000000\n",
              "house    0.475575  0.000000  0.475575  0.000000  0.000000\n",
              "little   0.589463  0.000000  0.000000  0.000000  0.000000\n",
              "mouse    0.280882  0.347715  0.280882  0.280882  0.319302\n",
              "ran      0.000000  0.000000  0.589463  0.000000  0.000000\n",
              "saw      0.000000  0.729718  0.000000  0.000000  0.000000\n",
              "story    0.000000  0.000000  0.000000  0.000000  0.670092\n",
              "tiny     0.589463  0.000000  0.000000  0.000000  0.000000"
            ],
            "text/html": [
              "\n",
              "  <div id=\"df-5c52238a-c096-4b98-b33d-3febda56e7c7\" class=\"colab-df-container\">\n",
              "    <div>\n",
              "<style scoped>\n",
              "    .dataframe tbody tr th:only-of-type {\n",
              "        vertical-align: middle;\n",
              "    }\n",
              "\n",
              "    .dataframe tbody tr th {\n",
              "        vertical-align: top;\n",
              "    }\n",
              "\n",
              "    .dataframe thead th {\n",
              "        text-align: right;\n",
              "    }\n",
              "</style>\n",
              "<table border=\"1\" class=\"dataframe\">\n",
              "  <thead>\n",
              "    <tr style=\"text-align: right;\">\n",
              "      <th></th>\n",
              "      <th>D1</th>\n",
              "      <th>D2</th>\n",
              "      <th>D3</th>\n",
              "      <th>D4</th>\n",
              "      <th>D5</th>\n",
              "    </tr>\n",
              "  </thead>\n",
              "  <tbody>\n",
              "    <tr>\n",
              "      <th>ate</th>\n",
              "      <td>0.000000</td>\n",
              "      <td>0.000000</td>\n",
              "      <td>0.000000</td>\n",
              "      <td>0.589463</td>\n",
              "      <td>0.000000</td>\n",
              "    </tr>\n",
              "    <tr>\n",
              "      <th>away</th>\n",
              "      <td>0.000000</td>\n",
              "      <td>0.000000</td>\n",
              "      <td>0.589463</td>\n",
              "      <td>0.000000</td>\n",
              "      <td>0.000000</td>\n",
              "    </tr>\n",
              "    <tr>\n",
              "      <th>cat</th>\n",
              "      <td>0.000000</td>\n",
              "      <td>0.588732</td>\n",
              "      <td>0.000000</td>\n",
              "      <td>0.475575</td>\n",
              "      <td>0.000000</td>\n",
              "    </tr>\n",
              "    <tr>\n",
              "      <th>end</th>\n",
              "      <td>0.000000</td>\n",
              "      <td>0.000000</td>\n",
              "      <td>0.000000</td>\n",
              "      <td>0.000000</td>\n",
              "      <td>0.670092</td>\n",
              "    </tr>\n",
              "    <tr>\n",
              "      <th>finally</th>\n",
              "      <td>0.000000</td>\n",
              "      <td>0.000000</td>\n",
              "      <td>0.000000</td>\n",
              "      <td>0.589463</td>\n",
              "      <td>0.000000</td>\n",
              "    </tr>\n",
              "    <tr>\n",
              "      <th>house</th>\n",
              "      <td>0.475575</td>\n",
              "      <td>0.000000</td>\n",
              "      <td>0.475575</td>\n",
              "      <td>0.000000</td>\n",
              "      <td>0.000000</td>\n",
              "    </tr>\n",
              "    <tr>\n",
              "      <th>little</th>\n",
              "      <td>0.589463</td>\n",
              "      <td>0.000000</td>\n",
              "      <td>0.000000</td>\n",
              "      <td>0.000000</td>\n",
              "      <td>0.000000</td>\n",
              "    </tr>\n",
              "    <tr>\n",
              "      <th>mouse</th>\n",
              "      <td>0.280882</td>\n",
              "      <td>0.347715</td>\n",
              "      <td>0.280882</td>\n",
              "      <td>0.280882</td>\n",
              "      <td>0.319302</td>\n",
              "    </tr>\n",
              "    <tr>\n",
              "      <th>ran</th>\n",
              "      <td>0.000000</td>\n",
              "      <td>0.000000</td>\n",
              "      <td>0.589463</td>\n",
              "      <td>0.000000</td>\n",
              "      <td>0.000000</td>\n",
              "    </tr>\n",
              "    <tr>\n",
              "      <th>saw</th>\n",
              "      <td>0.000000</td>\n",
              "      <td>0.729718</td>\n",
              "      <td>0.000000</td>\n",
              "      <td>0.000000</td>\n",
              "      <td>0.000000</td>\n",
              "    </tr>\n",
              "    <tr>\n",
              "      <th>story</th>\n",
              "      <td>0.000000</td>\n",
              "      <td>0.000000</td>\n",
              "      <td>0.000000</td>\n",
              "      <td>0.000000</td>\n",
              "      <td>0.670092</td>\n",
              "    </tr>\n",
              "    <tr>\n",
              "      <th>tiny</th>\n",
              "      <td>0.589463</td>\n",
              "      <td>0.000000</td>\n",
              "      <td>0.000000</td>\n",
              "      <td>0.000000</td>\n",
              "      <td>0.000000</td>\n",
              "    </tr>\n",
              "  </tbody>\n",
              "</table>\n",
              "</div>\n",
              "    <div class=\"colab-df-buttons\">\n",
              "\n",
              "  <div class=\"colab-df-container\">\n",
              "    <button class=\"colab-df-convert\" onclick=\"convertToInteractive('df-5c52238a-c096-4b98-b33d-3febda56e7c7')\"\n",
              "            title=\"Convert this dataframe to an interactive table.\"\n",
              "            style=\"display:none;\">\n",
              "\n",
              "  <svg xmlns=\"http://www.w3.org/2000/svg\" height=\"24px\" viewBox=\"0 -960 960 960\">\n",
              "    <path d=\"M120-120v-720h720v720H120Zm60-500h600v-160H180v160Zm220 220h160v-160H400v160Zm0 220h160v-160H400v160ZM180-400h160v-160H180v160Zm440 0h160v-160H620v160ZM180-180h160v-160H180v160Zm440 0h160v-160H620v160Z\"/>\n",
              "  </svg>\n",
              "    </button>\n",
              "\n",
              "  <style>\n",
              "    .colab-df-container {\n",
              "      display:flex;\n",
              "      gap: 12px;\n",
              "    }\n",
              "\n",
              "    .colab-df-convert {\n",
              "      background-color: #E8F0FE;\n",
              "      border: none;\n",
              "      border-radius: 50%;\n",
              "      cursor: pointer;\n",
              "      display: none;\n",
              "      fill: #1967D2;\n",
              "      height: 32px;\n",
              "      padding: 0 0 0 0;\n",
              "      width: 32px;\n",
              "    }\n",
              "\n",
              "    .colab-df-convert:hover {\n",
              "      background-color: #E2EBFA;\n",
              "      box-shadow: 0px 1px 2px rgba(60, 64, 67, 0.3), 0px 1px 3px 1px rgba(60, 64, 67, 0.15);\n",
              "      fill: #174EA6;\n",
              "    }\n",
              "\n",
              "    .colab-df-buttons div {\n",
              "      margin-bottom: 4px;\n",
              "    }\n",
              "\n",
              "    [theme=dark] .colab-df-convert {\n",
              "      background-color: #3B4455;\n",
              "      fill: #D2E3FC;\n",
              "    }\n",
              "\n",
              "    [theme=dark] .colab-df-convert:hover {\n",
              "      background-color: #434B5C;\n",
              "      box-shadow: 0px 1px 3px 1px rgba(0, 0, 0, 0.15);\n",
              "      filter: drop-shadow(0px 1px 2px rgba(0, 0, 0, 0.3));\n",
              "      fill: #FFFFFF;\n",
              "    }\n",
              "  </style>\n",
              "\n",
              "    <script>\n",
              "      const buttonEl =\n",
              "        document.querySelector('#df-5c52238a-c096-4b98-b33d-3febda56e7c7 button.colab-df-convert');\n",
              "      buttonEl.style.display =\n",
              "        google.colab.kernel.accessAllowed ? 'block' : 'none';\n",
              "\n",
              "      async function convertToInteractive(key) {\n",
              "        const element = document.querySelector('#df-5c52238a-c096-4b98-b33d-3febda56e7c7');\n",
              "        const dataTable =\n",
              "          await google.colab.kernel.invokeFunction('convertToInteractive',\n",
              "                                                    [key], {});\n",
              "        if (!dataTable) return;\n",
              "\n",
              "        const docLinkHtml = 'Like what you see? Visit the ' +\n",
              "          '<a target=\"_blank\" href=https://colab.research.google.com/notebooks/data_table.ipynb>data table notebook</a>'\n",
              "          + ' to learn more about interactive tables.';\n",
              "        element.innerHTML = '';\n",
              "        dataTable['output_type'] = 'display_data';\n",
              "        await google.colab.output.renderOutput(dataTable, element);\n",
              "        const docLink = document.createElement('div');\n",
              "        docLink.innerHTML = docLinkHtml;\n",
              "        element.appendChild(docLink);\n",
              "      }\n",
              "    </script>\n",
              "  </div>\n",
              "\n",
              "\n",
              "<div id=\"df-e14e4b8b-f30a-4f83-bf5b-799e6e9dab1c\">\n",
              "  <button class=\"colab-df-quickchart\" onclick=\"quickchart('df-e14e4b8b-f30a-4f83-bf5b-799e6e9dab1c')\"\n",
              "            title=\"Suggest charts.\"\n",
              "            style=\"display:none;\">\n",
              "\n",
              "<svg xmlns=\"http://www.w3.org/2000/svg\" height=\"24px\"viewBox=\"0 0 24 24\"\n",
              "     width=\"24px\">\n",
              "    <g>\n",
              "        <path d=\"M19 3H5c-1.1 0-2 .9-2 2v14c0 1.1.9 2 2 2h14c1.1 0 2-.9 2-2V5c0-1.1-.9-2-2-2zM9 17H7v-7h2v7zm4 0h-2V7h2v10zm4 0h-2v-4h2v4z\"/>\n",
              "    </g>\n",
              "</svg>\n",
              "  </button>\n",
              "\n",
              "<style>\n",
              "  .colab-df-quickchart {\n",
              "      --bg-color: #E8F0FE;\n",
              "      --fill-color: #1967D2;\n",
              "      --hover-bg-color: #E2EBFA;\n",
              "      --hover-fill-color: #174EA6;\n",
              "      --disabled-fill-color: #AAA;\n",
              "      --disabled-bg-color: #DDD;\n",
              "  }\n",
              "\n",
              "  [theme=dark] .colab-df-quickchart {\n",
              "      --bg-color: #3B4455;\n",
              "      --fill-color: #D2E3FC;\n",
              "      --hover-bg-color: #434B5C;\n",
              "      --hover-fill-color: #FFFFFF;\n",
              "      --disabled-bg-color: #3B4455;\n",
              "      --disabled-fill-color: #666;\n",
              "  }\n",
              "\n",
              "  .colab-df-quickchart {\n",
              "    background-color: var(--bg-color);\n",
              "    border: none;\n",
              "    border-radius: 50%;\n",
              "    cursor: pointer;\n",
              "    display: none;\n",
              "    fill: var(--fill-color);\n",
              "    height: 32px;\n",
              "    padding: 0;\n",
              "    width: 32px;\n",
              "  }\n",
              "\n",
              "  .colab-df-quickchart:hover {\n",
              "    background-color: var(--hover-bg-color);\n",
              "    box-shadow: 0 1px 2px rgba(60, 64, 67, 0.3), 0 1px 3px 1px rgba(60, 64, 67, 0.15);\n",
              "    fill: var(--button-hover-fill-color);\n",
              "  }\n",
              "\n",
              "  .colab-df-quickchart-complete:disabled,\n",
              "  .colab-df-quickchart-complete:disabled:hover {\n",
              "    background-color: var(--disabled-bg-color);\n",
              "    fill: var(--disabled-fill-color);\n",
              "    box-shadow: none;\n",
              "  }\n",
              "\n",
              "  .colab-df-spinner {\n",
              "    border: 2px solid var(--fill-color);\n",
              "    border-color: transparent;\n",
              "    border-bottom-color: var(--fill-color);\n",
              "    animation:\n",
              "      spin 1s steps(1) infinite;\n",
              "  }\n",
              "\n",
              "  @keyframes spin {\n",
              "    0% {\n",
              "      border-color: transparent;\n",
              "      border-bottom-color: var(--fill-color);\n",
              "      border-left-color: var(--fill-color);\n",
              "    }\n",
              "    20% {\n",
              "      border-color: transparent;\n",
              "      border-left-color: var(--fill-color);\n",
              "      border-top-color: var(--fill-color);\n",
              "    }\n",
              "    30% {\n",
              "      border-color: transparent;\n",
              "      border-left-color: var(--fill-color);\n",
              "      border-top-color: var(--fill-color);\n",
              "      border-right-color: var(--fill-color);\n",
              "    }\n",
              "    40% {\n",
              "      border-color: transparent;\n",
              "      border-right-color: var(--fill-color);\n",
              "      border-top-color: var(--fill-color);\n",
              "    }\n",
              "    60% {\n",
              "      border-color: transparent;\n",
              "      border-right-color: var(--fill-color);\n",
              "    }\n",
              "    80% {\n",
              "      border-color: transparent;\n",
              "      border-right-color: var(--fill-color);\n",
              "      border-bottom-color: var(--fill-color);\n",
              "    }\n",
              "    90% {\n",
              "      border-color: transparent;\n",
              "      border-bottom-color: var(--fill-color);\n",
              "    }\n",
              "  }\n",
              "</style>\n",
              "\n",
              "  <script>\n",
              "    async function quickchart(key) {\n",
              "      const quickchartButtonEl =\n",
              "        document.querySelector('#' + key + ' button');\n",
              "      quickchartButtonEl.disabled = true;  // To prevent multiple clicks.\n",
              "      quickchartButtonEl.classList.add('colab-df-spinner');\n",
              "      try {\n",
              "        const charts = await google.colab.kernel.invokeFunction(\n",
              "            'suggestCharts', [key], {});\n",
              "      } catch (error) {\n",
              "        console.error('Error during call to suggestCharts:', error);\n",
              "      }\n",
              "      quickchartButtonEl.classList.remove('colab-df-spinner');\n",
              "      quickchartButtonEl.classList.add('colab-df-quickchart-complete');\n",
              "    }\n",
              "    (() => {\n",
              "      let quickchartButtonEl =\n",
              "        document.querySelector('#df-e14e4b8b-f30a-4f83-bf5b-799e6e9dab1c button');\n",
              "      quickchartButtonEl.style.display =\n",
              "        google.colab.kernel.accessAllowed ? 'block' : 'none';\n",
              "    })();\n",
              "  </script>\n",
              "</div>\n",
              "    </div>\n",
              "  </div>\n"
            ]
          },
          "metadata": {},
          "execution_count": 121
        }
      ],
      "source": [
        "import pandas as pd\n",
        "df = pd.DataFrame(response.todense().T,\n",
        "                  index = vectorizer.get_feature_names_out(),\n",
        "                  columns = [f'D{i+1}' for i in range(len(corpus))])\n",
        "\n",
        "df"
      ]
    },
    {
      "cell_type": "markdown",
      "metadata": {
        "id": "mc_V6MGSPjwt"
      },
      "source": [
        "tabel diatas mengindikasikan setiap bobot pada suatu dokumen atau kalimat dalam copus dengan skala L2 0 - 1.0 , apabila bobot dari kata semakin mendekati 1 dalam dokumen maka kata tersebut dapat digunakan sebagai keywords dalam dokumen"
      ]
    },
    {
      "cell_type": "markdown",
      "metadata": {
        "id": "UeFd7PP0mOk8"
      },
      "source": [
        "## **Logistic Regression for Binary Classification Task**\n",
        "\n",
        "Logistic Regression formula\n",
        "\n",
        "g(X) = sigmoid(a+bX)\n",
        "\n",
        "sigmoid(X) = 1 / 1 + exp(-x)"
      ]
    },
    {
      "cell_type": "code",
      "execution_count": 122,
      "metadata": {
        "colab": {
          "base_uri": "https://localhost:8080/"
        },
        "id": "txr3PNdjrD6j",
        "outputId": "d5ebb4c9-807b-462b-f983-f727b25e851e"
      },
      "outputs": [
        {
          "output_type": "stream",
          "name": "stdout",
          "text": [
            "Mounted at /content/drive\n"
          ]
        }
      ],
      "source": [
        "from google.colab import drive\n",
        "drive.mount('/content/drive')"
      ]
    },
    {
      "cell_type": "code",
      "execution_count": 123,
      "metadata": {
        "colab": {
          "base_uri": "https://localhost:8080/"
        },
        "id": "Vaq6v0srrHw6",
        "outputId": "f02089e1-9327-4e83-9d80-ab20697ec7c0"
      },
      "outputs": [
        {
          "output_type": "stream",
          "name": "stdout",
          "text": [
            "  label                                                sms\n",
            "0   ham  Go until jurong point, crazy.. Available only ...\n",
            "1   ham                      Ok lar... Joking wif u oni...\n",
            "2  spam  Free entry in 2 a wkly comp to win FA Cup fina...\n",
            "3   ham  U dun say so early hor... U c already then say...\n",
            "4   ham  Nah I don't think he goes to usf, he lives aro...\n"
          ]
        }
      ],
      "source": [
        "import pandas as pd\n",
        "\n",
        "# Path to the CSV file in your Google Drive\n",
        "file_path = \"/content/drive/My Drive/belakar/SMSSpamCollection.csv\"\n",
        "\n",
        "# Read the CSV file\n",
        "df = pd.read_csv(file_path, sep = ';')\n",
        "\n",
        "# Display the first few rows of the DataFrame\n",
        "print(df.head())"
      ]
    },
    {
      "cell_type": "code",
      "execution_count": 124,
      "metadata": {
        "colab": {
          "base_uri": "https://localhost:8080/",
          "height": 206
        },
        "id": "KO7zqO7nsWAT",
        "outputId": "2b9fabcb-e700-48ff-b23c-7842fa6da068"
      },
      "outputs": [
        {
          "output_type": "execute_result",
          "data": {
            "text/plain": [
              "  label                                                sms\n",
              "0   ham  Go until jurong point, crazy.. Available only ...\n",
              "1   ham                      Ok lar... Joking wif u oni...\n",
              "2  spam  Free entry in 2 a wkly comp to win FA Cup fina...\n",
              "3   ham  U dun say so early hor... U c already then say...\n",
              "4   ham  Nah I don't think he goes to usf, he lives aro..."
            ],
            "text/html": [
              "\n",
              "  <div id=\"df-8b09eb96-16ff-4812-8011-a020ceb07873\" class=\"colab-df-container\">\n",
              "    <div>\n",
              "<style scoped>\n",
              "    .dataframe tbody tr th:only-of-type {\n",
              "        vertical-align: middle;\n",
              "    }\n",
              "\n",
              "    .dataframe tbody tr th {\n",
              "        vertical-align: top;\n",
              "    }\n",
              "\n",
              "    .dataframe thead th {\n",
              "        text-align: right;\n",
              "    }\n",
              "</style>\n",
              "<table border=\"1\" class=\"dataframe\">\n",
              "  <thead>\n",
              "    <tr style=\"text-align: right;\">\n",
              "      <th></th>\n",
              "      <th>label</th>\n",
              "      <th>sms</th>\n",
              "    </tr>\n",
              "  </thead>\n",
              "  <tbody>\n",
              "    <tr>\n",
              "      <th>0</th>\n",
              "      <td>ham</td>\n",
              "      <td>Go until jurong point, crazy.. Available only ...</td>\n",
              "    </tr>\n",
              "    <tr>\n",
              "      <th>1</th>\n",
              "      <td>ham</td>\n",
              "      <td>Ok lar... Joking wif u oni...</td>\n",
              "    </tr>\n",
              "    <tr>\n",
              "      <th>2</th>\n",
              "      <td>spam</td>\n",
              "      <td>Free entry in 2 a wkly comp to win FA Cup fina...</td>\n",
              "    </tr>\n",
              "    <tr>\n",
              "      <th>3</th>\n",
              "      <td>ham</td>\n",
              "      <td>U dun say so early hor... U c already then say...</td>\n",
              "    </tr>\n",
              "    <tr>\n",
              "      <th>4</th>\n",
              "      <td>ham</td>\n",
              "      <td>Nah I don't think he goes to usf, he lives aro...</td>\n",
              "    </tr>\n",
              "  </tbody>\n",
              "</table>\n",
              "</div>\n",
              "    <div class=\"colab-df-buttons\">\n",
              "\n",
              "  <div class=\"colab-df-container\">\n",
              "    <button class=\"colab-df-convert\" onclick=\"convertToInteractive('df-8b09eb96-16ff-4812-8011-a020ceb07873')\"\n",
              "            title=\"Convert this dataframe to an interactive table.\"\n",
              "            style=\"display:none;\">\n",
              "\n",
              "  <svg xmlns=\"http://www.w3.org/2000/svg\" height=\"24px\" viewBox=\"0 -960 960 960\">\n",
              "    <path d=\"M120-120v-720h720v720H120Zm60-500h600v-160H180v160Zm220 220h160v-160H400v160Zm0 220h160v-160H400v160ZM180-400h160v-160H180v160Zm440 0h160v-160H620v160ZM180-180h160v-160H180v160Zm440 0h160v-160H620v160Z\"/>\n",
              "  </svg>\n",
              "    </button>\n",
              "\n",
              "  <style>\n",
              "    .colab-df-container {\n",
              "      display:flex;\n",
              "      gap: 12px;\n",
              "    }\n",
              "\n",
              "    .colab-df-convert {\n",
              "      background-color: #E8F0FE;\n",
              "      border: none;\n",
              "      border-radius: 50%;\n",
              "      cursor: pointer;\n",
              "      display: none;\n",
              "      fill: #1967D2;\n",
              "      height: 32px;\n",
              "      padding: 0 0 0 0;\n",
              "      width: 32px;\n",
              "    }\n",
              "\n",
              "    .colab-df-convert:hover {\n",
              "      background-color: #E2EBFA;\n",
              "      box-shadow: 0px 1px 2px rgba(60, 64, 67, 0.3), 0px 1px 3px 1px rgba(60, 64, 67, 0.15);\n",
              "      fill: #174EA6;\n",
              "    }\n",
              "\n",
              "    .colab-df-buttons div {\n",
              "      margin-bottom: 4px;\n",
              "    }\n",
              "\n",
              "    [theme=dark] .colab-df-convert {\n",
              "      background-color: #3B4455;\n",
              "      fill: #D2E3FC;\n",
              "    }\n",
              "\n",
              "    [theme=dark] .colab-df-convert:hover {\n",
              "      background-color: #434B5C;\n",
              "      box-shadow: 0px 1px 3px 1px rgba(0, 0, 0, 0.15);\n",
              "      filter: drop-shadow(0px 1px 2px rgba(0, 0, 0, 0.3));\n",
              "      fill: #FFFFFF;\n",
              "    }\n",
              "  </style>\n",
              "\n",
              "    <script>\n",
              "      const buttonEl =\n",
              "        document.querySelector('#df-8b09eb96-16ff-4812-8011-a020ceb07873 button.colab-df-convert');\n",
              "      buttonEl.style.display =\n",
              "        google.colab.kernel.accessAllowed ? 'block' : 'none';\n",
              "\n",
              "      async function convertToInteractive(key) {\n",
              "        const element = document.querySelector('#df-8b09eb96-16ff-4812-8011-a020ceb07873');\n",
              "        const dataTable =\n",
              "          await google.colab.kernel.invokeFunction('convertToInteractive',\n",
              "                                                    [key], {});\n",
              "        if (!dataTable) return;\n",
              "\n",
              "        const docLinkHtml = 'Like what you see? Visit the ' +\n",
              "          '<a target=\"_blank\" href=https://colab.research.google.com/notebooks/data_table.ipynb>data table notebook</a>'\n",
              "          + ' to learn more about interactive tables.';\n",
              "        element.innerHTML = '';\n",
              "        dataTable['output_type'] = 'display_data';\n",
              "        await google.colab.output.renderOutput(dataTable, element);\n",
              "        const docLink = document.createElement('div');\n",
              "        docLink.innerHTML = docLinkHtml;\n",
              "        element.appendChild(docLink);\n",
              "      }\n",
              "    </script>\n",
              "  </div>\n",
              "\n",
              "\n",
              "<div id=\"df-b4c08c34-6470-4fde-95d5-762f1d3221e6\">\n",
              "  <button class=\"colab-df-quickchart\" onclick=\"quickchart('df-b4c08c34-6470-4fde-95d5-762f1d3221e6')\"\n",
              "            title=\"Suggest charts.\"\n",
              "            style=\"display:none;\">\n",
              "\n",
              "<svg xmlns=\"http://www.w3.org/2000/svg\" height=\"24px\"viewBox=\"0 0 24 24\"\n",
              "     width=\"24px\">\n",
              "    <g>\n",
              "        <path d=\"M19 3H5c-1.1 0-2 .9-2 2v14c0 1.1.9 2 2 2h14c1.1 0 2-.9 2-2V5c0-1.1-.9-2-2-2zM9 17H7v-7h2v7zm4 0h-2V7h2v10zm4 0h-2v-4h2v4z\"/>\n",
              "    </g>\n",
              "</svg>\n",
              "  </button>\n",
              "\n",
              "<style>\n",
              "  .colab-df-quickchart {\n",
              "      --bg-color: #E8F0FE;\n",
              "      --fill-color: #1967D2;\n",
              "      --hover-bg-color: #E2EBFA;\n",
              "      --hover-fill-color: #174EA6;\n",
              "      --disabled-fill-color: #AAA;\n",
              "      --disabled-bg-color: #DDD;\n",
              "  }\n",
              "\n",
              "  [theme=dark] .colab-df-quickchart {\n",
              "      --bg-color: #3B4455;\n",
              "      --fill-color: #D2E3FC;\n",
              "      --hover-bg-color: #434B5C;\n",
              "      --hover-fill-color: #FFFFFF;\n",
              "      --disabled-bg-color: #3B4455;\n",
              "      --disabled-fill-color: #666;\n",
              "  }\n",
              "\n",
              "  .colab-df-quickchart {\n",
              "    background-color: var(--bg-color);\n",
              "    border: none;\n",
              "    border-radius: 50%;\n",
              "    cursor: pointer;\n",
              "    display: none;\n",
              "    fill: var(--fill-color);\n",
              "    height: 32px;\n",
              "    padding: 0;\n",
              "    width: 32px;\n",
              "  }\n",
              "\n",
              "  .colab-df-quickchart:hover {\n",
              "    background-color: var(--hover-bg-color);\n",
              "    box-shadow: 0 1px 2px rgba(60, 64, 67, 0.3), 0 1px 3px 1px rgba(60, 64, 67, 0.15);\n",
              "    fill: var(--button-hover-fill-color);\n",
              "  }\n",
              "\n",
              "  .colab-df-quickchart-complete:disabled,\n",
              "  .colab-df-quickchart-complete:disabled:hover {\n",
              "    background-color: var(--disabled-bg-color);\n",
              "    fill: var(--disabled-fill-color);\n",
              "    box-shadow: none;\n",
              "  }\n",
              "\n",
              "  .colab-df-spinner {\n",
              "    border: 2px solid var(--fill-color);\n",
              "    border-color: transparent;\n",
              "    border-bottom-color: var(--fill-color);\n",
              "    animation:\n",
              "      spin 1s steps(1) infinite;\n",
              "  }\n",
              "\n",
              "  @keyframes spin {\n",
              "    0% {\n",
              "      border-color: transparent;\n",
              "      border-bottom-color: var(--fill-color);\n",
              "      border-left-color: var(--fill-color);\n",
              "    }\n",
              "    20% {\n",
              "      border-color: transparent;\n",
              "      border-left-color: var(--fill-color);\n",
              "      border-top-color: var(--fill-color);\n",
              "    }\n",
              "    30% {\n",
              "      border-color: transparent;\n",
              "      border-left-color: var(--fill-color);\n",
              "      border-top-color: var(--fill-color);\n",
              "      border-right-color: var(--fill-color);\n",
              "    }\n",
              "    40% {\n",
              "      border-color: transparent;\n",
              "      border-right-color: var(--fill-color);\n",
              "      border-top-color: var(--fill-color);\n",
              "    }\n",
              "    60% {\n",
              "      border-color: transparent;\n",
              "      border-right-color: var(--fill-color);\n",
              "    }\n",
              "    80% {\n",
              "      border-color: transparent;\n",
              "      border-right-color: var(--fill-color);\n",
              "      border-bottom-color: var(--fill-color);\n",
              "    }\n",
              "    90% {\n",
              "      border-color: transparent;\n",
              "      border-bottom-color: var(--fill-color);\n",
              "    }\n",
              "  }\n",
              "</style>\n",
              "\n",
              "  <script>\n",
              "    async function quickchart(key) {\n",
              "      const quickchartButtonEl =\n",
              "        document.querySelector('#' + key + ' button');\n",
              "      quickchartButtonEl.disabled = true;  // To prevent multiple clicks.\n",
              "      quickchartButtonEl.classList.add('colab-df-spinner');\n",
              "      try {\n",
              "        const charts = await google.colab.kernel.invokeFunction(\n",
              "            'suggestCharts', [key], {});\n",
              "      } catch (error) {\n",
              "        console.error('Error during call to suggestCharts:', error);\n",
              "      }\n",
              "      quickchartButtonEl.classList.remove('colab-df-spinner');\n",
              "      quickchartButtonEl.classList.add('colab-df-quickchart-complete');\n",
              "    }\n",
              "    (() => {\n",
              "      let quickchartButtonEl =\n",
              "        document.querySelector('#df-b4c08c34-6470-4fde-95d5-762f1d3221e6 button');\n",
              "      quickchartButtonEl.style.display =\n",
              "        google.colab.kernel.accessAllowed ? 'block' : 'none';\n",
              "    })();\n",
              "  </script>\n",
              "</div>\n",
              "    </div>\n",
              "  </div>\n"
            ]
          },
          "metadata": {},
          "execution_count": 124
        }
      ],
      "source": [
        "df.head()"
      ]
    },
    {
      "cell_type": "code",
      "execution_count": 125,
      "metadata": {
        "colab": {
          "base_uri": "https://localhost:8080/"
        },
        "id": "dDMpMV38gWVF",
        "outputId": "55d32644-ecd2-4bda-b9b8-07e8562ee8cc"
      },
      "outputs": [
        {
          "output_type": "execute_result",
          "data": {
            "text/plain": [
              "ham     4827\n",
              "spam     747\n",
              "Name: label, dtype: int64"
            ]
          },
          "metadata": {},
          "execution_count": 125
        }
      ],
      "source": [
        "df['label'].value_counts()"
      ]
    },
    {
      "cell_type": "code",
      "execution_count": 126,
      "metadata": {
        "colab": {
          "base_uri": "https://localhost:8080/"
        },
        "id": "EIA6kkVcdwYL",
        "outputId": "abb25eaa-217f-4ceb-fb25-39fc5d97b4c1"
      },
      "outputs": [
        {
          "output_type": "execute_result",
          "data": {
            "text/plain": [
              "array(['ham', 'spam'], dtype='<U4')"
            ]
          },
          "metadata": {},
          "execution_count": 126
        }
      ],
      "source": [
        "from sklearn.preprocessing import LabelBinarizer\n",
        "\n",
        "X = df['sms'].values\n",
        "y = df['label'].values\n",
        "\n",
        "lb = LabelBinarizer()\n",
        "y = lb.fit_transform(y).ravel()\n",
        "\n",
        "lb.classes_"
      ]
    },
    {
      "cell_type": "code",
      "execution_count": 127,
      "metadata": {
        "colab": {
          "base_uri": "https://localhost:8080/"
        },
        "id": "NrNhw7Sne2NS",
        "outputId": "dcc988ba-31d5-40c6-b81c-541a7d6f887b"
      },
      "outputs": [
        {
          "output_type": "stream",
          "name": "stdout",
          "text": [
            "['The whole car appreciated the last two! Dad and are having a map reading semi argument but apart from that things are going ok. P.'\n",
            " 'Its going good...no problem..but still need little experience to understand american customer voice...'\n",
            " 'U have a secret admirer. REVEAL who thinks U R So special. Call 09065174042. To opt out Reply REVEAL STOP. 1.50 per msg recd. Cust care 07821230901'\n",
            " ...\n",
            " \"For ur chance to win a Â£250 cash every wk TXT: ACTION to 80608. T's&C's www.movietrivia.tv custcare 08712405022, 1x150p/wk\"\n",
            " 'R U &SAM P IN EACHOTHER. IF WE MEET WE CAN GO 2 MY HOUSE'\n",
            " 'Mm feeling sleepy. today itself i shall get that dear']\n",
            "[0 0 1 ... 1 0 0]\n"
          ]
        }
      ],
      "source": [
        "from sklearn.model_selection import train_test_split\n",
        "\n",
        "X_train, X_test, y_train, y_test = train_test_split(X,\n",
        "                                                    y,\n",
        "                                                    test_size = 0.25,\n",
        "                                                    random_state = 0)\n",
        "\n",
        "print(X_train)\n",
        "print(y_train)"
      ]
    },
    {
      "cell_type": "code",
      "execution_count": 128,
      "metadata": {
        "colab": {
          "base_uri": "https://localhost:8080/"
        },
        "id": "pi9bXE0CfL86",
        "outputId": "1a26ecef-ae92-4533-9d5b-3685c43c5158"
      },
      "outputs": [
        {
          "output_type": "stream",
          "name": "stdout",
          "text": [
            "  (0, 4608)\t0.1668142216963153\n",
            "  (0, 2975)\t0.18905822375171719\n",
            "  (0, 6442)\t0.24406713073621863\n",
            "  (0, 931)\t0.3460181170274463\n",
            "  (0, 977)\t0.3339371810430319\n",
            "  (0, 5659)\t0.3630452399663963\n",
            "  (0, 5263)\t0.29545842016459956\n",
            "  (0, 4093)\t0.3339371810430319\n",
            "  (0, 3157)\t0.24406713073621863\n",
            "  (0, 2011)\t0.26850437452626374\n",
            "  (0, 950)\t0.3460181170274463\n",
            "  (0, 1529)\t0.25222052855298177\n",
            "  (1, 6871)\t0.3620873841541441\n",
            "  (1, 1994)\t0.2894721385173834\n",
            "  (1, 873)\t0.4092435080655984\n",
            "  (1, 6713)\t0.35718232673892514\n",
            "  (1, 2543)\t0.3804433570647114\n",
            "  (1, 3911)\t0.31097052565712135\n",
            "  (1, 4436)\t0.23128599724906082\n",
            "  (1, 5095)\t0.30909889575273314\n",
            "  (1, 2986)\t0.21420182174707142\n",
            "  (1, 2975)\t0.2316928305950855\n",
            "  (2, 37)\t0.2928923216335006\n",
            "  (2, 1533)\t0.18301655905459177\n",
            "  (2, 1991)\t0.2747342549608302\n",
            "  :\t:\n",
            "  (4177, 328)\t0.2768991877454799\n",
            "  (4177, 105)\t0.30233226462838547\n",
            "  (4177, 1992)\t0.254658747437792\n",
            "  (4177, 4332)\t0.30233226462838547\n",
            "  (4177, 608)\t0.30233226462838547\n",
            "  (4177, 755)\t0.2917765839999378\n",
            "  (4177, 352)\t0.24091043023412656\n",
            "  (4177, 1598)\t0.2166422821106723\n",
            "  (4177, 6659)\t0.21908933362097516\n",
            "  (4177, 7162)\t0.1842247131206878\n",
            "  (4177, 7079)\t0.4356908239832621\n",
            "  (4177, 1554)\t0.19180583908719318\n",
            "  (4177, 7048)\t0.19627824147075287\n",
            "  (4177, 6666)\t0.1640423172769546\n",
            "  (4177, 6766)\t0.142007724207017\n",
            "  (4178, 2343)\t0.621943941340954\n",
            "  (4178, 5549)\t0.5429083455441727\n",
            "  (4178, 3299)\t0.42476434804037805\n",
            "  (4178, 4164)\t0.37149900511522504\n",
            "  (4179, 5865)\t0.5288520805549759\n",
            "  (4179, 4261)\t0.45833933652795744\n",
            "  (4179, 2632)\t0.4138507483153434\n",
            "  (4179, 5707)\t0.39538631591713386\n",
            "  (4179, 2054)\t0.3077604202567174\n",
            "  (4179, 6527)\t0.29651521463746244\n"
          ]
        }
      ],
      "source": [
        "from sklearn.feature_extraction.text import TfidfVectorizer\n",
        "\n",
        "vectorizer = TfidfVectorizer(stop_words = 'english')\n",
        "X_train_tfidf = vectorizer.fit_transform(X_train)\n",
        "X_test_tfidf = vectorizer.transform(X_test)\n",
        "print(X_train_tfidf)"
      ]
    },
    {
      "cell_type": "code",
      "execution_count": 129,
      "metadata": {
        "colab": {
          "base_uri": "https://localhost:8080/"
        },
        "id": "Mle0eyQNh5b4",
        "outputId": "00c27cc9-d7d8-4ec9-a5c6-9e9cf1d81f36"
      },
      "outputs": [
        {
          "output_type": "stream",
          "name": "stdout",
          "text": [
            "PRED: 0 - SMS : That's cool he'll be here all night, lemme know when you're around\n",
            "\n",
            "PRED: 0 - SMS : Sorry, I'll call later In meeting.\n",
            "\n",
            "PRED: 0 - SMS : alright. Thanks for the advice. Enjoy your night out. I'ma try to get some sleep...\n",
            "\n",
            "PRED: 0 - SMS : Ok. Can be later showing around 8-8:30 if you want + cld have drink before. Wld prefer not to spend money on nosh if you don't mind, as doing that nxt wk.\n",
            "\n",
            "PRED: 0 - SMS : Yes..he is really great..bhaji told kallis best cricketer after sachin in world:).very tough to get out.\n",
            "\n"
          ]
        }
      ],
      "source": [
        "from sklearn.linear_model import LogisticRegression\n",
        "\n",
        "model = LogisticRegression()\n",
        "model.fit(X_train_tfidf, y_train)\n",
        "y_pred = model.predict(X_test_tfidf)\n",
        "\n",
        "for pred, sms in zip(y_pred[:5], X_test[:5]):\n",
        "  print(f'PRED: {pred} - SMS : {sms}\\n')"
      ]
    },
    {
      "cell_type": "markdown",
      "metadata": {
        "id": "W8o_nvJuk1YF"
      },
      "source": [
        "### **Confused Matrix**\n",
        "sering dikenal sebagai error matrix\n",
        "\n",
        "\n",
        "Terminologi dasar:\n",
        "* True Positive (TP) yaitu hasil positive yang tepat\n",
        "* True Negative (TN) yaitu hasil negative yang tepat\n",
        "* False Positive (FP) yaitu hasil positive yang salah, model keliru mengenal negative menjadi postive\n",
        "* False Negative (FN)yaitu hasil negative yang salah, model keliru mengenal postive menjadi negative"
      ]
    },
    {
      "cell_type": "code",
      "execution_count": 130,
      "metadata": {
        "colab": {
          "base_uri": "https://localhost:8080/"
        },
        "id": "k2KnmML4mOmY",
        "outputId": "9591026b-f5ee-4212-d4b9-13dc43e76643"
      },
      "outputs": [
        {
          "output_type": "execute_result",
          "data": {
            "text/plain": [
              "array([[1195,    3],\n",
              "       [  53,  143]])"
            ]
          },
          "metadata": {},
          "execution_count": 130
        }
      ],
      "source": [
        "from sklearn.metrics import confusion_matrix\n",
        "\n",
        "matrix = confusion_matrix(y_test, y_pred)\n",
        "matrix"
      ]
    },
    {
      "cell_type": "code",
      "execution_count": 131,
      "metadata": {
        "colab": {
          "base_uri": "https://localhost:8080/"
        },
        "id": "0cnBCym6nHR5",
        "outputId": "0ca7410d-cfc8-4bb1-c9cb-4bbcd286d5d2"
      },
      "outputs": [
        {
          "output_type": "stream",
          "name": "stdout",
          "text": [
            "TP : 1195\n",
            "TN : 3\n",
            "FP : 53\n",
            "FN : 143\n"
          ]
        }
      ],
      "source": [
        "tp, tn, fp, fn = matrix.ravel()\n",
        "print(f'TP : {tp}')\n",
        "print(f'TN : {tn}')\n",
        "print(f'FP : {fp}')\n",
        "print(f'FN : {fn}')"
      ]
    },
    {
      "cell_type": "code",
      "execution_count": 132,
      "metadata": {
        "colab": {
          "base_uri": "https://localhost:8080/",
          "height": 417
        },
        "id": "uZsL_9w0neJh",
        "outputId": "23809d3d-e8dd-46fd-bdff-4775a39824ac"
      },
      "outputs": [
        {
          "output_type": "display_data",
          "data": {
            "text/plain": [
              "<Figure size 480x480 with 2 Axes>"
            ],
            "image/png": "[encoded data removed]"
          },
          "metadata": {}
        }
      ],
      "source": [
        "import matplotlib.pyplot as plt\n",
        "\n",
        "plt.matshow(matrix)\n",
        "plt.colorbar()\n",
        "\n",
        "plt.title('Confusion Matrix')\n",
        "plt.ylabel('True Label')\n",
        "plt.xlabel('Predict Label')\n",
        "plt.show()"
      ]
    },
    {
      "cell_type": "markdown",
      "metadata": {
        "id": "7RFtEgr5yhNq"
      },
      "source": [
        "### **Accuracy score**\n",
        "\n",
        "correct/total"
      ]
    },
    {
      "cell_type": "code",
      "execution_count": 133,
      "metadata": {
        "colab": {
          "base_uri": "https://localhost:8080/"
        },
        "id": "Ez5b0yagn_wH",
        "outputId": "88aa4bd5-f1e1-497c-e5ed-eccf3b101eda"
      },
      "outputs": [
        {
          "output_type": "execute_result",
          "data": {
            "text/plain": [
              "0.9598278335724534"
            ]
          },
          "metadata": {},
          "execution_count": 133
        }
      ],
      "source": [
        "from sklearn.metrics import accuracy_score\n",
        "accuracy_score(y_test, y_pred)"
      ]
    },
    {
      "cell_type": "markdown",
      "metadata": {
        "id": "JpQ-dlGmHmLe"
      },
      "source": [
        "### **Precission**\n",
        "\n",
        "tp / tp + tn"
      ]
    },
    {
      "cell_type": "code",
      "execution_count": 134,
      "metadata": {
        "colab": {
          "base_uri": "https://localhost:8080/"
        },
        "id": "VWQojCjuyYLM",
        "outputId": "c9da7efb-9a22-4c20-ddc9-0f6358e5b718"
      },
      "outputs": [
        {
          "output_type": "execute_result",
          "data": {
            "text/plain": [
              "0.9794520547945206"
            ]
          },
          "metadata": {},
          "execution_count": 134
        }
      ],
      "source": [
        "from sklearn.metrics import precision_score\n",
        "precision_score(y_test, y_pred)"
      ]
    },
    {
      "cell_type": "markdown",
      "metadata": {
        "id": "XHkqdAcwK3Ol"
      },
      "source": [
        "### **Recall**\n",
        "\n",
        "tp / tp + fn"
      ]
    },
    {
      "cell_type": "code",
      "execution_count": 135,
      "metadata": {
        "colab": {
          "base_uri": "https://localhost:8080/"
        },
        "id": "Bg8UFNv7H1Jp",
        "outputId": "3e26f61a-e25d-4dbc-fac2-699dad669797"
      },
      "outputs": [
        {
          "output_type": "execute_result",
          "data": {
            "text/plain": [
              "0.7295918367346939"
            ]
          },
          "metadata": {},
          "execution_count": 135
        }
      ],
      "source": [
        "from sklearn.metrics import recall_score\n",
        "recall_score(y_test, y_pred)"
      ]
    },
    {
      "cell_type": "markdown",
      "metadata": {
        "id": "_b5gcuFcLZkL"
      },
      "source": [
        "### **F1**\n",
        "\n",
        "F1 score = precission * recall / precission + recall"
      ]
    },
    {
      "cell_type": "code",
      "execution_count": 136,
      "metadata": {
        "colab": {
          "base_uri": "https://localhost:8080/"
        },
        "id": "TZBLnDaJLJ1b",
        "outputId": "13517051-5261-4df6-fc4c-08c8df964626"
      },
      "outputs": [
        {
          "output_type": "execute_result",
          "data": {
            "text/plain": [
              "0.8362573099415206"
            ]
          },
          "metadata": {},
          "execution_count": 136
        }
      ],
      "source": [
        "from sklearn.metrics import f1_score\n",
        "f1_score(y_test, y_pred)"
      ]
    },
    {
      "cell_type": "markdown",
      "metadata": {
        "id": "wn6gO2lSL6NN"
      },
      "source": [
        "### **ROC (Reciever Operating Characteristic)**\n",
        "\n",
        "ROC menawarkan visualisasi terhadap performa dari classifer dengan membandingkan nilai recall dan nilai fallout\n",
        "\n",
        "fall out = FP / TN + FP"
      ]
    },
    {
      "cell_type": "code",
      "execution_count": 137,
      "metadata": {
        "colab": {
          "base_uri": "https://localhost:8080/",
          "height": 472
        },
        "id": "uJ-hofvvLqvP",
        "outputId": "4a040a7b-668a-471e-f556-258ac24a9f41"
      },
      "outputs": [
        {
          "output_type": "display_data",
          "data": {
            "text/plain": [
              "<Figure size 640x480 with 1 Axes>"
            ],
            "image/png": "[encoded data removed]"
          },
          "metadata": {}
        }
      ],
      "source": [
        "from sklearn.metrics import roc_curve, auc\n",
        "\n",
        "prob_estimates = model.predict_proba(X_test_tfidf)\n",
        "\n",
        "fpr, tpr, threshhold = roc_curve(y_test, prob_estimates[:, 1])\n",
        "nilai_auc = auc(fpr, tpr)\n",
        "\n",
        "plt.plot(fpr, tpr, 'b', label = f'AUC = {nilai_auc}')\n",
        "plt.plot([0,1], [0,1], 'r--', label = 'Random Classfier')\n",
        "\n",
        "plt.title('ROC SMS Classification')\n",
        "plt.xlabel('Fallout')\n",
        "plt.ylabel('Recall')\n",
        "plt.legend()\n",
        "plt.show()"
      ]
    },
    {
      "cell_type": "markdown",
      "metadata": {
        "id": "-ERVSiuK5urx"
      },
      "source": [
        "## **Classification Task with Naive Bayes**\n",
        "\n",
        "**Bayes Theorem**\n",
        "\n",
        "menawarkan suatu menawarkan suatu formula untuk menghitung nilai probability dari suatu event dengan memanfaatkan pengetahuan sebelumnta dari kondisi terkait atau sering dikenal sebagai istilah conditional probability\n",
        "\n",
        "P(A|B) = P(B|A) * P(A) / P(B)\n",
        "\n",
        "P(y|X) = P(X|y) * P(y) / P(X)\n",
        "\n",
        "Posterior = Likelihood * Prior / Evidence"
      ]
    },
    {
      "cell_type": "markdown",
      "metadata": {
        "id": "XeNOkwptBCFP"
      },
      "source": [
        "**Mengapa disebut naive?**\n",
        "\n",
        "karena sewaktu mendefinisikan likelihood P(A1,A2|B), mengasumsikan bahwa P(A1|B) merupakan conditional independent terhadap P(A2|B) demikian sebaliknya\n",
        "\n",
        "sehingga dapat diformulakan sebagai berikut:\n",
        "P(A1,A2|B) = P(A1|B) * P(A2|B)\n"
      ]
    },
    {
      "cell_type": "code",
      "execution_count": 138,
      "metadata": {
        "colab": {
          "base_uri": "https://localhost:8080/"
        },
        "id": "vCTd9zgWNtEq",
        "outputId": "31355aaa-eb88-4b12-ff3d-b184233c5ec1"
      },
      "outputs": [
        {
          "output_type": "stream",
          "name": "stdout",
          "text": [
            ".. _breast_cancer_dataset:\n",
            "\n",
            "Breast cancer wisconsin (diagnostic) dataset\n",
            "--------------------------------------------\n",
            "\n",
            "**Data Set Characteristics:**\n",
            "\n",
            "    :Number of Instances: 569\n",
            "\n",
            "    :Number of Attributes: 30 numeric, predictive attributes and the class\n",
            "\n",
            "    :Attribute Information:\n",
            "        - radius (mean of distances from center to points on the perimeter)\n",
            "        - texture (standard deviation of gray-scale values)\n",
            "        - perimeter\n",
            "        - area\n",
            "        - smoothness (local variation in radius lengths)\n",
            "        - compactness (perimeter^2 / area - 1.0)\n",
            "        - concavity (severity of concave portions of the contour)\n",
            "        - concave points (number of concave portions of the contour)\n",
            "        - symmetry\n",
            "        - fractal dimension (\"coastline approximation\" - 1)\n",
            "\n",
            "        The mean, standard error, and \"worst\" or largest (mean of the three\n",
            "        worst/largest values) of these features were computed for each image,\n",
            "        resulting in 30 features.  For instance, field 0 is Mean Radius, field\n",
            "        10 is Radius SE, field 20 is Worst Radius.\n",
            "\n",
            "        - class:\n",
            "                - WDBC-Malignant\n",
            "                - WDBC-Benign\n",
            "\n",
            "    :Summary Statistics:\n",
            "\n",
            "    ===================================== ====== ======\n",
            "                                           Min    Max\n",
            "    ===================================== ====== ======\n",
            "    radius (mean):                        6.981  28.11\n",
            "    texture (mean):                       9.71   39.28\n",
            "    perimeter (mean):                     43.79  188.5\n",
            "    area (mean):                          143.5  2501.0\n",
            "    smoothness (mean):                    0.053  0.163\n",
            "    compactness (mean):                   0.019  0.345\n",
            "    concavity (mean):                     0.0    0.427\n",
            "    concave points (mean):                0.0    0.201\n",
            "    symmetry (mean):                      0.106  0.304\n",
            "    fractal dimension (mean):             0.05   0.097\n",
            "    radius (standard error):              0.112  2.873\n",
            "    texture (standard error):             0.36   4.885\n",
            "    perimeter (standard error):           0.757  21.98\n",
            "    area (standard error):                6.802  542.2\n",
            "    smoothness (standard error):          0.002  0.031\n",
            "    compactness (standard error):         0.002  0.135\n",
            "    concavity (standard error):           0.0    0.396\n",
            "    concave points (standard error):      0.0    0.053\n",
            "    symmetry (standard error):            0.008  0.079\n",
            "    fractal dimension (standard error):   0.001  0.03\n",
            "    radius (worst):                       7.93   36.04\n",
            "    texture (worst):                      12.02  49.54\n",
            "    perimeter (worst):                    50.41  251.2\n",
            "    area (worst):                         185.2  4254.0\n",
            "    smoothness (worst):                   0.071  0.223\n",
            "    compactness (worst):                  0.027  1.058\n",
            "    concavity (worst):                    0.0    1.252\n",
            "    concave points (worst):               0.0    0.291\n",
            "    symmetry (worst):                     0.156  0.664\n",
            "    fractal dimension (worst):            0.055  0.208\n",
            "    ===================================== ====== ======\n",
            "\n",
            "    :Missing Attribute Values: None\n",
            "\n",
            "    :Class Distribution: 212 - Malignant, 357 - Benign\n",
            "\n",
            "    :Creator:  Dr. William H. Wolberg, W. Nick Street, Olvi L. Mangasarian\n",
            "\n",
            "    :Donor: Nick Street\n",
            "\n",
            "    :Date: November, 1995\n",
            "\n",
            "This is a copy of UCI ML Breast Cancer Wisconsin (Diagnostic) datasets.\n",
            "https://goo.gl/U2Uwz2\n",
            "\n",
            "Features are computed from a digitized image of a fine needle\n",
            "aspirate (FNA) of a breast mass.  They describe\n",
            "characteristics of the cell nuclei present in the image.\n",
            "\n",
            "Separating plane described above was obtained using\n",
            "Multisurface Method-Tree (MSM-T) [K. P. Bennett, \"Decision Tree\n",
            "Construction Via Linear Programming.\" Proceedings of the 4th\n",
            "Midwest Artificial Intelligence and Cognitive Science Society,\n",
            "pp. 97-101, 1992], a classification method which uses linear\n",
            "programming to construct a decision tree.  Relevant features\n",
            "were selected using an exhaustive search in the space of 1-4\n",
            "features and 1-3 separating planes.\n",
            "\n",
            "The actual linear program used to obtain the separating plane\n",
            "in the 3-dimensional space is that described in:\n",
            "[K. P. Bennett and O. L. Mangasarian: \"Robust Linear\n",
            "Programming Discrimination of Two Linearly Inseparable Sets\",\n",
            "Optimization Methods and Software 1, 1992, 23-34].\n",
            "\n",
            "This database is also available through the UW CS ftp server:\n",
            "\n",
            "ftp ftp.cs.wisc.edu\n",
            "cd math-prog/cpo-dataset/machine-learn/WDBC/\n",
            "\n",
            ".. topic:: References\n",
            "\n",
            "   - W.N. Street, W.H. Wolberg and O.L. Mangasarian. Nuclear feature extraction \n",
            "     for breast tumor diagnosis. IS&T/SPIE 1993 International Symposium on \n",
            "     Electronic Imaging: Science and Technology, volume 1905, pages 861-870,\n",
            "     San Jose, CA, 1993.\n",
            "   - O.L. Mangasarian, W.N. Street and W.H. Wolberg. Breast cancer diagnosis and \n",
            "     prognosis via linear programming. Operations Research, 43(4), pages 570-577, \n",
            "     July-August 1995.\n",
            "   - W.H. Wolberg, W.N. Street, and O.L. Mangasarian. Machine learning techniques\n",
            "     to diagnose breast cancer from fine-needle aspirates. Cancer Letters 77 (1994) \n",
            "     163-171.\n"
          ]
        }
      ],
      "source": [
        "#dataset: Breast Cancer Wisconsin (Diagnostic)\n",
        "\n",
        "from sklearn.datasets import load_breast_cancer\n",
        "\n",
        "print(load_breast_cancer().DESCR)"
      ]
    },
    {
      "cell_type": "code",
      "execution_count": 139,
      "metadata": {
        "colab": {
          "base_uri": "https://localhost:8080/"
        },
        "id": "uBjLkROLQ5HY",
        "outputId": "3bc16656-cb83-4e9b-b3bb-42675dba98f2"
      },
      "outputs": [
        {
          "output_type": "execute_result",
          "data": {
            "text/plain": [
              "(569, 30)"
            ]
          },
          "metadata": {},
          "execution_count": 139
        }
      ],
      "source": [
        "X, y = load_breast_cancer(return_X_y=True)\n",
        "X.shape"
      ]
    },
    {
      "cell_type": "code",
      "execution_count": 140,
      "metadata": {
        "colab": {
          "base_uri": "https://localhost:8080/"
        },
        "id": "Eqrs3ilaRGCT",
        "outputId": "49fa8502-54b4-438b-9aa8-3a35f63ae125"
      },
      "outputs": [
        {
          "output_type": "stream",
          "name": "stdout",
          "text": [
            "(455, 30)\n",
            "(114, 30)\n"
          ]
        }
      ],
      "source": [
        "from sklearn.model_selection import train_test_split\n",
        "\n",
        "X_train, X_test, y_train, y_test = train_test_split(X,\n",
        "                                                    y,\n",
        "                                                    test_size = 0.2,\n",
        "                                                    random_state = 0)\n",
        "\n",
        "print(X_train.shape)\n",
        "print(X_test.shape)"
      ]
    },
    {
      "cell_type": "code",
      "execution_count": 141,
      "metadata": {
        "colab": {
          "base_uri": "https://localhost:8080/"
        },
        "id": "uZjug4WPR-2N",
        "outputId": "3771838c-1fce-4aab-8e43-0848b5012d83"
      },
      "outputs": [
        {
          "output_type": "execute_result",
          "data": {
            "text/plain": [
              "0.9298245614035088"
            ]
          },
          "metadata": {},
          "execution_count": 141
        }
      ],
      "source": [
        "from sklearn.naive_bayes import GaussianNB\n",
        "from sklearn.metrics import accuracy_score\n",
        "\n",
        "model = GaussianNB()\n",
        "model.fit(X_train, y_train)\n",
        "y_pred = model.predict(X_test)\n",
        "accuracy_score(y_test, y_pred)"
      ]
    },
    {
      "cell_type": "code",
      "execution_count": 142,
      "metadata": {
        "colab": {
          "base_uri": "https://localhost:8080/"
        },
        "id": "KyHDiD7HWKka",
        "outputId": "b70aaaeb-7cae-42cf-80bd-66059c946bf7"
      },
      "outputs": [
        {
          "output_type": "execute_result",
          "data": {
            "text/plain": [
              "0.9298245614035088"
            ]
          },
          "metadata": {},
          "execution_count": 142
        }
      ],
      "source": [
        "model.score(X_test, y_test)"
      ]
    },
    {
      "cell_type": "markdown",
      "source": [
        "## **Classification Task - Support Vector Machine (SVM)**\n",
        "\n",
        "The goal of a support vector machine is to find  the optimal separating hyperplane which maximizes the margin of the training data (Decision Boundary).\n",
        "\n",
        "![svm_mmc.png](data:image/png;base64,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)"
      ],
      "metadata": {
        "id": "MuWBjuXcGJqx"
      }
    },
    {
      "cell_type": "markdown",
      "source": [
        "Terdapat Linearly Inseparable yaitu tidak dapat ditariknya garis linier pada feature, oleh karena itu SVM mencoba untuk mengubah/memproyeksikan feature 2 dimensi menjadi 3 dimensi dan seterusnya, namun membutuhkan komputasi yang tinggi. Oleh karena itu terdapat kernel tricks"
      ],
      "metadata": {
        "id": "Rdj1Y0-Y13h1"
      }
    },
    {
      "cell_type": "code",
      "execution_count": 143,
      "metadata": {
        "id": "DDSYzw8kWQpK"
      },
      "outputs": [],
      "source": [
        "# from sklearn.datasets import fetch_openml\n",
        "\n",
        "# dataset_path = '/content/drive/MyDrive/belakar'  # Sesuaikan dengan path Anda\n",
        "# X, y = fetch_openml('mnist_784', data_home=dataset_path, return_X_y=True)\n",
        "# print(X.shape)"
      ]
    },
    {
      "cell_type": "code",
      "source": [
        "# X.info()"
      ],
      "metadata": {
        "id": "TciF9vVRaOnL"
      },
      "execution_count": 144,
      "outputs": []
    },
    {
      "cell_type": "code",
      "source": [
        "# import matplotlib.pyplot as plt\n",
        "# import matplotlib.cm as cm\n",
        "\n",
        "# pos = 1\n",
        "# for data in X[:8]:\n",
        "#   plt.subplot(1,8, pos)\n",
        "#   plt.imshow(data.reshape((28,28)),\n",
        "#              cmap = cm.Greys_r)\n",
        "\n",
        "#   plt.axis('off')\n",
        "#   pos += 1\n",
        "\n",
        "# plt.show()"
      ],
      "metadata": {
        "id": "uFSf0y4d3mbK"
      },
      "execution_count": 145,
      "outputs": []
    },
    {
      "cell_type": "code",
      "source": [
        "# y[:8]"
      ],
      "metadata": {
        "id": "7TArvo7e5V7Z"
      },
      "execution_count": 146,
      "outputs": []
    },
    {
      "cell_type": "code",
      "source": [
        "# X_train = X[:1000]\n",
        "# y_train = y[:1000]\n",
        "# X_test = X[69500:]\n",
        "# y_test = y[69500:]"
      ],
      "metadata": {
        "id": "Tj8diaiaZ8YK"
      },
      "execution_count": 147,
      "outputs": []
    },
    {
      "cell_type": "code",
      "source": [
        "# from sklearn.svm import SVC\n",
        "# model = SVC(random_state = 0)\n",
        "# model.fit(X_train, y_train)"
      ],
      "metadata": {
        "id": "INJ-GqBLb-sh"
      },
      "execution_count": 148,
      "outputs": []
    },
    {
      "cell_type": "code",
      "source": [
        "# from sklearn.metrics import classification_report\n",
        "\n",
        "# y_pred = model.predict(X_test)\n",
        "# print(classification_report(y_test, y_pred))"
      ],
      "metadata": {
        "id": "NoCRN5vfcMUv"
      },
      "execution_count": 149,
      "outputs": []
    },
    {
      "cell_type": "markdown",
      "source": [
        "### **Hyperparameter Tuning**"
      ],
      "metadata": {
        "id": "3gVL5UXelbWZ"
      }
    },
    {
      "cell_type": "code",
      "source": [
        "# from sklearn.svm import SVC\n",
        "# from sklearn.model_selection import GridSearchCV\n",
        "\n",
        "# parameters = {\n",
        "#     'kernel' : ['rbf', 'ploy', 'sigmoid'],\n",
        "#     'C' : [0.5, 1, 10, 100],\n",
        "#     'gamma' : ['scale', 1, 0.1, 0.01, 0.001]\n",
        "# }\n",
        "\n",
        "# grid_search = GridSearchCV(estimator = SVC(random_state = 0),\n",
        "#                            param_grid = parameters,\n",
        "#                            n_jobs = 6,\n",
        "#                            verbose = 1,\n",
        "#                            scoring = 'accuracy')\n",
        "\n",
        "# grid_search.fit(X_train, y_train)"
      ],
      "metadata": {
        "id": "2gQZDN77cisM"
      },
      "execution_count": 150,
      "outputs": []
    },
    {
      "cell_type": "code",
      "source": [
        "# print(f'Best_Score :{grid_search.best_score_}')\n",
        "\n",
        "# best_params = grid_search.best_estimator_.get_params()\n",
        "# print(f'Best Parameters:')\n",
        "# for params in parameters:\n",
        "#   print(f'{params} : {best_params[params]}')"
      ],
      "metadata": {
        "id": "554Dz0FnhKp7"
      },
      "execution_count": 151,
      "outputs": []
    },
    {
      "cell_type": "code",
      "source": [
        "# y_pred = grid_search.predict(X_test)\n",
        "\n",
        "# print(classification_report(y_test, y_pred))"
      ],
      "metadata": {
        "id": "dFbLehMgnqDh"
      },
      "execution_count": 152,
      "outputs": []
    },
    {
      "cell_type": "markdown",
      "source": [
        "## **Classification Task with Decision Tree**\n",
        "\n",
        "Decision Trees (DTs) are a non-parametric supervised learning method used for classification and regression. The goal is to create a model that predicts the value of a target variable by learning simple decision rules inferred from the data features. A tree can be seen as a piecewise constant approximation.\n",
        "\n",
        "For instance, in the example below, decision trees learn from data to approximate a sine curve with a set of if-then-else decision rules. The deeper the tree, the more complex the decision rules and the fitter the model.\n",
        "\n",
        "Terminologi\n",
        "\n",
        "* root Node\n",
        "  \n",
        "  akar dari DT dimana terdapat di posisi atas\n",
        "\n",
        "* internal node\n",
        "\n",
        "  diantara root dan node\n",
        "\n",
        "* leaf node\n",
        "\n",
        "  akar dari DT dimana terdapat di posisi bawah (daun)\n",
        "\n",
        "\n",
        "![sphx_glr_plot_tree_regression_001.png](data:image/png;base64,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)"
      ],
      "metadata": {
        "id": "x-8FMTv9oPRv"
      }
    },
    {
      "cell_type": "markdown",
      "source": [
        "### **Gini Impurity**\n",
        "\n",
        "Gn = 1 - E P^2\n",
        "\n",
        "AVG:\n",
        "\n",
        "avg_G = A/A+B * G1 + B/A+B * G2\n"
      ],
      "metadata": {
        "id": "FYU9be0n0Owp"
      }
    },
    {
      "cell_type": "markdown",
      "source": [
        "### **Information Gain**\n",
        "\n",
        "IG = Gini Impurity - Avg Gini Impurity (Split)"
      ],
      "metadata": {
        "id": "ub8aynCy1l8B"
      }
    },
    {
      "cell_type": "markdown",
      "source": [
        "Build Decision Tree\n",
        "\n",
        "color | diameter | label\n",
        "\n",
        "green   3          apple\n",
        "\n",
        "Yellow   3         apple\n",
        "\n",
        "Red     1          grape\n",
        "\n",
        "red     1          grape\n",
        "\n",
        "Yellow   3         Lemon\n",
        "\n",
        "Pertanyaan:\n",
        "color == Green?\n",
        "\n",
        "color == Yellow?\n",
        "\n",
        "color == Red?\n",
        "\n",
        "Diameter <= 1?\n",
        "\n",
        "Diameter <= 3?\n",
        "\n",
        "G = 1-(P(apple)^2 + P(Grape)^2 + P(lemon)^2)\n",
        "  = 1-(P(2/5)^2 + P(2/5)^2 + P(1/5)^2)\n",
        "  =0.63\n",
        "\n",
        "Informasi gain dari pertanyaan yang besar akan dipilih untuk spliting data, proses tersebut sampe informasi gain 0 atau ditetapkan sesuai kebutuhan"
      ],
      "metadata": {
        "id": "h4cC2OPn1_qO"
      }
    },
    {
      "cell_type": "code",
      "source": [
        "from sklearn.datasets import load_iris\n",
        "\n",
        "X,y = load_iris(return_X_y= True)\n",
        "\n",
        "print(f'Dimensi feature: {X.shape}')\n",
        "print(f'Class: {set(y)}')"
      ],
      "metadata": {
        "id": "Unw2phuNoCMB",
        "colab": {
          "base_uri": "https://localhost:8080/"
        },
        "outputId": "85076781-fdb4-44ca-89c7-ce0e742e081f"
      },
      "execution_count": 153,
      "outputs": [
        {
          "output_type": "stream",
          "name": "stdout",
          "text": [
            "Dimensi feature: (150, 4)\n",
            "Class: {0, 1, 2}\n"
          ]
        }
      ]
    },
    {
      "cell_type": "code",
      "source": [
        "from sklearn.model_selection import train_test_split\n",
        "\n",
        "X_train, X_test, y_train, y_test = train_test_split(X,\n",
        "                                                    y,\n",
        "                                                    test_size = 0.3,\n",
        "                                                    random_state = 0)"
      ],
      "metadata": {
        "id": "V-ssyWfY603u"
      },
      "execution_count": 154,
      "outputs": []
    },
    {
      "cell_type": "code",
      "source": [
        "from sklearn.tree import DecisionTreeClassifier\n",
        "model = DecisionTreeClassifier(max_depth = 4) #DT classfier mempunyai kedalaman 4 layer\n",
        "model.fit(X_train, y_train)"
      ],
      "metadata": {
        "colab": {
          "base_uri": "https://localhost:8080/",
          "height": 74
        },
        "id": "ZlxVgsHk7Dgt",
        "outputId": "f506b7b0-09e2-4987-acef-48b88ceba147"
      },
      "execution_count": 155,
      "outputs": [
        {
          "output_type": "execute_result",
          "data": {
            "text/plain": [
              "DecisionTreeClassifier(max_depth=4)"
            ],
            "text/html": [
              "<style>#sk-container-id-8 {color: black;background-color: white;}#sk-container-id-8 pre{padding: 0;}#sk-container-id-8 div.sk-toggleable {background-color: white;}#sk-container-id-8 label.sk-toggleable__label {cursor: pointer;display: block;width: 100%;margin-bottom: 0;padding: 0.3em;box-sizing: border-box;text-align: center;}#sk-container-id-8 label.sk-toggleable__label-arrow:before {content: \"▸\";float: left;margin-right: 0.25em;color: #696969;}#sk-container-id-8 label.sk-toggleable__label-arrow:hover:before {color: black;}#sk-container-id-8 div.sk-estimator:hover label.sk-toggleable__label-arrow:before {color: black;}#sk-container-id-8 div.sk-toggleable__content {max-height: 0;max-width: 0;overflow: hidden;text-align: left;background-color: #f0f8ff;}#sk-container-id-8 div.sk-toggleable__content pre {margin: 0.2em;color: black;border-radius: 0.25em;background-color: #f0f8ff;}#sk-container-id-8 input.sk-toggleable__control:checked~div.sk-toggleable__content {max-height: 200px;max-width: 100%;overflow: auto;}#sk-container-id-8 input.sk-toggleable__control:checked~label.sk-toggleable__label-arrow:before {content: \"▾\";}#sk-container-id-8 div.sk-estimator input.sk-toggleable__control:checked~label.sk-toggleable__label {background-color: #d4ebff;}#sk-container-id-8 div.sk-label input.sk-toggleable__control:checked~label.sk-toggleable__label {background-color: #d4ebff;}#sk-container-id-8 input.sk-hidden--visually {border: 0;clip: rect(1px 1px 1px 1px);clip: rect(1px, 1px, 1px, 1px);height: 1px;margin: -1px;overflow: hidden;padding: 0;position: absolute;width: 1px;}#sk-container-id-8 div.sk-estimator {font-family: monospace;background-color: #f0f8ff;border: 1px dotted black;border-radius: 0.25em;box-sizing: border-box;margin-bottom: 0.5em;}#sk-container-id-8 div.sk-estimator:hover {background-color: #d4ebff;}#sk-container-id-8 div.sk-parallel-item::after {content: \"\";width: 100%;border-bottom: 1px solid gray;flex-grow: 1;}#sk-container-id-8 div.sk-label:hover label.sk-toggleable__label {background-color: #d4ebff;}#sk-container-id-8 div.sk-serial::before {content: \"\";position: absolute;border-left: 1px solid gray;box-sizing: border-box;top: 0;bottom: 0;left: 50%;z-index: 0;}#sk-container-id-8 div.sk-serial {display: flex;flex-direction: column;align-items: center;background-color: white;padding-right: 0.2em;padding-left: 0.2em;position: relative;}#sk-container-id-8 div.sk-item {position: relative;z-index: 1;}#sk-container-id-8 div.sk-parallel {display: flex;align-items: stretch;justify-content: center;background-color: white;position: relative;}#sk-container-id-8 div.sk-item::before, #sk-container-id-8 div.sk-parallel-item::before {content: \"\";position: absolute;border-left: 1px solid gray;box-sizing: border-box;top: 0;bottom: 0;left: 50%;z-index: -1;}#sk-container-id-8 div.sk-parallel-item {display: flex;flex-direction: column;z-index: 1;position: relative;background-color: white;}#sk-container-id-8 div.sk-parallel-item:first-child::after {align-self: flex-end;width: 50%;}#sk-container-id-8 div.sk-parallel-item:last-child::after {align-self: flex-start;width: 50%;}#sk-container-id-8 div.sk-parallel-item:only-child::after {width: 0;}#sk-container-id-8 div.sk-dashed-wrapped {border: 1px dashed gray;margin: 0 0.4em 0.5em 0.4em;box-sizing: border-box;padding-bottom: 0.4em;background-color: white;}#sk-container-id-8 div.sk-label label {font-family: monospace;font-weight: bold;display: inline-block;line-height: 1.2em;}#sk-container-id-8 div.sk-label-container {text-align: center;}#sk-container-id-8 div.sk-container {/* jupyter's `normalize.less` sets `[hidden] { display: none; }` but bootstrap.min.css set `[hidden] { display: none !important; }` so we also need the `!important` here to be able to override the default hidden behavior on the sphinx rendered scikit-learn.org. See: https://github.com/scikit-learn/scikit-learn/issues/21755 */display: inline-block !important;position: relative;}#sk-container-id-8 div.sk-text-repr-fallback {display: none;}</style><div id=\"sk-container-id-8\" class=\"sk-top-container\"><div class=\"sk-text-repr-fallback\"><pre>DecisionTreeClassifier(max_depth=4)</pre><b>In a Jupyter environment, please rerun this cell to show the HTML representation or trust the notebook. <br />On GitHub, the HTML representation is unable to render, please try loading this page with nbviewer.org.</b></div><div class=\"sk-container\" hidden><div class=\"sk-item\"><div class=\"sk-estimator sk-toggleable\"><input class=\"sk-toggleable__control sk-hidden--visually\" id=\"sk-estimator-id-8\" type=\"checkbox\" checked><label for=\"sk-estimator-id-8\" class=\"sk-toggleable__label sk-toggleable__label-arrow\">DecisionTreeClassifier</label><div class=\"sk-toggleable__content\"><pre>DecisionTreeClassifier(max_depth=4)</pre></div></div></div></div></div>"
            ]
          },
          "metadata": {},
          "execution_count": 155
        }
      ]
    },
    {
      "cell_type": "code",
      "source": [
        "import matplotlib.pyplot as plt\n",
        "from sklearn import tree\n",
        "\n",
        "plt.rcParams['figure.dpi'] = 85\n",
        "plt.subplots(figsize = (10,10))\n",
        "tree.plot_tree(model, fontsize=10)\n",
        "plt.show()"
      ],
      "metadata": {
        "colab": {
          "base_uri": "https://localhost:8080/",
          "height": 688
        },
        "id": "xdVJDM5M7S9L",
        "outputId": "a1c7e68d-9ce3-4a60-f8f7-81508fb80c1f"
      },
      "execution_count": 156,
      "outputs": [
        {
          "output_type": "display_data",
          "data": {
            "text/plain": [
              "<Figure size 850x850 with 1 Axes>"
            ],
            "image/png": "[encoded data removed]"
          },
          "metadata": {}
        }
      ]
    },
    {
      "cell_type": "code",
      "source": [
        "from sklearn.metrics import classification_report\n",
        "\n",
        "y_pred = model.predict(X_test)\n",
        "\n",
        "print(classification_report(y_test, y_pred))"
      ],
      "metadata": {
        "colab": {
          "base_uri": "https://localhost:8080/"
        },
        "id": "-TPaOizr7t2b",
        "outputId": "b5bbabe0-d9dd-4e51-e5a1-953287eb401c"
      },
      "execution_count": 157,
      "outputs": [
        {
          "output_type": "stream",
          "name": "stdout",
          "text": [
            "              precision    recall  f1-score   support\n",
            "\n",
            "           0       1.00      1.00      1.00        16\n",
            "           1       1.00      0.94      0.97        18\n",
            "           2       0.92      1.00      0.96        11\n",
            "\n",
            "    accuracy                           0.98        45\n",
            "   macro avg       0.97      0.98      0.98        45\n",
            "weighted avg       0.98      0.98      0.98        45\n",
            "\n"
          ]
        }
      ]
    },
    {
      "cell_type": "markdown",
      "source": [
        "## **Random Forest**\n",
        "\n",
        "The random forest algorithm is an extension of the bagging method as it utilizes both bagging and feature randomness to create an uncorrelated forest of decision trees. Feature randomness, also known as feature bagging or “the random subspace method”, generates a random subset of features, which ensures low correlation among decision trees. This is a key difference between decision trees and random forests. While decision trees consider all the possible feature splits, random forests only select a subset of those features.\n",
        "![dadavvv.png](data:image/png;base64,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)"
      ],
      "metadata": {
        "id": "PjctLNbxXMA_"
      }
    },
    {
      "cell_type": "code",
      "source": [
        "from sklearn.datasets import load_iris\n",
        "\n",
        "X,y = load_iris(return_X_y = True)\n",
        "\n",
        "print(X.shape)\n",
        "print(set(y))"
      ],
      "metadata": {
        "colab": {
          "base_uri": "https://localhost:8080/"
        },
        "id": "POaHRnAUXKlP",
        "outputId": "7635660a-6ca4-4dfe-e326-975a5d70db27"
      },
      "execution_count": 160,
      "outputs": [
        {
          "output_type": "stream",
          "name": "stdout",
          "text": [
            "(150, 4)\n",
            "{0, 1, 2}\n"
          ]
        }
      ]
    },
    {
      "cell_type": "code",
      "source": [
        "from sklearn.model_selection import train_test_split\n",
        "\n",
        "X_train, X_test, y_train, y_test = train_test_split(X,\n",
        "                                                    y,\n",
        "                                                    test_size = 0.3,\n",
        "                                                    random_state = 0) #random state digunakan untuk menjamin agar eksperimen ini replicated dan menghasilkan nilai yang konsisten"
      ],
      "metadata": {
        "id": "ufkslm7ZhwIm"
      },
      "execution_count": 163,
      "outputs": []
    },
    {
      "cell_type": "code",
      "source": [
        "from sklearn.ensemble import RandomForestClassifier\n",
        "model = RandomForestClassifier(n_estimators = 100,\n",
        "                               random_state = 0)\n",
        "#n_estimator merupakan jumlah decesion tree yang akan digunakan dalam random forest\n",
        "model.fit(X_train, y_train)"
      ],
      "metadata": {
        "colab": {
          "base_uri": "https://localhost:8080/",
          "height": 74
        },
        "id": "SFupt0CoiCRu",
        "outputId": "a240397e-f56d-4cdd-a15e-b84d2db59437"
      },
      "execution_count": 164,
      "outputs": [
        {
          "output_type": "execute_result",
          "data": {
            "text/plain": [
              "RandomForestClassifier(random_state=0)"
            ],
            "text/html": [
              "<style>#sk-container-id-9 {color: black;background-color: white;}#sk-container-id-9 pre{padding: 0;}#sk-container-id-9 div.sk-toggleable {background-color: white;}#sk-container-id-9 label.sk-toggleable__label {cursor: pointer;display: block;width: 100%;margin-bottom: 0;padding: 0.3em;box-sizing: border-box;text-align: center;}#sk-container-id-9 label.sk-toggleable__label-arrow:before {content: \"▸\";float: left;margin-right: 0.25em;color: #696969;}#sk-container-id-9 label.sk-toggleable__label-arrow:hover:before {color: black;}#sk-container-id-9 div.sk-estimator:hover label.sk-toggleable__label-arrow:before {color: black;}#sk-container-id-9 div.sk-toggleable__content {max-height: 0;max-width: 0;overflow: hidden;text-align: left;background-color: #f0f8ff;}#sk-container-id-9 div.sk-toggleable__content pre {margin: 0.2em;color: black;border-radius: 0.25em;background-color: #f0f8ff;}#sk-container-id-9 input.sk-toggleable__control:checked~div.sk-toggleable__content {max-height: 200px;max-width: 100%;overflow: auto;}#sk-container-id-9 input.sk-toggleable__control:checked~label.sk-toggleable__label-arrow:before {content: \"▾\";}#sk-container-id-9 div.sk-estimator input.sk-toggleable__control:checked~label.sk-toggleable__label {background-color: #d4ebff;}#sk-container-id-9 div.sk-label input.sk-toggleable__control:checked~label.sk-toggleable__label {background-color: #d4ebff;}#sk-container-id-9 input.sk-hidden--visually {border: 0;clip: rect(1px 1px 1px 1px);clip: rect(1px, 1px, 1px, 1px);height: 1px;margin: -1px;overflow: hidden;padding: 0;position: absolute;width: 1px;}#sk-container-id-9 div.sk-estimator {font-family: monospace;background-color: #f0f8ff;border: 1px dotted black;border-radius: 0.25em;box-sizing: border-box;margin-bottom: 0.5em;}#sk-container-id-9 div.sk-estimator:hover {background-color: #d4ebff;}#sk-container-id-9 div.sk-parallel-item::after {content: \"\";width: 100%;border-bottom: 1px solid gray;flex-grow: 1;}#sk-container-id-9 div.sk-label:hover label.sk-toggleable__label {background-color: #d4ebff;}#sk-container-id-9 div.sk-serial::before {content: \"\";position: absolute;border-left: 1px solid gray;box-sizing: border-box;top: 0;bottom: 0;left: 50%;z-index: 0;}#sk-container-id-9 div.sk-serial {display: flex;flex-direction: column;align-items: center;background-color: white;padding-right: 0.2em;padding-left: 0.2em;position: relative;}#sk-container-id-9 div.sk-item {position: relative;z-index: 1;}#sk-container-id-9 div.sk-parallel {display: flex;align-items: stretch;justify-content: center;background-color: white;position: relative;}#sk-container-id-9 div.sk-item::before, #sk-container-id-9 div.sk-parallel-item::before {content: \"\";position: absolute;border-left: 1px solid gray;box-sizing: border-box;top: 0;bottom: 0;left: 50%;z-index: -1;}#sk-container-id-9 div.sk-parallel-item {display: flex;flex-direction: column;z-index: 1;position: relative;background-color: white;}#sk-container-id-9 div.sk-parallel-item:first-child::after {align-self: flex-end;width: 50%;}#sk-container-id-9 div.sk-parallel-item:last-child::after {align-self: flex-start;width: 50%;}#sk-container-id-9 div.sk-parallel-item:only-child::after {width: 0;}#sk-container-id-9 div.sk-dashed-wrapped {border: 1px dashed gray;margin: 0 0.4em 0.5em 0.4em;box-sizing: border-box;padding-bottom: 0.4em;background-color: white;}#sk-container-id-9 div.sk-label label {font-family: monospace;font-weight: bold;display: inline-block;line-height: 1.2em;}#sk-container-id-9 div.sk-label-container {text-align: center;}#sk-container-id-9 div.sk-container {/* jupyter's `normalize.less` sets `[hidden] { display: none; }` but bootstrap.min.css set `[hidden] { display: none !important; }` so we also need the `!important` here to be able to override the default hidden behavior on the sphinx rendered scikit-learn.org. See: https://github.com/scikit-learn/scikit-learn/issues/21755 */display: inline-block !important;position: relative;}#sk-container-id-9 div.sk-text-repr-fallback {display: none;}</style><div id=\"sk-container-id-9\" class=\"sk-top-container\"><div class=\"sk-text-repr-fallback\"><pre>RandomForestClassifier(random_state=0)</pre><b>In a Jupyter environment, please rerun this cell to show the HTML representation or trust the notebook. <br />On GitHub, the HTML representation is unable to render, please try loading this page with nbviewer.org.</b></div><div class=\"sk-container\" hidden><div class=\"sk-item\"><div class=\"sk-estimator sk-toggleable\"><input class=\"sk-toggleable__control sk-hidden--visually\" id=\"sk-estimator-id-9\" type=\"checkbox\" checked><label for=\"sk-estimator-id-9\" class=\"sk-toggleable__label sk-toggleable__label-arrow\">RandomForestClassifier</label><div class=\"sk-toggleable__content\"><pre>RandomForestClassifier(random_state=0)</pre></div></div></div></div></div>"
            ]
          },
          "metadata": {},
          "execution_count": 164
        }
      ]
    },
    {
      "cell_type": "code",
      "source": [
        "from sklearn.metrics import classification_report\n",
        "\n",
        "y_pred = model.predict(X_test)\n",
        "\n",
        "print(classification_report(y_test, y_pred))"
      ],
      "metadata": {
        "colab": {
          "base_uri": "https://localhost:8080/"
        },
        "id": "ExsKq4hmjJ5T",
        "outputId": "edff2b9e-3697-4027-f550-2e30226c5710"
      },
      "execution_count": 166,
      "outputs": [
        {
          "output_type": "stream",
          "name": "stdout",
          "text": [
            "              precision    recall  f1-score   support\n",
            "\n",
            "           0       1.00      1.00      1.00        16\n",
            "           1       1.00      0.94      0.97        18\n",
            "           2       0.92      1.00      0.96        11\n",
            "\n",
            "    accuracy                           0.98        45\n",
            "   macro avg       0.97      0.98      0.98        45\n",
            "weighted avg       0.98      0.98      0.98        45\n",
            "\n"
          ]
        }
      ]
    },
    {
      "cell_type": "code",
      "source": [],
      "metadata": {
        "id": "Y1c1i6iQjxSG"
      },
      "execution_count": null,
      "outputs": []
    }
  ],
  "metadata": {
    "colab": {
      "provenance": []
    },
    "kernelspec": {
      "display_name": "Python 3",
      "name": "python3"
    },
    "language_info": {
      "name": "python"
    }
  },
  "nbformat": 4,
  "nbformat_minor": 0
}